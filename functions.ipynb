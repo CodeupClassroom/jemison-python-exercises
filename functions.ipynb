{
 "cells": [
  {
   "cell_type": "markdown",
   "id": "b78ac007",
   "metadata": {},
   "source": [
    "# Functions\n",
    "\n",
    "In this lesson, we'll discuss functions.\n",
    "\n",
    "## Using Functions\n",
    "We have already been using some of Python's built-in functions (`max()`, `min()`, etc.)\n",
    "\n",
    "To run, or invoke a function, we call the function by it's name, followed by a set of parenthesis. Inside the the parenthesis are any arguments (objects) that we pass to the function as input. The number of arguments a function takes is determined by the functions design, and can be zero or any positive number. \n",
    ">`function(argument1, argument2, ...)`"
   ]
  },
  {
   "cell_type": "markdown",
   "id": "a0ee615e",
   "metadata": {},
   "source": [
    "Note that writing the name of the function by itself (i.e. without parenthesis) will refer to the function itself, as opposed to running it."
   ]
  },
  {
   "cell_type": "code",
   "execution_count": 1,
   "id": "d4b40c9b",
   "metadata": {},
   "outputs": [
    {
     "data": {
      "text/plain": [
       "<function max>"
      ]
     },
     "execution_count": 1,
     "metadata": {},
     "output_type": "execute_result"
    }
   ],
   "source": [
    "# a reference to the max function\n",
    "max"
   ]
  },
  {
   "cell_type": "code",
   "execution_count": 2,
   "id": "ceb4639f",
   "metadata": {},
   "outputs": [
    {
     "data": {
      "text/plain": [
       "4"
      ]
     },
     "execution_count": 2,
     "metadata": {},
     "output_type": "execute_result"
    }
   ],
   "source": [
    "# calling the max function with 1 argument, a list of numbers\n",
    "max([4, 2, 3, 1])"
   ]
  },
  {
   "cell_type": "markdown",
   "id": "60f25b5e",
   "metadata": {},
   "source": [
    "The value our function produces, also called the **return value**, can be **assigned** to a **variable**, or used as an **argument** to another function"
   ]
  },
  {
   "cell_type": "code",
   "execution_count": 3,
   "id": "2d5d4a34",
   "metadata": {},
   "outputs": [],
   "source": [
    "maximum_number = max([4, 2, 3, 1])"
   ]
  },
  {
   "cell_type": "code",
   "execution_count": 4,
   "id": "c8d63161",
   "metadata": {},
   "outputs": [
    {
     "name": "stdout",
     "output_type": "stream",
     "text": [
      "4\n"
     ]
    }
   ],
   "source": [
    "print(maximum_number)"
   ]
  },
  {
   "cell_type": "markdown",
   "id": "91982722",
   "metadata": {},
   "source": [
    "In the example below, the return value of the max function is being passed as an argument to the `str()` function."
   ]
  },
  {
   "cell_type": "code",
   "execution_count": 5,
   "id": "7255f153",
   "metadata": {},
   "outputs": [
    {
     "name": "stdout",
     "output_type": "stream",
     "text": [
      "The max is: 4\n"
     ]
    }
   ],
   "source": [
    "print('The max is: ' + str(max([4, 2, 3, 1])))"
   ]
  },
  {
   "cell_type": "markdown",
   "id": "8cab7208",
   "metadata": {},
   "source": [
    "In the example below, the variable `maximum_number` contains the stored output of our previous use of the function and is being passed as an argument to the `str()` function."
   ]
  },
  {
   "cell_type": "code",
   "execution_count": 6,
   "id": "ad0e8c53",
   "metadata": {},
   "outputs": [
    {
     "name": "stdout",
     "output_type": "stream",
     "text": [
      "The max is: 4\n"
     ]
    }
   ],
   "source": [
    "print('The max is: ' + str(maximum_number))"
   ]
  },
  {
   "cell_type": "markdown",
   "id": "daa90c8a",
   "metadata": {},
   "source": [
    "## Defining Functions\n",
    "In addition to the built-in functions that are part of the Python language, we can define our own functions. \n",
    "\n",
    "To illustrate this, let's take a look at a very simple function that takes in a number and returns the number plus one."
   ]
  },
  {
   "cell_type": "code",
   "execution_count": 7,
   "id": "79fa35f8",
   "metadata": {},
   "outputs": [],
   "source": [
    "def increment(n):\n",
    "    return n + 1"
   ]
  },
  {
   "cell_type": "markdown",
   "id": "46d91a71",
   "metadata": {},
   "source": [
    "A function definition is made up of several parts:\n",
    "\n",
    "- the keyword `def`\n",
    "- the name of the function, in the example above, `increment`\n",
    "- a set of parenthesis that define the inputs (or *__parameters__*) to the function\n",
    "- the body of the function (everything that is indented after the first line defining the function)\n",
    "- a return statement inside the body of the function\n",
    "- Whatever expression follows the `return` keyword will be the output of the function we've defined.\n",
    "\n",
    "Let's take a look in more detail at how the function executes:"
   ]
  },
  {
   "cell_type": "code",
   "execution_count": 8,
   "id": "2766ff3d",
   "metadata": {},
   "outputs": [
    {
     "name": "stdout",
     "output_type": "stream",
     "text": [
      "4\n"
     ]
    }
   ],
   "source": [
    "four = increment(3)\n",
    "\n",
    "print(four)"
   ]
  },
  {
   "cell_type": "code",
   "execution_count": 9,
   "id": "98383845",
   "metadata": {},
   "outputs": [
    {
     "name": "stdout",
     "output_type": "stream",
     "text": [
      "6\n"
     ]
    }
   ],
   "source": [
    "six = increment(increment(increment(3)))\n",
    "\n",
    "print(six)"
   ]
  },
  {
   "cell_type": "markdown",
   "id": "8c3923f1",
   "metadata": {},
   "source": [
    "The first line is evaluated \"inside-out\", that is:\n",
    "\n",
    "1. The increment function is called with the integer literal `3`\n",
    "1. The output of the first call to the `increment()` function is passed as an argument again to the `increment()` function. At this point, we are calling `increment()` with `4`\n",
    "1. The output from the previous step is again passed in to the `increment()` function.\n",
    "1. Finally, the output from the last call to the `increment()` function is assigned to the variable `six`\n",
    "\n",
    "We can imagine the code executing like this:"
   ]
  },
  {
   "cell_type": "code",
   "execution_count": null,
   "id": "db7479ec",
   "metadata": {},
   "outputs": [],
   "source": [
    "six = increment(increment(increment(3)))\n",
    "six = increment(increment(4))\n",
    "six = increment(5)\n",
    "six = 6"
   ]
  },
  {
   "cell_type": "markdown",
   "id": "2c2d66ab",
   "metadata": {},
   "source": [
    "Let's look at another example of return values:"
   ]
  },
  {
   "cell_type": "code",
   "execution_count": 10,
   "id": "2cfd37f7",
   "metadata": {},
   "outputs": [
    {
     "data": {
      "text/plain": [
       "4"
      ]
     },
     "execution_count": 10,
     "metadata": {},
     "output_type": "execute_result"
    }
   ],
   "source": [
    "def increment(n):\n",
    "    return n + 1\n",
    "    print('You will never see this')\n",
    "    return n + 1\n",
    "\n",
    "increment(3)"
   ]
  },
  {
   "cell_type": "markdown",
   "id": "4e25980f",
   "metadata": {},
   "source": [
    "When a `return` statement is encountered, the function will immediately `return` to where it is called. \n",
    "\n",
    "Put another way: a function only ever execute one `return` statement, and when a `return` statement is reached, no more code in the function will be executed.\n",
    "\n",
    "## Arguments / Parameters\n",
    "We have been using these terms already, but, formally:\n",
    "\n",
    "- an *argument* is the value a function is called with\n",
    "- a *parameter* is part of a function's definition; a placeholder for an argument\n",
    "\n",
    "You can think of parameters as a special kind of variable that takes on the value of the function's arguments each time it is called."
   ]
  },
  {
   "cell_type": "code",
   "execution_count": 11,
   "id": "5a3a0652",
   "metadata": {},
   "outputs": [],
   "source": [
    "def add(a, b):\n",
    "    result = a + b\n",
    "    return result\n",
    "\n",
    "x = 3\n",
    "seven = add(x, 4)"
   ]
  },
  {
   "cell_type": "markdown",
   "id": "537a4fa1",
   "metadata": {},
   "source": [
    "Here `a` and `b` are the parameters of the `add()` function.\n",
    "\n",
    "On the last line above, when the function is called, the arguments are the value of the variable `x`, and `4`.\n",
    "\n",
    "All of our examples thus far have contained both inputs and outputs, but these are actually both optional."
   ]
  },
  {
   "cell_type": "code",
   "execution_count": null,
   "id": "2cef41a7",
   "metadata": {},
   "outputs": [],
   "source": [
    "def shout(message):\n",
    "    print(message.upper() + '!!!')"
   ]
  },
  {
   "cell_type": "code",
   "execution_count": null,
   "id": "560be8d3",
   "metadata": {},
   "outputs": [],
   "source": [
    "return_value = shout('hey there')"
   ]
  },
  {
   "cell_type": "code",
   "execution_count": 12,
   "id": "b9cea9f0",
   "metadata": {},
   "outputs": [
    {
     "name": "stdout",
     "output_type": "stream",
     "text": [
      "HEY THERE!!!\n",
      "None\n"
     ]
    }
   ],
   "source": [
    "print(return_value)"
   ]
  },
  {
   "cell_type": "markdown",
   "id": "d427d5cd",
   "metadata": {},
   "source": [
    "Here the `shout()` function **does not have a return value**, and when we try to store it in a variable and print it, we see that the special value `None` is produced (recall that None indicates the absence of a value)."
   ]
  },
  {
   "cell_type": "code",
   "execution_count": 13,
   "id": "dc4791b1",
   "metadata": {},
   "outputs": [
    {
     "name": "stdout",
     "output_type": "stream",
     "text": [
      "Hey there!\n"
     ]
    }
   ],
   "source": [
    "def sayhello():\n",
    "    print('Hey there!')\n",
    "\n",
    "sayhello()"
   ]
  },
  {
   "cell_type": "markdown",
   "id": "b6bb0c03",
   "metadata": {},
   "source": [
    "Here the `sayhello()` function takes in no inputs and produces no outputs. In fact, it would be an error to call this function with any arguments:"
   ]
  },
  {
   "cell_type": "code",
   "execution_count": 14,
   "id": "f1c3397b",
   "metadata": {},
   "outputs": [
    {
     "ename": "TypeError",
     "evalue": "sayhello() takes 0 positional arguments but 1 was given",
     "output_type": "error",
     "traceback": [
      "\u001b[0;31m---------------------------------------------------------------------------\u001b[0m",
      "\u001b[0;31mTypeError\u001b[0m                                 Traceback (most recent call last)",
      "\u001b[0;32m<ipython-input-14-6836f6e880ec>\u001b[0m in \u001b[0;36m<module>\u001b[0;34m\u001b[0m\n\u001b[0;32m----> 1\u001b[0;31m \u001b[0msayhello\u001b[0m\u001b[0;34m(\u001b[0m\u001b[0;36m123\u001b[0m\u001b[0;34m)\u001b[0m\u001b[0;34m\u001b[0m\u001b[0;34m\u001b[0m\u001b[0m\n\u001b[0m",
      "\u001b[0;31mTypeError\u001b[0m: sayhello() takes 0 positional arguments but 1 was given"
     ]
    }
   ],
   "source": [
    "sayhello(123)"
   ]
  },
  {
   "cell_type": "markdown",
   "id": "aa155329",
   "metadata": {},
   "source": [
    "### Default Values\n",
    "Functions can define default values for **parameters**, which allows you to either specify the **argument** or leave it out when the function is called."
   ]
  },
  {
   "cell_type": "code",
   "execution_count": 15,
   "id": "62068615",
   "metadata": {},
   "outputs": [],
   "source": [
    "def sayhello(name='World', greeting='Hello'):\n",
    "    return '{}, {}!'.format(greeting, name)"
   ]
  },
  {
   "cell_type": "markdown",
   "id": "6322f5a5",
   "metadata": {},
   "source": [
    "This function can be called with no arguments, and the specified default values will be used, or we can expliciltly pass a name, or a name and a greeting."
   ]
  },
  {
   "cell_type": "code",
   "execution_count": 16,
   "id": "5e9e31cd",
   "metadata": {},
   "outputs": [
    {
     "data": {
      "text/plain": [
       "'Hello, World!'"
      ]
     },
     "execution_count": 16,
     "metadata": {},
     "output_type": "execute_result"
    }
   ],
   "source": [
    "sayhello()"
   ]
  },
  {
   "cell_type": "code",
   "execution_count": 17,
   "id": "0aae66c3",
   "metadata": {},
   "outputs": [
    {
     "data": {
      "text/plain": [
       "'Hello, Codeup!'"
      ]
     },
     "execution_count": 17,
     "metadata": {},
     "output_type": "execute_result"
    }
   ],
   "source": [
    "sayhello('Codeup')"
   ]
  },
  {
   "cell_type": "code",
   "execution_count": 18,
   "id": "bf062a86",
   "metadata": {},
   "outputs": [
    {
     "data": {
      "text/plain": [
       "'Salutations, Codeup!'"
      ]
     },
     "execution_count": 18,
     "metadata": {},
     "output_type": "execute_result"
    }
   ],
   "source": [
    "sayhello('Codeup', 'Salutations')"
   ]
  },
  {
   "cell_type": "markdown",
   "id": "3190fdc4",
   "metadata": {},
   "source": [
    "Of course, remembering the order of the parameters is important when passing arguments:"
   ]
  },
  {
   "cell_type": "code",
   "execution_count": 19,
   "id": "07ffc964",
   "metadata": {},
   "outputs": [
    {
     "data": {
      "text/plain": [
       "'Codeup, Salutations!'"
      ]
     },
     "execution_count": 19,
     "metadata": {},
     "output_type": "execute_result"
    }
   ],
   "source": [
    "sayhello('Salutations', 'Codeup')"
   ]
  },
  {
   "cell_type": "markdown",
   "id": "ef66d856",
   "metadata": {},
   "source": [
    "### Keyword Arguments\n",
    "Thus far, we have seen examples of functions that rely on positional arguments. Which string was assigned to name and which string was assigned to greeting depended on the position of the arguments, that is, which one was specified first and which one was second.\n",
    "\n",
    "We can also specify arguments by their name."
   ]
  },
  {
   "cell_type": "code",
   "execution_count": 20,
   "id": "13ae86b0",
   "metadata": {},
   "outputs": [
    {
     "data": {
      "text/plain": [
       "'Saluatations, Codeup!'"
      ]
     },
     "execution_count": 20,
     "metadata": {},
     "output_type": "execute_result"
    }
   ],
   "source": [
    "sayhello(greeting='Saluatations', name='Codeup')"
   ]
  },
  {
   "cell_type": "markdown",
   "id": "049d3907",
   "metadata": {},
   "source": [
    "When arguments are specified in this way we say they are keyword arguments, and their order does not matter. \n",
    "\n",
    "The only restriction is that keyword arguments must come after any positional arguments."
   ]
  },
  {
   "cell_type": "code",
   "execution_count": 21,
   "id": "39bc0948",
   "metadata": {},
   "outputs": [
    {
     "data": {
      "text/plain": [
       "'Salutations, Codeup!'"
      ]
     },
     "execution_count": 21,
     "metadata": {},
     "output_type": "execute_result"
    }
   ],
   "source": [
    "sayhello('Codeup', greeting='Salutations') # Okay"
   ]
  },
  {
   "cell_type": "code",
   "execution_count": 22,
   "id": "21be5e64",
   "metadata": {},
   "outputs": [
    {
     "ename": "SyntaxError",
     "evalue": "positional argument follows keyword argument (<ipython-input-22-efee9975a519>, line 1)",
     "output_type": "error",
     "traceback": [
      "\u001b[0;36m  File \u001b[0;32m\"<ipython-input-22-efee9975a519>\"\u001b[0;36m, line \u001b[0;32m1\u001b[0m\n\u001b[0;31m    sayhello(greeting='Salutations', 'Codeup') # ERROR!\u001b[0m\n\u001b[0m                                     ^\u001b[0m\n\u001b[0;31mSyntaxError\u001b[0m\u001b[0;31m:\u001b[0m positional argument follows keyword argument\n"
     ]
    }
   ],
   "source": [
    "sayhello(greeting='Salutations', 'Codeup') # ERROR!"
   ]
  },
  {
   "cell_type": "markdown",
   "id": "226c997e",
   "metadata": {},
   "source": [
    "### Calling Functions\n",
    "Python provides a way to unpack either a list or a dictionary to use them as function arguments."
   ]
  },
  {
   "cell_type": "code",
   "execution_count": 23,
   "id": "bc4b41c2",
   "metadata": {},
   "outputs": [
    {
     "data": {
      "text/plain": [
       "'Salutations, Codeup!'"
      ]
     },
     "execution_count": 23,
     "metadata": {},
     "output_type": "execute_result"
    }
   ],
   "source": [
    "args = ['Codeup', 'Salutations'] # \"args\" is short for \"arguments\"\n",
    "\n",
    "sayhello(*args)"
   ]
  },
  {
   "cell_type": "markdown",
   "id": "ad32ae70",
   "metadata": {},
   "source": [
    "Using the `*` operator in front of a list makes as though we had used each element in the list as an argument to the function. The order of the elements in the list will be the order that they are passed as positional arguments to the function.\n",
    "\n",
    "Similarly, we can unpack a dictionary to use it's values as keyword arguments to a function using the `**` operator."
   ]
  },
  {
   "cell_type": "code",
   "execution_count": 24,
   "id": "d604a2b0",
   "metadata": {},
   "outputs": [
    {
     "data": {
      "text/plain": [
       "'Salutations, Codeup!'"
      ]
     },
     "execution_count": 24,
     "metadata": {},
     "output_type": "execute_result"
    }
   ],
   "source": [
    "kwargs = {'greeting': 'Salutations', 'name': 'Codeup'} # \"kwargs\" is short for \"keyword arguments\"\n",
    "\n",
    "sayhello(**kwargs)"
   ]
  },
  {
   "cell_type": "markdown",
   "id": "872b7f05",
   "metadata": {},
   "source": [
    "## Function Scope\n",
    "**Scope** is a term that describes where a variable can be referenced. \n",
    "\n",
    "If a variable is *in-scope*, then you can reference it, if it is *out-of-scope* then you cannot. Variables created inside of a function are **local** variables and are only in scope inside of the function they are defined in. Variables created outside of functions are **global** variables and are accessible inside of any function.\n",
    "\n",
    "We can access global variables from anywhere:"
   ]
  },
  {
   "cell_type": "code",
   "execution_count": 25,
   "id": "923dded6",
   "metadata": {},
   "outputs": [],
   "source": [
    "a_global_variable = 42"
   ]
  },
  {
   "cell_type": "code",
   "execution_count": 26,
   "id": "1900bd31",
   "metadata": {},
   "outputs": [],
   "source": [
    "def somefunction():\n",
    "    print('Inside the function: %s' % a_global_variable)"
   ]
  },
  {
   "cell_type": "code",
   "execution_count": 27,
   "id": "8546f9f3",
   "metadata": {},
   "outputs": [
    {
     "name": "stdout",
     "output_type": "stream",
     "text": [
      "Inside the function: 42\n"
     ]
    }
   ],
   "source": [
    "somefunction()"
   ]
  },
  {
   "cell_type": "code",
   "execution_count": 28,
   "id": "5979d973",
   "metadata": {},
   "outputs": [
    {
     "name": "stdout",
     "output_type": "stream",
     "text": [
      "Outside the function: 42\n"
     ]
    }
   ],
   "source": [
    "print('Outside the function: %s' % a_global_variable)"
   ]
  },
  {
   "cell_type": "markdown",
   "id": "d326140a",
   "metadata": {},
   "source": [
    "But variables defined within a function are only available in the function body:"
   ]
  },
  {
   "cell_type": "code",
   "execution_count": 29,
   "id": "3b649044",
   "metadata": {},
   "outputs": [],
   "source": [
    "def somefunction():\n",
    "    a_local_variable = 'pizza'\n",
    "    print('Inside the function: %s' % a_local_variable)"
   ]
  },
  {
   "cell_type": "code",
   "execution_count": 30,
   "id": "05a943da",
   "metadata": {},
   "outputs": [
    {
     "name": "stdout",
     "output_type": "stream",
     "text": [
      "Inside the function: pizza\n"
     ]
    }
   ],
   "source": [
    "somefunction()"
   ]
  },
  {
   "cell_type": "code",
   "execution_count": 31,
   "id": "a405a33a",
   "metadata": {},
   "outputs": [
    {
     "ename": "NameError",
     "evalue": "name 'a_local_variable' is not defined",
     "output_type": "error",
     "traceback": [
      "\u001b[0;31m---------------------------------------------------------------------------\u001b[0m",
      "\u001b[0;31mNameError\u001b[0m                                 Traceback (most recent call last)",
      "\u001b[0;32m<ipython-input-31-a81c133cffd0>\u001b[0m in \u001b[0;36m<module>\u001b[0;34m\u001b[0m\n\u001b[0;32m----> 1\u001b[0;31m \u001b[0mprint\u001b[0m\u001b[0;34m(\u001b[0m\u001b[0;34m'Outside the function: %s'\u001b[0m \u001b[0;34m%\u001b[0m \u001b[0ma_local_variable\u001b[0m\u001b[0;34m)\u001b[0m\u001b[0;34m\u001b[0m\u001b[0;34m\u001b[0m\u001b[0m\n\u001b[0m",
      "\u001b[0;31mNameError\u001b[0m: name 'a_local_variable' is not defined"
     ]
    }
   ],
   "source": [
    "print('Outside the function: %s' % a_local_variable)"
   ]
  },
  {
   "cell_type": "markdown",
   "id": "b7ea7585",
   "metadata": {},
   "source": [
    "When we try to print a_local_variable outside the function, it is no longer in-scope, and we get an error saying that the variable is not defined.\n",
    "\n",
    "We can also define a local variable with the same name as a global variable. This is called shadowing. Under these circumstances, *inside the function in which it is defined*, the name will refer to the local variable, but the global variable will remain unchanged."
   ]
  },
  {
   "cell_type": "code",
   "execution_count": 32,
   "id": "199ffa9f",
   "metadata": {},
   "outputs": [],
   "source": [
    "n = 123"
   ]
  },
  {
   "cell_type": "code",
   "execution_count": 33,
   "id": "9259b2c1",
   "metadata": {},
   "outputs": [],
   "source": [
    "def somefunction():\n",
    "    n = 10\n",
    "    n = n - 3\n",
    "    print('Inside the function, n == %s' % n)"
   ]
  },
  {
   "cell_type": "code",
   "execution_count": 34,
   "id": "08fc0fb5",
   "metadata": {},
   "outputs": [
    {
     "name": "stdout",
     "output_type": "stream",
     "text": [
      "Outside the function, n == 123\n"
     ]
    }
   ],
   "source": [
    "print('Outside the function, n == %s' % n)"
   ]
  },
  {
   "cell_type": "code",
   "execution_count": 35,
   "id": "a8540844",
   "metadata": {},
   "outputs": [
    {
     "name": "stdout",
     "output_type": "stream",
     "text": [
      "Inside the function, n == 7\n"
     ]
    }
   ],
   "source": [
    "somefunction()"
   ]
  },
  {
   "cell_type": "code",
   "execution_count": 36,
   "id": "b7152fd9",
   "metadata": {},
   "outputs": [
    {
     "name": "stdout",
     "output_type": "stream",
     "text": [
      "Outside the function, n == 123\n"
     ]
    }
   ],
   "source": [
    "print('Outside the function, n == %s' % n)"
   ]
  },
  {
   "cell_type": "markdown",
   "id": "54ae914f",
   "metadata": {},
   "source": [
    "## Lambda Functions\n",
    "For functions that contain a single return statement in the function body, python provides a lamdba function. This is a function that accepts 0 or more inputs, and only executes a single return statement (note the return keyword is implied and not required).\n",
    "\n",
    "Here are some examples of lambda functions:"
   ]
  },
  {
   "cell_type": "code",
   "execution_count": 37,
   "id": "a0b204b3",
   "metadata": {},
   "outputs": [
    {
     "data": {
      "text/plain": [
       "10"
      ]
     },
     "execution_count": 37,
     "metadata": {},
     "output_type": "execute_result"
    }
   ],
   "source": [
    "add_one = lambda n: n + 1\n",
    "add_one(9)"
   ]
  },
  {
   "cell_type": "code",
   "execution_count": 38,
   "id": "8d0004e8",
   "metadata": {},
   "outputs": [
    {
     "data": {
      "text/plain": [
       "<function __main__.<lambda>(n)>"
      ]
     },
     "execution_count": 38,
     "metadata": {},
     "output_type": "execute_result"
    }
   ],
   "source": [
    "add_one"
   ]
  },
  {
   "cell_type": "code",
   "execution_count": 39,
   "id": "ba4da5a8",
   "metadata": {},
   "outputs": [
    {
     "data": {
      "text/plain": [
       "81"
      ]
     },
     "execution_count": 39,
     "metadata": {},
     "output_type": "execute_result"
    }
   ],
   "source": [
    "square = lambda n: n ** 2\n",
    "square(9)"
   ]
  },
  {
   "cell_type": "markdown",
   "id": "2ac8b2db",
   "metadata": {},
   "source": [
    "## Exercises\n",
    "\n",
    "Create a file named `function_exercises.py` for this exercise. After creating each function specified below, write the necessary code in order to test your function.\n",
    "\n",
    "1. Define a function named `is_two`. It should accept one input and return `True` if the passed input is either the number or the string `2`, `False` otherwise.\n",
    "\n",
    "\n",
    "2. Define a function named `is_vowel`. It should return `True` if the passed string is a vowel, `False` otherwise.\n",
    "\n",
    "\n",
    "3. Define a function named `is_consonant`. It should return `True` if the passed string is a consonant, `False` otherwise. Use your `is_vowel` function to accomplish this.\n",
    "\n",
    "\n",
    "4. Define a function that accepts a string that is a word. The function should capitalize the first letter of the word if the word starts with a consonant.\n",
    "\n",
    "\n",
    "5. Define a function named `calculate_tip`. It should accept a tip percentage (a number between 0 and 1) and the bill total, and return the amount to tip.\n",
    "\n",
    "\n",
    "6. Define a function named `apply_discount`. It should accept a original price, and a discount percentage, and return the price after the discount is applied.\n",
    "\n",
    "\n",
    "7. Define a function named `handle_commas`. It should accept a string that is a number that contains commas in it as input, and return a number as output.\n",
    "\n",
    "\n",
    "8. Define a function named `get_letter_grade`. It should accept a number and return the letter grade associated with that number (A-F).\n",
    "\n",
    "\n",
    "9. Define a function named `remove_vowels` that accepts a string and returns a string with all the vowels removed.\n",
    "\n",
    "\n",
    "10. Define a function named `normalize_name`. It should accept a string and return a valid python identifier, that is\n",
    "    - Anything that is not a valid python identifier should be removed\n",
    "    - Leading and trailing whitespace should be removed\n",
    "    - Everything should be lowercase\n",
    "    - Spaces should be replaced with underscores\n",
    "    - For example:\n",
    "        - `Name` will become `name`\n",
    "        - `First Name` will become `first_name`\n",
    "        - `% Completed` will become `completed`\n",
    "\n",
    "\n",
    "11. Write a function named cumulative_sum that accepts a list of numbers and returns a list that is the cumulative sum of the numbers in the list.\n",
    "    - `cumulative_sum([1, 1, 1])` returns `[1, 2, 3]`\n",
    "    - `cumulative_sum([1, 2, 3, 4])` returns `[1, 3, 6, 10]`\n",
    "\n",
    "\n",
    "#### Additional Exercise\n",
    "Once you've completed the above exercises, follow the directions from https://gist.github.com/zgulde/ec8ed80ad8216905cda83d5645c60886 in order to thouroughly comment your code to explain your code.\n",
    "\n",
    "\n",
    "#### Bonus\n",
    "12. Create a function named `twelveto24`. It should accept a string in the format 10:45am or 4:30pm and return a string that is the representation of the time in a 24-hour format. Bonus write a function that does the opposite.\n",
    "13. Create a function named `col_index`. It should accept a spreadsheet column name, and return the index number of the column.\n",
    "    - `col_index('A')` returns `1`\n",
    "    - `col_index('B')` returns `2`\n",
    "    - `col_index('AA')` returns `27`"
   ]
  },
  {
   "cell_type": "code",
   "execution_count": null,
   "id": "a9128e1a",
   "metadata": {},
   "outputs": [],
   "source": []
  },
  {
   "cell_type": "code",
   "execution_count": null,
   "id": "5feabf82",
   "metadata": {},
   "outputs": [],
   "source": []
  }
 ],
 "metadata": {
  "kernelspec": {
   "display_name": "Python 3",
   "language": "python",
   "name": "python3"
  },
  "language_info": {
   "codemirror_mode": {
    "name": "ipython",
    "version": 3
   },
   "file_extension": ".py",
   "mimetype": "text/x-python",
   "name": "python",
   "nbconvert_exporter": "python",
   "pygments_lexer": "ipython3",
   "version": "3.8.8"
  }
 },
 "nbformat": 4,
 "nbformat_minor": 5
}
