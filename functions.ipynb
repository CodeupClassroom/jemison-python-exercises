{
 "cells": [
  {
   "cell_type": "markdown",
   "id": "1f210473",
   "metadata": {},
   "source": [
    "# Functions\n",
    "\n",
    "In this lesson, we'll discuss functions.\n",
    "\n",
    "## Using Functions\n",
    "We have already been using some of Python's built-in functions (`max()`, `min()`, etc.)\n",
    "\n",
    "To run, or invoke a function, we call the function by it's name, followed by a set of parenthesis. Inside the the parenthesis are any arguments (objects) that we pass to the function as input. The number of arguments a function takes is determined by the functions design, and can be zero or any positive number. \n",
    ">`function(argument1, argument2, ...)`"
   ]
  },
  {
   "cell_type": "markdown",
   "id": "0acabdb7",
   "metadata": {},
   "source": [
    "Note that writing the name of the function by itself (i.e. without parenthesis) will refer to the function itself, as opposed to running it."
   ]
  },
  {
   "cell_type": "code",
   "execution_count": null,
   "id": "26fdfd4e",
   "metadata": {},
   "outputs": [],
   "source": [
    "# a reference to the max function\n",
    "max"
   ]
  },
  {
   "cell_type": "code",
   "execution_count": null,
   "id": "3e003c70",
   "metadata": {},
   "outputs": [],
   "source": [
    "# calling the max function with 1 argument, a list of numbers\n",
    "max([4, 2, 3, 1])"
   ]
  },
  {
   "cell_type": "markdown",
   "id": "539a3d53",
   "metadata": {},
   "source": [
    "The value our function produces, also called the **return value**, can be **assigned** to a **variable**, or used as an **argument** to another function"
   ]
  },
  {
   "cell_type": "code",
   "execution_count": null,
   "id": "992b9086",
   "metadata": {},
   "outputs": [],
   "source": [
    "maximum_number = max([4, 2, 3, 1])"
   ]
  },
  {
   "cell_type": "code",
   "execution_count": null,
   "id": "2f67b325",
   "metadata": {},
   "outputs": [],
   "source": [
    "print(maximum_number)"
   ]
  },
  {
   "cell_type": "markdown",
   "id": "770264d3",
   "metadata": {},
   "source": [
    "In the example below, the return value of the max function is being passed as an argument to the `str()` function."
   ]
  },
  {
   "cell_type": "code",
   "execution_count": null,
   "id": "925b1bc4",
   "metadata": {},
   "outputs": [],
   "source": [
    "print('The max is: ' + str(max([4, 2, 3, 1])))"
   ]
  },
  {
   "cell_type": "markdown",
   "id": "530f4ffe",
   "metadata": {},
   "source": [
    "In the example below, the variable `maximum_number` contains the stored output of our previous use of the function and is being passed as an argument to the `str()` function."
   ]
  },
  {
   "cell_type": "code",
   "execution_count": null,
   "id": "422520eb",
   "metadata": {},
   "outputs": [],
   "source": [
    "print('The max is: ' + str(maximum_number))"
   ]
  },
  {
   "cell_type": "markdown",
   "id": "1a5cd107",
   "metadata": {},
   "source": [
    "## Defining Functions\n",
    "In addition to the built-in functions that are part of the Python language, we can define our own functions. \n",
    "\n",
    "To illustrate this, let's take a look at a very simple function that takes in a number and returns the number plus one."
   ]
  },
  {
   "cell_type": "code",
   "execution_count": null,
   "id": "3891b0de",
   "metadata": {},
   "outputs": [],
   "source": [
    "def increment(n):\n",
    "    return n + 1"
   ]
  },
  {
   "cell_type": "markdown",
   "id": "a1fc4db2",
   "metadata": {},
   "source": [
    "A function definition is made up of several parts:\n",
    "\n",
    "- the keyword `def`\n",
    "- the name of the function, in the example above, `increment`\n",
    "- a set of parenthesis that define the inputs (or *__parameters__*) to the function\n",
    "- the body of the function (everything that is indented after the first line defining the function)\n",
    "- a return statement inside the body of the function\n",
    "- Whatever expression follows the `return` keyword will be the output of the function we've defined.\n",
    "\n",
    "Let's take a look in more detail at how the function executes:"
   ]
  },
  {
   "cell_type": "code",
   "execution_count": null,
   "id": "b8a4794c",
   "metadata": {},
   "outputs": [],
   "source": [
    "four = increment(3)\n",
    "\n",
    "print(four)"
   ]
  },
  {
   "cell_type": "code",
   "execution_count": null,
   "id": "34413d2e",
   "metadata": {},
   "outputs": [],
   "source": [
    "six = increment(increment(increment(3)))\n",
    "\n",
    "print(six)"
   ]
  },
  {
   "cell_type": "markdown",
   "id": "38a5a7b7",
   "metadata": {},
   "source": [
    "The first line is evaluated \"inside-out\", that is:\n",
    "\n",
    "1. The increment function is called with the integer literal `3`\n",
    "1. The output of the first call to the `increment()` function is passed as an argument again to the `increment()` function. At this point, we are calling `increment()` with `4`\n",
    "1. The output from the previous step is again passed in to the `increment()` function.\n",
    "1. Finally, the output from the last call to the `increment()` function is assigned to the variable `six`\n",
    "\n",
    "We can imagine the code executing like this:"
   ]
  },
  {
   "cell_type": "code",
   "execution_count": null,
   "id": "5454b645",
   "metadata": {},
   "outputs": [],
   "source": [
    "six = increment(increment(increment(3)))\n",
    "six = increment(increment(4))\n",
    "six = increment(5)\n",
    "six = 6"
   ]
  },
  {
   "cell_type": "markdown",
   "id": "8b59e051",
   "metadata": {},
   "source": [
    "Let's look at another example of return values:"
   ]
  },
  {
   "cell_type": "code",
   "execution_count": null,
   "id": "3a72dede",
   "metadata": {},
   "outputs": [],
   "source": [
    "def increment(n):\n",
    "    return n + 1\n",
    "    print('You will never see this')\n",
    "    return n + 1\n",
    "\n",
    "increment(3)"
   ]
  },
  {
   "cell_type": "markdown",
   "id": "8d7a4b54",
   "metadata": {},
   "source": [
    "When a `return` statement is encountered, the function will immediately `return` to where it is called. \n",
    "\n",
    "Put another way: a function only ever execute one `return` statement, and when a `return` statement is reached, no more code in the function will be executed.\n",
    "\n",
    "## Arguments / Parameters\n",
    "We have been using these terms already, but, formally:\n",
    "\n",
    "- an *argument* is the value a function is called with\n",
    "- a *parameter* is part of a function's definition; a placeholder for an argument\n",
    "\n",
    "You can think of parameters as a special kind of variable that takes on the value of the function's arguments each time it is called."
   ]
  },
  {
   "cell_type": "code",
   "execution_count": null,
   "id": "06cf9d47",
   "metadata": {},
   "outputs": [],
   "source": [
    "def add(a, b):\n",
    "    result = a + b\n",
    "    return result\n",
    "\n",
    "x = 3\n",
    "seven = add(x, 4)"
   ]
  },
  {
   "cell_type": "markdown",
   "id": "c32fbcf7",
   "metadata": {},
   "source": [
    "Here `a` and `b` are the parameters of the `add()` function.\n",
    "\n",
    "On the last line above, when the function is called, the arguments are the value of the variable `x`, and `4`.\n",
    "\n",
    "All of our examples thus far have contained both inputs and outputs, but these are actually both optional."
   ]
  },
  {
   "cell_type": "code",
   "execution_count": null,
   "id": "11c96ae5",
   "metadata": {},
   "outputs": [],
   "source": [
    "def shout(message):\n",
    "    print(message.upper() + '!!!')"
   ]
  },
  {
   "cell_type": "code",
   "execution_count": null,
   "id": "81695faa",
   "metadata": {},
   "outputs": [],
   "source": [
    "return_value = shout('hey there')"
   ]
  },
  {
   "cell_type": "code",
   "execution_count": null,
   "id": "220d87d9",
   "metadata": {},
   "outputs": [],
   "source": [
    "print(return_value)"
   ]
  },
  {
   "cell_type": "markdown",
   "id": "312e611b",
   "metadata": {},
   "source": [
    "Here the `shout()` function **does not have a return value**, and when we try to store it in a variable and print it, we see that the special value `None` is produced (recall that None indicates the absence of a value)."
   ]
  },
  {
   "cell_type": "code",
   "execution_count": null,
   "id": "5ea93554",
   "metadata": {},
   "outputs": [],
   "source": [
    "def sayhello():\n",
    "    print('Hey there!')\n",
    "\n",
    "sayhello()"
   ]
  },
  {
   "cell_type": "markdown",
   "id": "e1f1dffb",
   "metadata": {},
   "source": [
    "Here the `sayhello()` function takes in no inputs and produces no outputs. In fact, it would be an error to call this function with any arguments:"
   ]
  },
  {
   "cell_type": "code",
   "execution_count": null,
   "id": "e7abc23f",
   "metadata": {},
   "outputs": [],
   "source": [
    "sayhello(123)"
   ]
  },
  {
   "cell_type": "markdown",
   "id": "46280e38",
   "metadata": {},
   "source": [
    "### Default Values\n",
    "Functions can define default values for **parameters**, which allows you to either specify the **argument** or leave it out when the function is called."
   ]
  },
  {
   "cell_type": "code",
   "execution_count": null,
   "id": "f836ae56",
   "metadata": {},
   "outputs": [],
   "source": [
    "def sayhello(name='World', greeting='Hello'):\n",
    "    return '{}, {}!'.format(greeting, name)"
   ]
  },
  {
   "cell_type": "markdown",
   "id": "d03d8d53",
   "metadata": {},
   "source": [
    "This function can be called with no arguments, and the specified default values will be used, or we can expliciltly pass a name, or a name and a greeting."
   ]
  },
  {
   "cell_type": "code",
   "execution_count": null,
   "id": "0cef9cb5",
   "metadata": {},
   "outputs": [],
   "source": [
    "sayhello()"
   ]
  },
  {
   "cell_type": "code",
   "execution_count": null,
   "id": "34362df3",
   "metadata": {},
   "outputs": [],
   "source": [
    "sayhello('Codeup')"
   ]
  },
  {
   "cell_type": "code",
   "execution_count": null,
   "id": "11e9da6e",
   "metadata": {},
   "outputs": [],
   "source": [
    "sayhello('Codeup', 'Salutations')"
   ]
  },
  {
   "cell_type": "markdown",
   "id": "74212e92",
   "metadata": {},
   "source": [
    "Of course, remembering the order of the parameters is important when passing arguments:"
   ]
  },
  {
   "cell_type": "code",
   "execution_count": null,
   "id": "1585e990",
   "metadata": {},
   "outputs": [],
   "source": [
    "sayhello('Salutations', 'Codeup')"
   ]
  },
  {
   "cell_type": "markdown",
   "id": "65ac8724",
   "metadata": {},
   "source": [
    "### Keyword Arguments\n",
    "Thus far, we have seen examples of functions that rely on positional arguments. Which string was assigned to name and which string was assigned to greeting depended on the position of the arguments, that is, which one was specified first and which one was second.\n",
    "\n",
    "We can also specify arguments by their name."
   ]
  },
  {
   "cell_type": "code",
   "execution_count": null,
   "id": "5e7b60d4",
   "metadata": {},
   "outputs": [],
   "source": [
    "sayhello(greeting='Saluatations', name='Codeup')"
   ]
  },
  {
   "cell_type": "markdown",
   "id": "2a54f6fe",
   "metadata": {},
   "source": [
    "When arguments are specified in this way we say they are keyword arguments, and their order does not matter. \n",
    "\n",
    "The only restriction is that keyword arguments must come after any positional arguments."
   ]
  },
  {
   "cell_type": "code",
   "execution_count": null,
   "id": "c033eae5",
   "metadata": {},
   "outputs": [],
   "source": [
    "sayhello('Codeup', greeting='Salutations') # Okay"
   ]
  },
  {
   "cell_type": "code",
   "execution_count": null,
   "id": "b05ff165",
   "metadata": {},
   "outputs": [],
   "source": [
    "sayhello(greeting='Salutations', 'Codeup') # ERROR!"
   ]
  },
  {
   "cell_type": "markdown",
   "id": "ff30e83b",
   "metadata": {},
   "source": [
    "### Calling Functions\n",
    "Python provides a way to unpack either a list or a dictionary to use them as function arguments."
   ]
  },
  {
   "cell_type": "code",
   "execution_count": null,
   "id": "9183405d",
   "metadata": {},
   "outputs": [],
   "source": [
    "args = ['Codeup', 'Salutations'] # \"args\" is short for \"arguments\"\n",
    "\n",
    "sayhello(*args)"
   ]
  },
  {
   "cell_type": "markdown",
   "id": "82ba7370",
   "metadata": {},
   "source": [
    "Using the `*` operator in front of a list makes as though we had used each element in the list as an argument to the function. The order of the elements in the list will be the order that they are passed as positional arguments to the function.\n",
    "\n",
    "Similarly, we can unpack a dictionary to use it's values as keyword arguments to a function using the `**` operator."
   ]
  },
  {
   "cell_type": "code",
   "execution_count": null,
   "id": "fa30074f",
   "metadata": {},
   "outputs": [],
   "source": [
    "kwargs = {'greeting': 'Salutations', 'name': 'Codeup'} # \"kwargs\" is short for \"keyword arguments\"\n",
    "\n",
    "sayhello(**kwargs)"
   ]
  },
  {
   "cell_type": "markdown",
   "id": "1762c20b",
   "metadata": {},
   "source": [
    "## Function Scope\n",
    "**Scope** is a term that describes where a variable can be referenced. \n",
    "\n",
    "If a variable is *in-scope*, then you can reference it, if it is *out-of-scope* then you cannot. Variables created inside of a function are **local** variables and are only in scope inside of the function they are defined in. Variables created outside of functions are **global** variables and are accessible inside of any function.\n",
    "\n",
    "We can access global variables from anywhere:"
   ]
  },
  {
   "cell_type": "code",
   "execution_count": null,
   "id": "bc1fd788",
   "metadata": {},
   "outputs": [],
   "source": [
    "a_global_variable = 42"
   ]
  },
  {
   "cell_type": "code",
   "execution_count": null,
   "id": "b4b86b24",
   "metadata": {},
   "outputs": [],
   "source": [
    "def somefunction():\n",
    "    print('Inside the function: %s' % a_global_variable)"
   ]
  },
  {
   "cell_type": "code",
   "execution_count": null,
   "id": "9f921903",
   "metadata": {},
   "outputs": [],
   "source": [
    "somefunction()"
   ]
  },
  {
   "cell_type": "code",
   "execution_count": null,
   "id": "dff17326",
   "metadata": {},
   "outputs": [],
   "source": [
    "print('Outside the function: %s' % a_global_variable)"
   ]
  },
  {
   "cell_type": "markdown",
   "id": "fe790dfa",
   "metadata": {},
   "source": [
    "But variables defined within a function are only available in the function body:"
   ]
  },
  {
   "cell_type": "code",
   "execution_count": null,
   "id": "fc08fed5",
   "metadata": {},
   "outputs": [],
   "source": [
    "def somefunction():\n",
    "    a_local_variable = 'pizza'\n",
    "    print('Inside the function: %s' % a_local_variable)"
   ]
  },
  {
   "cell_type": "code",
   "execution_count": null,
   "id": "c664fa93",
   "metadata": {},
   "outputs": [],
   "source": [
    "somefunction()"
   ]
  },
  {
   "cell_type": "code",
   "execution_count": null,
   "id": "04e424f7",
   "metadata": {},
   "outputs": [],
   "source": [
    "print('Outside the function: %s' % a_local_variable)"
   ]
  },
  {
   "cell_type": "markdown",
   "id": "71b5388e",
   "metadata": {},
   "source": [
    "When we try to print a_local_variable outside the function, it is no longer in-scope, and we get an error saying that the variable is not defined.\n",
    "\n",
    "We can also define a local variable with the same name as a global variable. This is called shadowing. Under these circumstances, *inside the function in which it is defined*, the name will refer to the local variable, but the global variable will remain unchanged."
   ]
  },
  {
   "cell_type": "code",
   "execution_count": null,
   "id": "d0b1b57d",
   "metadata": {},
   "outputs": [],
   "source": [
    "n = 123"
   ]
  },
  {
   "cell_type": "code",
   "execution_count": null,
   "id": "8ad33967",
   "metadata": {},
   "outputs": [],
   "source": [
    "def somefunction():\n",
    "    n = 10\n",
    "    n = n - 3\n",
    "    print('Inside the function, n == %s' % n)"
   ]
  },
  {
   "cell_type": "code",
   "execution_count": null,
   "id": "0395a06b",
   "metadata": {},
   "outputs": [],
   "source": [
    "print('Outside the function, n == %s' % n)"
   ]
  },
  {
   "cell_type": "code",
   "execution_count": null,
   "id": "5aa32a09",
   "metadata": {},
   "outputs": [],
   "source": [
    "somefunction()"
   ]
  },
  {
   "cell_type": "code",
   "execution_count": null,
   "id": "48607b5b",
   "metadata": {},
   "outputs": [],
   "source": [
    "print('Outside the function, n == %s' % n)"
   ]
  },
  {
   "cell_type": "markdown",
   "id": "adc87fe6",
   "metadata": {},
   "source": [
    "## Lambda Functions\n",
    "For functions that contain a single return statement in the function body, python provides a lamdba function. This is a function that accepts 0 or more inputs, and only executes a single return statement (note the return keyword is implied and not required).\n",
    "\n",
    "Here are some examples of lambda functions:"
   ]
  },
  {
   "cell_type": "code",
   "execution_count": null,
   "id": "51338c7e",
   "metadata": {},
   "outputs": [],
   "source": [
    "add_one = lambda n: n + 1\n",
    "add_one(9)"
   ]
  },
  {
   "cell_type": "code",
   "execution_count": null,
   "id": "8676ddc0",
   "metadata": {},
   "outputs": [],
   "source": [
    "add_one"
   ]
  },
  {
   "cell_type": "code",
   "execution_count": null,
   "id": "a3291dd4",
   "metadata": {},
   "outputs": [],
   "source": [
    "square = lambda n: n ** 2\n",
    "square(9)"
   ]
  },
  {
   "cell_type": "markdown",
   "id": "6e2683f6",
   "metadata": {},
   "source": [
    "## Function Use\n",
    "\n",
    "Fundamentally, functions help us to avoid rewriting code that we frequently use. Like anything else, they can be placed into a control flow scheme:"
   ]
  },
  {
   "cell_type": "code",
   "execution_count": 1,
   "id": "f0e84844",
   "metadata": {},
   "outputs": [],
   "source": [
    "def if_even(num):\n",
    "    print('This number is even!')\n",
    "    print(f'The square of this number is {num * num}')"
   ]
  },
  {
   "cell_type": "code",
   "execution_count": 2,
   "id": "f47d6971",
   "metadata": {},
   "outputs": [],
   "source": [
    "def if_odd(num):\n",
    "    print('This number is odd!')\n",
    "    print(f'The cube of this number is {num ** 3}')"
   ]
  },
  {
   "cell_type": "code",
   "execution_count": 3,
   "id": "7986745c",
   "metadata": {},
   "outputs": [
    {
     "name": "stdout",
     "output_type": "stream",
     "text": [
      "This number is odd!\n",
      "The cube of this number is 343\n"
     ]
    }
   ],
   "source": [
    "num = 7\n",
    "if num == 0:\n",
    "    print('This is not even. This is not odd. This is special.')\n",
    "elif num % 2 == 0:\n",
    "    if_even(num)\n",
    "else:\n",
    "    if_odd(num)"
   ]
  },
  {
   "cell_type": "markdown",
   "id": "60b6cc2e",
   "metadata": {},
   "source": [
    "## Exercises\n",
    "\n",
    "Create a file named `function_exercises.py` for this exercise. After creating each function specified below, write the necessary code in order to test your function.\n",
    "\n",
    "1. Define a function named `is_two`. It should accept one input and return `True` if the passed input is either the number or the string `2`, `False` otherwise.\n",
    "\n",
    "\n",
    "2. Define a function named `is_vowel`. It should return `True` if the passed string is a vowel, `False` otherwise.\n",
    "\n",
    "\n",
    "3. Define a function named `is_consonant`. It should return `True` if the passed string is a consonant, `False` otherwise. Use your `is_vowel` function to accomplish this.\n",
    "\n",
    "\n",
    "4. Define a function that accepts a string that is a word. The function should capitalize the first letter of the word if the word starts with a consonant.\n",
    "\n",
    "\n",
    "5. Define a function named `calculate_tip`. It should accept a tip percentage (a number between 0 and 1) and the bill total, and return the amount to tip.\n",
    "\n",
    "\n",
    "6. Define a function named `apply_discount`. It should accept a original price, and a discount percentage, and return the price after the discount is applied.\n",
    "\n",
    "\n",
    "7. Define a function named `handle_commas`. It should accept a string that is a number that contains commas in it as input, and return a number as output.\n",
    "\n",
    "\n",
    "8. Define a function named `get_letter_grade`. It should accept a number and return the letter grade associated with that number (A-F).\n",
    "\n",
    "\n",
    "9. Define a function named `remove_vowels` that accepts a string and returns a string with all the vowels removed.\n",
    "\n",
    "\n",
    "10. Define a function named `normalize_name`. It should accept a string and return a valid python identifier, that is\n",
    "    - Anything that is not a valid python identifier should be removed\n",
    "    - Leading and trailing whitespace should be removed\n",
    "    - Everything should be lowercase\n",
    "    - Spaces should be replaced with underscores\n",
    "    - For example:\n",
    "        - `Name` will become `name`\n",
    "        - `First Name` will become `first_name`\n",
    "        - `% Completed` will become `completed`\n",
    "\n",
    "\n",
    "11. Write a function named cumulative_sum that accepts a list of numbers and returns a list that is the cumulative sum of the numbers in the list.\n",
    "    - `cumulative_sum([1, 1, 1])` returns `[1, 2, 3]`\n",
    "    - `cumulative_sum([1, 2, 3, 4])` returns `[1, 3, 6, 10]`\n",
    "\n",
    "\n",
    "#### Additional Exercise\n",
    "Once you've completed the above exercises, follow the directions from https://gist.github.com/zgulde/ec8ed80ad8216905cda83d5645c60886 in order to thouroughly comment your code to explain your code.\n",
    "\n",
    "\n",
    "#### Bonus\n",
    "12. Create a function named `twelveto24`. It should accept a string in the format 10:45am or 4:30pm and return a string that is the representation of the time in a 24-hour format. Bonus write a function that does the opposite.\n",
    "13. Create a function named `col_index`. It should accept a spreadsheet column name, and return the index number of the column.\n",
    "    - `col_index('A')` returns `1`\n",
    "    - `col_index('B')` returns `2`\n",
    "    - `col_index('AA')` returns `27`"
   ]
  }
 ],
 "metadata": {
  "kernelspec": {
   "display_name": "Python 3",
   "language": "python",
   "name": "python3"
  },
  "language_info": {
   "codemirror_mode": {
    "name": "ipython",
    "version": 3
   },
   "file_extension": ".py",
   "mimetype": "text/x-python",
   "name": "python",
   "nbconvert_exporter": "python",
   "pygments_lexer": "ipython3",
   "version": "3.8.8"
  }
 },
 "nbformat": 4,
 "nbformat_minor": 5
}
