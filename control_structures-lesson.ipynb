{
 "cells": [
  {
   "cell_type": "markdown",
   "metadata": {},
   "source": [
    "### Conditionals:\n",
    "\n",
    "### if this then that"
   ]
  },
  {
   "cell_type": "code",
   "execution_count": null,
   "metadata": {},
   "outputs": [],
   "source": [
    "# if some condition is true:\n",
    "    #execute this code"
   ]
  },
  {
   "cell_type": "code",
   "execution_count": 7,
   "metadata": {},
   "outputs": [
    {
     "name": "stdout",
     "output_type": "stream",
     "text": [
      "The number is even\n",
      "Greetings!\n",
      "Complete\n"
     ]
    }
   ],
   "source": [
    "x = 6\n",
    "\n",
    "r = x % 2\n",
    "\n",
    "\n",
    "if r == 0:\n",
    "    print('The number is even')\n",
    "    print('Greetings!')\n",
    "    \n",
    "print('Complete')"
   ]
  },
  {
   "cell_type": "code",
   "execution_count": null,
   "metadata": {},
   "outputs": [],
   "source": []
  },
  {
   "cell_type": "markdown",
   "metadata": {},
   "source": [
    "#### If this then that, Otherwise"
   ]
  },
  {
   "cell_type": "code",
   "execution_count": 10,
   "metadata": {},
   "outputs": [
    {
     "name": "stdout",
     "output_type": "stream",
     "text": [
      "the number is odd\n",
      "Complete\n"
     ]
    }
   ],
   "source": [
    "x = 5\n",
    "\n",
    "r = x % 2\n",
    "\n",
    "\n",
    "if r == 0:\n",
    "    print('The number is even')\n",
    "\n",
    "else:\n",
    "    print('the number is odd')\n",
    "    \n",
    "print('Complete')"
   ]
  },
  {
   "cell_type": "code",
   "execution_count": null,
   "metadata": {},
   "outputs": [],
   "source": []
  },
  {
   "cell_type": "code",
   "execution_count": 12,
   "metadata": {},
   "outputs": [
    {
     "name": "stdout",
     "output_type": "stream",
     "text": [
      "The number is even\n",
      "Greater than 2!\n",
      "Complete\n"
     ]
    }
   ],
   "source": [
    "# Nested ifs:\n",
    "\n",
    "x = 6\n",
    "\n",
    "r = x % 2\n",
    "\n",
    "\n",
    "if r == 0:\n",
    "    print('The number is even')\n",
    "    if x > 2:\n",
    "        print('Greater than 2!')\n",
    "    else:\n",
    "        print('less than or equal to 2!')\n",
    "else:\n",
    "    print('the number is odd')\n",
    "    \n",
    "print('Complete')"
   ]
  },
  {
   "cell_type": "code",
   "execution_count": null,
   "metadata": {},
   "outputs": [],
   "source": []
  },
  {
   "cell_type": "code",
   "execution_count": 14,
   "metadata": {},
   "outputs": [
    {
     "name": "stdout",
     "output_type": "stream",
     "text": [
      "ONE\n"
     ]
    }
   ],
   "source": [
    "# Example:\n",
    "\n",
    "\n",
    "\n",
    "# 1 == > ONE\n",
    "# 2 --> TWO\n",
    "# 3 ==> THREE\n",
    "# >4 --> Huraay!\n",
    "\n",
    "x = 1\n",
    "\n",
    "if x == 1:\n",
    "    print('ONE')\n",
    "elif x == 2:\n",
    "    print('TWO')\n",
    "elif x == 3:\n",
    "    print('THREE')\n",
    "else:\n",
    "    print('Hurray!')"
   ]
  },
  {
   "cell_type": "markdown",
   "metadata": {},
   "source": [
    "## Loops\n",
    "\n",
    "`for` for running a block of code a set number of times  \n",
    "`while` for running a block of code until a condition is met\n",
    "\n"
   ]
  },
  {
   "cell_type": "code",
   "execution_count": 16,
   "metadata": {
    "scrolled": true
   },
   "outputs": [
    {
     "name": "stdout",
     "output_type": "stream",
     "text": [
      "2\n",
      "4\n",
      "6\n",
      "8\n",
      "10\n",
      "12\n"
     ]
    }
   ],
   "source": [
    "l = [1,2,3,4,5,6]\n",
    "\n",
    "for num in l:\n",
    "    #executive this code\n",
    "    print(num * 2)\n",
    "    "
   ]
  },
  {
   "cell_type": "code",
   "execution_count": 19,
   "metadata": {},
   "outputs": [
    {
     "data": {
      "text/plain": [
       "[1, 2, 3, 4, 5, 6, 7, 8, 9, 10, 11, 12, 13, 14, 15, 16, 17, 18, 19, 20]"
      ]
     },
     "execution_count": 19,
     "metadata": {},
     "output_type": "execute_result"
    }
   ],
   "source": [
    "list(range(1, 21))"
   ]
  },
  {
   "cell_type": "code",
   "execution_count": 21,
   "metadata": {
    "scrolled": true
   },
   "outputs": [
    {
     "name": "stdout",
     "output_type": "stream",
     "text": [
      "0  This is an even number\n",
      "1 This is an odd number\n",
      "2  This is an even number\n",
      "3 This is an odd number\n",
      "4  This is an even number\n",
      "5 This is an odd number\n",
      "6  This is an even number\n",
      "7 This is an odd number\n",
      "8  This is an even number\n",
      "9 This is an odd number\n",
      "10  This is an even number\n",
      "11 This is an odd number\n",
      "12  This is an even number\n",
      "13 This is an odd number\n",
      "14  This is an even number\n",
      "15 This is an odd number\n",
      "16  This is an even number\n",
      "17 This is an odd number\n",
      "18  This is an even number\n",
      "19 This is an odd number\n",
      "20  This is an even number\n"
     ]
    }
   ],
   "source": [
    "# print whether number is odd or even\n",
    "\n",
    "for num in range(21):\n",
    "    if num % 2 == 0:\n",
    "        print(num,\" This is an even number\")\n",
    "    else:\n",
    "        print(num,\"This is an odd number\")\n"
   ]
  },
  {
   "cell_type": "code",
   "execution_count": 22,
   "metadata": {},
   "outputs": [
    {
     "name": "stdout",
     "output_type": "stream",
     "text": [
      "10  Found Ben!\n"
     ]
    }
   ],
   "source": [
    "for num in range(21):\n",
    "    if num == 10:\n",
    "        print(num,\" Found Ben!\")\n",
    "\n"
   ]
  },
  {
   "cell_type": "code",
   "execution_count": 25,
   "metadata": {},
   "outputs": [],
   "source": [
    "l = []\n",
    "for num in range(1,11):\n",
    "    if num % 2 == 0:\n",
    "        l.append(num **2)"
   ]
  },
  {
   "cell_type": "code",
   "execution_count": 26,
   "metadata": {},
   "outputs": [
    {
     "data": {
      "text/plain": [
       "[4, 16, 36, 64, 100]"
      ]
     },
     "execution_count": 26,
     "metadata": {},
     "output_type": "execute_result"
    }
   ],
   "source": [
    "l"
   ]
  },
  {
   "cell_type": "code",
   "execution_count": 28,
   "metadata": {},
   "outputs": [
    {
     "data": {
      "text/plain": [
       "[4, 16, 36, 64, 100]"
      ]
     },
     "execution_count": 28,
     "metadata": {},
     "output_type": "execute_result"
    }
   ],
   "source": [
    "# Same output with list comprehension\n",
    "[num ** 2 for num in range(1,11) if num % 2 ==0]"
   ]
  },
  {
   "cell_type": "code",
   "execution_count": null,
   "metadata": {},
   "outputs": [],
   "source": []
  },
  {
   "cell_type": "markdown",
   "metadata": {},
   "source": [
    "### While\n",
    "The while loop will execute it's body until the condition evaluates to false."
   ]
  },
  {
   "cell_type": "code",
   "execution_count": null,
   "metadata": {},
   "outputs": [],
   "source": [
    "# While (some condition is True):\n",
    "    # Keep doing this"
   ]
  },
  {
   "cell_type": "code",
   "execution_count": 29,
   "metadata": {},
   "outputs": [
    {
     "name": "stdout",
     "output_type": "stream",
     "text": [
      "1\n",
      "2\n",
      "3\n",
      "4\n",
      "5\n",
      "6\n",
      "7\n",
      "8\n",
      "9\n"
     ]
    }
   ],
   "source": [
    "i = 1\n",
    "\n",
    "while i < 10:\n",
    "    print(i)\n",
    "    i = i + 1"
   ]
  },
  {
   "cell_type": "code",
   "execution_count": 31,
   "metadata": {},
   "outputs": [
    {
     "name": "stdout",
     "output_type": "stream",
     "text": [
      "1\n",
      "2\n",
      "3\n",
      "4\n",
      "5\n",
      "6\n",
      "7\n",
      "8\n",
      "9\n"
     ]
    }
   ],
   "source": [
    "i = 1\n",
    "\n",
    "while i < 10:\n",
    "    print(i)\n",
    "    i = i + 1"
   ]
  },
  {
   "cell_type": "code",
   "execution_count": 33,
   "metadata": {},
   "outputs": [
    {
     "name": "stdout",
     "output_type": "stream",
     "text": [
      "Please enter an password: password\n",
      "Incorrect password\n",
      "Please enter an password: password12\n",
      "Incorrect password\n",
      "Please enter an password: password123\n",
      "You may proceed now\n"
     ]
    }
   ],
   "source": [
    "stored_password = 'password123'\n",
    "user_input = input(\"Please enter an password: \")\n",
    "\n",
    "#while (the password is incorrect):\n",
    "    # keep prompting for the password\n",
    "\n",
    "while user_input != stored_password:\n",
    "    print('Incorrect password')\n",
    "    user_input = input(\"Please enter an password: \")\n",
    "    \n",
    "    \n",
    "print('You may proceed now')    "
   ]
  },
  {
   "cell_type": "code",
   "execution_count": null,
   "metadata": {},
   "outputs": [],
   "source": []
  },
  {
   "cell_type": "markdown",
   "metadata": {},
   "source": [
    "### Break\n",
    "- `break` will stop executing the loop entirely"
   ]
  },
  {
   "cell_type": "code",
   "execution_count": 34,
   "metadata": {},
   "outputs": [
    {
     "name": "stdout",
     "output_type": "stream",
     "text": [
      "1\n",
      "2\n",
      "3\n",
      "4\n",
      "5\n",
      "6\n",
      "7\n",
      "8\n",
      "9\n",
      "10\n",
      "11\n",
      "12\n",
      "13\n",
      "14\n",
      "15\n",
      "16\n"
     ]
    }
   ],
   "source": [
    "for num in range(1,20):\n",
    "    print(num)\n",
    "    if num > 15:\n",
    "        break"
   ]
  },
  {
   "cell_type": "code",
   "execution_count": 39,
   "metadata": {},
   "outputs": [
    {
     "name": "stdout",
     "output_type": "stream",
     "text": [
      "1 Here is your Candy\n",
      "2 Here is your Candy\n",
      "3 Here is your Candy\n",
      "4 Here is your Candy\n",
      "5 Here is your Candy\n",
      "6 Here is your Candy\n",
      "7 Here is your Candy\n",
      "Sorry, out of candies\n"
     ]
    }
   ],
   "source": [
    "user_input = 12\n",
    "i = 1\n",
    "available_candies = 7\n",
    "\n",
    "while i <= user_input:\n",
    "    \n",
    "    if i > available_candies:\n",
    "        print('Sorry, out of candies')\n",
    "        break\n",
    "    print(i, 'Here is your Candy')\n",
    "    i = i + 1"
   ]
  },
  {
   "cell_type": "code",
   "execution_count": null,
   "metadata": {},
   "outputs": [],
   "source": []
  },
  {
   "cell_type": "markdown",
   "metadata": {},
   "source": [
    "### Continue\n",
    "- `continue` will skip to the next iteration of a loop"
   ]
  },
  {
   "cell_type": "code",
   "execution_count": 41,
   "metadata": {},
   "outputs": [
    {
     "name": "stdout",
     "output_type": "stream",
     "text": [
      "1 here is an odd number\n",
      "15 here is an odd number\n",
      "17 here is an odd number\n"
     ]
    }
   ],
   "source": [
    "# print only odd numbers:\n",
    "\n",
    "l = [1,2,4,6,2,12,44,15, 17]\n",
    "\n",
    "for num in l:\n",
    "    if num % 2 ==0:\n",
    "        continue\n",
    "    print(num,\"here is an odd number\" )\n",
    "    "
   ]
  },
  {
   "cell_type": "code",
   "execution_count": null,
   "metadata": {},
   "outputs": [],
   "source": []
  }
 ],
 "metadata": {
  "kernelspec": {
   "display_name": "Python 3",
   "language": "python",
   "name": "python3"
  },
  "language_info": {
   "codemirror_mode": {
    "name": "ipython",
    "version": 3
   },
   "file_extension": ".py",
   "mimetype": "text/x-python",
   "name": "python",
   "nbconvert_exporter": "python",
   "pygments_lexer": "ipython3",
   "version": "3.8.5"
  }
 },
 "nbformat": 4,
 "nbformat_minor": 4
}
