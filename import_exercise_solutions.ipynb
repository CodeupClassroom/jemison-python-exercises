{
 "cells": [
  {
   "cell_type": "markdown",
   "id": "ded00cd3",
   "metadata": {},
   "source": [
    "## Exercise 1\n",
    "\n",
    "Import and test 3 of the functions from your functions exercise file. Import each function in a different way:\n",
    "\n",
    "1. Run an interactive python session and import the module. Call the `is_vowel` function using the `.` syntax.\n",
    "\n",
    "2. Create a file named `import_exericses.py`. Within this file, use `from` to import the `calculate_tip` function directly. Call this function with values you choose and print the result.\n",
    "\n",
    "3. Create a jupyter notebook named `import_exercises.ipynb`. Use `from` to import the `get_letter_grade` function and give it an alias. Test this function in your notebook.\n",
    "\n",
    "Make sure your code that tests the function imports is run from the same directory that your functions exercise file is in."
   ]
  },
  {
   "cell_type": "code",
   "execution_count": 1,
   "id": "13cfc1be",
   "metadata": {},
   "outputs": [],
   "source": [
    "from functions_exercises import get_letter_grade, is_two, calculate_tip"
   ]
  },
  {
   "cell_type": "code",
   "execution_count": 2,
   "id": "97d398a1",
   "metadata": {},
   "outputs": [
    {
     "data": {
      "text/plain": [
       "'B'"
      ]
     },
     "execution_count": 2,
     "metadata": {},
     "output_type": "execute_result"
    }
   ],
   "source": [
    "get_letter_grade(89)"
   ]
  },
  {
   "cell_type": "code",
   "execution_count": 3,
   "id": "ca279dcd",
   "metadata": {},
   "outputs": [
    {
     "data": {
      "text/plain": [
       "False"
      ]
     },
     "execution_count": 3,
     "metadata": {},
     "output_type": "execute_result"
    }
   ],
   "source": [
    "is_two(3)"
   ]
  },
  {
   "cell_type": "code",
   "execution_count": 4,
   "id": "0b9091ed",
   "metadata": {},
   "outputs": [],
   "source": [
    "import functions_exercises"
   ]
  },
  {
   "cell_type": "code",
   "execution_count": 5,
   "id": "b0ab4103",
   "metadata": {},
   "outputs": [
    {
     "data": {
      "text/plain": [
       "1234.0"
      ]
     },
     "execution_count": 5,
     "metadata": {},
     "output_type": "execute_result"
    }
   ],
   "source": [
    "functions_exercises.handle_commas(\"1,234\")"
   ]
  },
  {
   "cell_type": "markdown",
   "id": "901f7dc6",
   "metadata": {},
   "source": [
    "## Exercise 2\n",
    "1. Read about and use the [`itertools` module](https://docs.python.org/3/library/itertools.html) from the python standard library to help you solve the following problems:\n",
    "   - How many different ways can you combine the letters from \"abc\" with the numbers 1, 2, and 3?\n",
    "   - How many different *combinations* are there of 2 letters from \"abcd\"?\n",
    "   - How many different *permutations* are there of 2 letters from \"abcd\"?"
   ]
  },
  {
   "cell_type": "code",
   "execution_count": 6,
   "id": "dfe98185",
   "metadata": {},
   "outputs": [],
   "source": [
    "import itertools"
   ]
  },
  {
   "cell_type": "code",
   "execution_count": 7,
   "id": "2bdae8fd",
   "metadata": {},
   "outputs": [
    {
     "data": {
      "text/plain": [
       "[('a', '1'),\n",
       " ('a', '2'),\n",
       " ('a', '3'),\n",
       " ('b', '1'),\n",
       " ('b', '2'),\n",
       " ('b', '3'),\n",
       " ('c', '1'),\n",
       " ('c', '2'),\n",
       " ('c', '3')]"
      ]
     },
     "execution_count": 7,
     "metadata": {},
     "output_type": "execute_result"
    }
   ],
   "source": [
    "# How many different ways can you combine the letters from \"abc\" with the numbers 1, 2, and 3?\n",
    "list(itertools.product(\"abc\", \"123\"))"
   ]
  },
  {
   "cell_type": "code",
   "execution_count": 8,
   "id": "f337d98c",
   "metadata": {},
   "outputs": [
    {
     "data": {
      "text/plain": [
       "[('a', 'b'), ('a', 'c'), ('a', 'd'), ('b', 'c'), ('b', 'd'), ('c', 'd')]"
      ]
     },
     "execution_count": 8,
     "metadata": {},
     "output_type": "execute_result"
    }
   ],
   "source": [
    "list(itertools.combinations(\"abcd\", 2))"
   ]
  },
  {
   "cell_type": "code",
   "execution_count": 9,
   "id": "04596f2f",
   "metadata": {},
   "outputs": [
    {
     "data": {
      "text/plain": [
       "[('a', 'b'),\n",
       " ('a', 'c'),\n",
       " ('a', 'd'),\n",
       " ('b', 'a'),\n",
       " ('b', 'c'),\n",
       " ('b', 'd'),\n",
       " ('c', 'a'),\n",
       " ('c', 'b'),\n",
       " ('c', 'd'),\n",
       " ('d', 'a'),\n",
       " ('d', 'b'),\n",
       " ('d', 'c')]"
      ]
     },
     "execution_count": 9,
     "metadata": {},
     "output_type": "execute_result"
    }
   ],
   "source": [
    "list(itertools.permutations(\"abcd\", 2))"
   ]
  },
  {
   "cell_type": "code",
   "execution_count": null,
   "id": "f17faa6c",
   "metadata": {},
   "outputs": [],
   "source": []
  }
 ],
 "metadata": {
  "kernelspec": {
   "display_name": "Python 3 (ipykernel)",
   "language": "python",
   "name": "python3"
  },
  "language_info": {
   "codemirror_mode": {
    "name": "ipython",
    "version": 3
   },
   "file_extension": ".py",
   "mimetype": "text/x-python",
   "name": "python",
   "nbconvert_exporter": "python",
   "pygments_lexer": "ipython3",
   "version": "3.8.12"
  }
 },
 "nbformat": 4,
 "nbformat_minor": 5
}
