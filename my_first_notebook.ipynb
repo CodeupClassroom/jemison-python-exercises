{
 "cells": [
  {
   "cell_type": "code",
   "execution_count": 1,
   "id": "e1e94583",
   "metadata": {},
   "outputs": [],
   "source": [
    "from pydataset import data"
   ]
  },
  {
   "cell_type": "markdown",
   "id": "77ec8868",
   "metadata": {},
   "source": [
    "# Hello Jemison\n",
    "\n",
    "## This is markdown\n",
    "\n",
    "## Why is Markdown useful?\n",
    "- shorthand for HTML\n",
    "- write markdown cells above our python code\n",
    "\n"
   ]
  },
  {
   "cell_type": "code",
   "execution_count": 2,
   "id": "ae400771",
   "metadata": {},
   "outputs": [
    {
     "name": "stdout",
     "output_type": "stream",
     "text": [
      "Hi, Everybody!\n"
     ]
    }
   ],
   "source": [
    "greeting = \"Hi, Everybody!\"\n",
    "print(greeting)"
   ]
  },
  {
   "cell_type": "code",
   "execution_count": 3,
   "id": "b9029548",
   "metadata": {},
   "outputs": [
    {
     "data": {
      "text/plain": [
       "15"
      ]
     },
     "execution_count": 3,
     "metadata": {},
     "output_type": "execute_result"
    }
   ],
   "source": [
    "3 * 5"
   ]
  },
  {
   "cell_type": "code",
   "execution_count": 4,
   "id": "2eec06fe",
   "metadata": {},
   "outputs": [
    {
     "data": {
      "text/plain": [
       "True"
      ]
     },
     "execution_count": 4,
     "metadata": {},
     "output_type": "execute_result"
    }
   ],
   "source": [
    "True"
   ]
  },
  {
   "cell_type": "code",
   "execution_count": 5,
   "id": "8b0f07ca",
   "metadata": {},
   "outputs": [
    {
     "data": {
      "text/plain": [
       "False"
      ]
     },
     "execution_count": 5,
     "metadata": {},
     "output_type": "execute_result"
    }
   ],
   "source": [
    "False"
   ]
  },
  {
   "cell_type": "code",
   "execution_count": 6,
   "id": "d21164c4",
   "metadata": {},
   "outputs": [
    {
     "data": {
      "text/plain": [
       "bool"
      ]
     },
     "execution_count": 6,
     "metadata": {},
     "output_type": "execute_result"
    }
   ],
   "source": [
    "type(True)"
   ]
  },
  {
   "cell_type": "code",
   "execution_count": 7,
   "id": "f158f12c",
   "metadata": {},
   "outputs": [
    {
     "data": {
      "text/plain": [
       "str"
      ]
     },
     "execution_count": 7,
     "metadata": {},
     "output_type": "execute_result"
    }
   ],
   "source": [
    "type(\"True\")"
   ]
  },
  {
   "cell_type": "code",
   "execution_count": 8,
   "id": "411f7a3a",
   "metadata": {},
   "outputs": [],
   "source": [
    "None"
   ]
  },
  {
   "cell_type": "code",
   "execution_count": 9,
   "id": "748df48c",
   "metadata": {},
   "outputs": [
    {
     "name": "stdout",
     "output_type": "stream",
     "text": [
      "$10000000000\n"
     ]
    },
    {
     "data": {
      "text/plain": [
       "NoneType"
      ]
     },
     "execution_count": 9,
     "metadata": {},
     "output_type": "execute_result"
    }
   ],
   "source": [
    "# the return value of print is always none\n",
    "x = print(\"$10000000000\")\n",
    "type(x)"
   ]
  },
  {
   "cell_type": "code",
   "execution_count": 10,
   "id": "4f797d54",
   "metadata": {},
   "outputs": [
    {
     "data": {
      "text/plain": [
       "4"
      ]
     },
     "execution_count": 10,
     "metadata": {},
     "output_type": "execute_result"
    }
   ],
   "source": [
    "x = 2 + 2\n",
    "x"
   ]
  },
  {
   "cell_type": "code",
   "execution_count": 11,
   "id": "b1ac9c9c",
   "metadata": {},
   "outputs": [
    {
     "data": {
      "text/plain": [
       "type"
      ]
     },
     "execution_count": 11,
     "metadata": {},
     "output_type": "execute_result"
    }
   ],
   "source": [
    "type(type)"
   ]
  },
  {
   "cell_type": "code",
   "execution_count": 12,
   "id": "cdd84e5c",
   "metadata": {},
   "outputs": [
    {
     "data": {
      "text/plain": [
       "str"
      ]
     },
     "execution_count": 12,
     "metadata": {},
     "output_type": "execute_result"
    }
   ],
   "source": [
    "# Parentheses run a function\n",
    "type(\"stuff\")"
   ]
  },
  {
   "cell_type": "code",
   "execution_count": 13,
   "id": "f1fce9bd",
   "metadata": {},
   "outputs": [
    {
     "data": {
      "text/plain": [
       "type"
      ]
     },
     "execution_count": 13,
     "metadata": {},
     "output_type": "execute_result"
    }
   ],
   "source": [
    "type"
   ]
  },
  {
   "cell_type": "code",
   "execution_count": 14,
   "id": "e3ba11cb",
   "metadata": {},
   "outputs": [
    {
     "data": {
      "text/plain": [
       "<function print>"
      ]
     },
     "execution_count": 14,
     "metadata": {},
     "output_type": "execute_result"
    }
   ],
   "source": [
    "# Parentheses mean we're running a function\n",
    "print"
   ]
  },
  {
   "cell_type": "code",
   "execution_count": 15,
   "id": "dc6d2427",
   "metadata": {},
   "outputs": [
    {
     "data": {
      "text/plain": [
       "4"
      ]
     },
     "execution_count": 15,
     "metadata": {},
     "output_type": "execute_result"
    }
   ],
   "source": [
    "# integer Literal \n",
    "4"
   ]
  },
  {
   "cell_type": "code",
   "execution_count": 16,
   "id": "7ae3f4fb",
   "metadata": {},
   "outputs": [
    {
     "data": {
      "text/plain": [
       "'some string'"
      ]
     },
     "execution_count": 16,
     "metadata": {},
     "output_type": "execute_result"
    }
   ],
   "source": [
    "# String literal\n",
    "\"some string\""
   ]
  },
  {
   "cell_type": "code",
   "execution_count": 17,
   "id": "45ca37e3",
   "metadata": {},
   "outputs": [
    {
     "data": {
      "text/plain": [
       "'another string'"
      ]
     },
     "execution_count": 17,
     "metadata": {},
     "output_type": "execute_result"
    }
   ],
   "source": [
    "x = \"another string\"\n",
    "x"
   ]
  },
  {
   "cell_type": "code",
   "execution_count": 18,
   "id": "9206307e",
   "metadata": {},
   "outputs": [
    {
     "data": {
      "text/plain": [
       "['John', 'Paul', 'George', 'Ringo']"
      ]
     },
     "execution_count": 18,
     "metadata": {},
     "output_type": "execute_result"
    }
   ],
   "source": [
    "# List listeral\n",
    "beatles = [\"John\", \"Paul\", \"George\", \"Ringo\"]\n",
    "beatles"
   ]
  },
  {
   "cell_type": "markdown",
   "id": "5f0f2c7e",
   "metadata": {},
   "source": [
    "## Variables\n",
    "- What's the big idea?\n",
    "- Naming things is powerful\n",
    "- Variables point to values and can be re-pointed to other values (reassigned)"
   ]
  },
  {
   "cell_type": "code",
   "execution_count": 19,
   "id": "1300e977",
   "metadata": {},
   "outputs": [
    {
     "data": {
      "text/plain": [
       "5"
      ]
     },
     "execution_count": 19,
     "metadata": {},
     "output_type": "execute_result"
    }
   ],
   "source": [
    "# What kind of \"spells\" can you do with variables?\n",
    "# \"Assignment\" \n",
    "# Assigning the variable x to point to the value 5\n",
    "favorite_number = 5\n",
    "favorite_number"
   ]
  },
  {
   "cell_type": "code",
   "execution_count": 20,
   "id": "1182f68b",
   "metadata": {},
   "outputs": [
    {
     "data": {
      "text/plain": [
       "'Bob'"
      ]
     },
     "execution_count": 20,
     "metadata": {},
     "output_type": "execute_result"
    }
   ],
   "source": [
    "# Assignment\n",
    "name = \"Bob\"\n",
    "name"
   ]
  },
  {
   "cell_type": "code",
   "execution_count": 21,
   "id": "3a626a04",
   "metadata": {},
   "outputs": [
    {
     "data": {
      "text/plain": [
       "'Batman'"
      ]
     },
     "execution_count": 21,
     "metadata": {},
     "output_type": "execute_result"
    }
   ],
   "source": [
    "# Re-assign a variable\n",
    "# Point the variable to a new value of some kind\n",
    "name = \"Batman\"\n",
    "name"
   ]
  },
  {
   "cell_type": "code",
   "execution_count": 22,
   "id": "2a7eb357",
   "metadata": {},
   "outputs": [
    {
     "data": {
      "text/plain": [
       "7.98"
      ]
     },
     "execution_count": 22,
     "metadata": {},
     "output_type": "execute_result"
    }
   ],
   "source": [
    "# A real world example of reassigning a variable\n",
    "\n",
    "# scenario: you go to lunch\n",
    "# when you walk in the door, what's your total bill?\n",
    "total = 0\n",
    "\n",
    "# when you order iced tea, our total will now include iced tea\n",
    "# new_value = old_value + something\n",
    "total = total + 1.99\n",
    "\n",
    "# order an appetizer\n",
    "total = total + 5.99\n",
    "total"
   ]
  },
  {
   "cell_type": "code",
   "execution_count": 23,
   "id": "23073ecb",
   "metadata": {},
   "outputs": [
    {
     "data": {
      "text/plain": [
       "9.97"
      ]
     },
     "execution_count": 23,
     "metadata": {},
     "output_type": "execute_result"
    }
   ],
   "source": [
    "# shorthand for reassigning a variable to its old value\n",
    "# your friend joins you at lunch and they order iced tea\n",
    "total += 1.99 # += is short for total = total + 1.99\n",
    "total"
   ]
  },
  {
   "cell_type": "code",
   "execution_count": 24,
   "id": "481616e4",
   "metadata": {},
   "outputs": [
    {
     "data": {
      "text/plain": [
       "True"
      ]
     },
     "execution_count": 24,
     "metadata": {},
     "output_type": "execute_result"
    }
   ],
   "source": [
    "## Booleans (True/False)\n",
    "total < 20\n"
   ]
  },
  {
   "cell_type": "code",
   "execution_count": 25,
   "id": "0618be0d",
   "metadata": {},
   "outputs": [
    {
     "data": {
      "text/plain": [
       "False"
      ]
     },
     "execution_count": 25,
     "metadata": {},
     "output_type": "execute_result"
    }
   ],
   "source": [
    "# Comparison operators:\n",
    "# compare values on the left and right and return a bool\n",
    "2 == 3"
   ]
  },
  {
   "cell_type": "code",
   "execution_count": 26,
   "id": "b02835ea",
   "metadata": {},
   "outputs": [
    {
     "data": {
      "text/plain": [
       "True"
      ]
     },
     "execution_count": 26,
     "metadata": {},
     "output_type": "execute_result"
    }
   ],
   "source": [
    "3 == 3"
   ]
  },
  {
   "cell_type": "code",
   "execution_count": 27,
   "id": "0184ebd5",
   "metadata": {},
   "outputs": [
    {
     "data": {
      "text/plain": [
       "True"
      ]
     },
     "execution_count": 27,
     "metadata": {},
     "output_type": "execute_result"
    }
   ],
   "source": [
    "2 < favorite_number"
   ]
  },
  {
   "cell_type": "code",
   "execution_count": 28,
   "id": "54abced3",
   "metadata": {},
   "outputs": [
    {
     "data": {
      "text/plain": [
       "False"
      ]
     },
     "execution_count": 28,
     "metadata": {},
     "output_type": "execute_result"
    }
   ],
   "source": [
    "2 > favorite_number"
   ]
  },
  {
   "cell_type": "code",
   "execution_count": 29,
   "id": "8dc39696",
   "metadata": {},
   "outputs": [
    {
     "data": {
      "text/plain": [
       "False"
      ]
     },
     "execution_count": 29,
     "metadata": {},
     "output_type": "execute_result"
    }
   ],
   "source": [
    "2 >= favorite_number"
   ]
  },
  {
   "cell_type": "code",
   "execution_count": 30,
   "id": "bf09458c",
   "metadata": {},
   "outputs": [
    {
     "data": {
      "text/plain": [
       "True"
      ]
     },
     "execution_count": 30,
     "metadata": {},
     "output_type": "execute_result"
    }
   ],
   "source": [
    "# != is not equal to\n",
    "# ain't\n",
    "2 != 3"
   ]
  },
  {
   "cell_type": "code",
   "execution_count": 31,
   "id": "6afc5dd4",
   "metadata": {},
   "outputs": [
    {
     "data": {
      "text/plain": [
       "False"
      ]
     },
     "execution_count": 31,
     "metadata": {},
     "output_type": "execute_result"
    }
   ],
   "source": [
    "not True"
   ]
  },
  {
   "cell_type": "code",
   "execution_count": 32,
   "id": "8b51f46e",
   "metadata": {},
   "outputs": [
    {
     "data": {
      "text/plain": [
       "True"
      ]
     },
     "execution_count": 32,
     "metadata": {},
     "output_type": "execute_result"
    }
   ],
   "source": [
    "not not not False"
   ]
  },
  {
   "cell_type": "code",
   "execution_count": 33,
   "id": "93733a6c",
   "metadata": {},
   "outputs": [
    {
     "data": {
      "text/plain": [
       "True"
      ]
     },
     "execution_count": 33,
     "metadata": {},
     "output_type": "execute_result"
    }
   ],
   "source": [
    "# in operator checks membership of the value on the left\n",
    "# in the collection on the right\n",
    "# collection could be a string, list, tuple, ...\n",
    "2 in [1, 2, 3, 4]"
   ]
  },
  {
   "cell_type": "code",
   "execution_count": 34,
   "id": "40cafa29",
   "metadata": {},
   "outputs": [
    {
     "data": {
      "text/plain": [
       "True"
      ]
     },
     "execution_count": 34,
     "metadata": {},
     "output_type": "execute_result"
    }
   ],
   "source": [
    "3 not in [5, 6, 7]"
   ]
  },
  {
   "cell_type": "code",
   "execution_count": null,
   "id": "2cab0ef9",
   "metadata": {},
   "outputs": [],
   "source": []
  },
  {
   "cell_type": "code",
   "execution_count": 35,
   "id": "61a45d38",
   "metadata": {},
   "outputs": [
    {
     "data": {
      "text/plain": [
       "True"
      ]
     },
     "execution_count": 35,
     "metadata": {},
     "output_type": "execute_result"
    }
   ],
   "source": [
    "\"a\" in \"banana\"\n"
   ]
  },
  {
   "cell_type": "code",
   "execution_count": 38,
   "id": "b9e84392",
   "metadata": {},
   "outputs": [
    {
     "name": "stdout",
     "output_type": "stream",
     "text": [
      "Bob\n"
     ]
    },
    {
     "data": {
      "text/plain": [
       "NoneType"
      ]
     },
     "execution_count": 38,
     "metadata": {},
     "output_type": "execute_result"
    }
   ],
   "source": [
    "x = print(\"Bob\")\n",
    "type(x)"
   ]
  },
  {
   "cell_type": "markdown",
   "id": "36d5edbb",
   "metadata": {},
   "source": [
    "## Logical Operators\n",
    "- not: switches the boolean value of a value\n",
    "- and: making sure both pieces are true\n",
    "- or: making sure at least one pieces is true"
   ]
  },
  {
   "cell_type": "code",
   "execution_count": 39,
   "id": "3f568633",
   "metadata": {},
   "outputs": [],
   "source": [
    "doing_python_right_now = True\n",
    "currently_on_mars = False"
   ]
  },
  {
   "cell_type": "code",
   "execution_count": 40,
   "id": "dc9d13d8",
   "metadata": {},
   "outputs": [
    {
     "data": {
      "text/plain": [
       "False"
      ]
     },
     "execution_count": 40,
     "metadata": {},
     "output_type": "execute_result"
    }
   ],
   "source": [
    "# ANDs are limiting\n",
    "doing_python_right_now and currently_on_mars"
   ]
  },
  {
   "cell_type": "code",
   "execution_count": 42,
   "id": "7c93bbbe",
   "metadata": {},
   "outputs": [
    {
     "data": {
      "text/plain": [
       "True"
      ]
     },
     "execution_count": 42,
     "metadata": {},
     "output_type": "execute_result"
    }
   ],
   "source": [
    "# ORs expland our possibilities\n",
    "doing_python_right_now or currently_on_mars"
   ]
  },
  {
   "cell_type": "code",
   "execution_count": null,
   "id": "724fa9ad",
   "metadata": {},
   "outputs": [],
   "source": [
    "# When we combine and, or, not,  (but == and not)\n",
    "# We want to use parentheses to enforce execution order\n"
   ]
  },
  {
   "cell_type": "code",
   "execution_count": 46,
   "id": "8d12c85e",
   "metadata": {},
   "outputs": [
    {
     "data": {
      "text/plain": [
       "False"
      ]
     },
     "execution_count": 46,
     "metadata": {},
     "output_type": "execute_result"
    }
   ],
   "source": [
    "# A user can edit a post if they are logged in and either the admin or the author of that post\n",
    "is_logged_in = False\n",
    "is_admin = True\n",
    "is_author = True\n",
    "\n",
    "can_edit_post = is_logged_in and (is_admin or is_author)\n",
    "can_edit_post"
   ]
  },
  {
   "cell_type": "code",
   "execution_count": null,
   "id": "ee80722d",
   "metadata": {},
   "outputs": [],
   "source": [
    "# Mathematical operators\n",
    "# +, -, *, /, **"
   ]
  },
  {
   "cell_type": "code",
   "execution_count": 47,
   "id": "8c628dfa",
   "metadata": {},
   "outputs": [
    {
     "data": {
      "text/plain": [
       "8"
      ]
     },
     "execution_count": 47,
     "metadata": {},
     "output_type": "execute_result"
    }
   ],
   "source": [
    "2**3 # two raised to the 3rd power"
   ]
  },
  {
   "cell_type": "code",
   "execution_count": 48,
   "id": "20ca2551",
   "metadata": {},
   "outputs": [
    {
     "data": {
      "text/plain": [
       "4.0"
      ]
     },
     "execution_count": 48,
     "metadata": {},
     "output_type": "execute_result"
    }
   ],
   "source": [
    "12 / 3"
   ]
  },
  {
   "cell_type": "code",
   "execution_count": 49,
   "id": "885bffc6",
   "metadata": {},
   "outputs": [
    {
     "data": {
      "text/plain": [
       "True"
      ]
     },
     "execution_count": 49,
     "metadata": {},
     "output_type": "execute_result"
    }
   ],
   "source": [
    "4 == 4.0"
   ]
  },
  {
   "cell_type": "code",
   "execution_count": 50,
   "id": "368f3b76",
   "metadata": {},
   "outputs": [
    {
     "data": {
      "text/plain": [
       "True"
      ]
     },
     "execution_count": 50,
     "metadata": {},
     "output_type": "execute_result"
    }
   ],
   "source": [
    "4 == 4.00000000000000000000000000000000000000000000000001"
   ]
  },
  {
   "cell_type": "code",
   "execution_count": 51,
   "id": "489ece2a",
   "metadata": {},
   "outputs": [
    {
     "data": {
      "text/plain": [
       "False"
      ]
     },
     "execution_count": 51,
     "metadata": {},
     "output_type": "execute_result"
    }
   ],
   "source": [
    "4 == 4.0000001"
   ]
  },
  {
   "cell_type": "code",
   "execution_count": 52,
   "id": "f816e401",
   "metadata": {},
   "outputs": [
    {
     "data": {
      "text/plain": [
       "1"
      ]
     },
     "execution_count": 52,
     "metadata": {},
     "output_type": "execute_result"
    }
   ],
   "source": [
    "# MODULO OPERATOR == remainder operator\n",
    "# 5 % 2 should read as \"five divided by two leaves what value?\"\n",
    "5 % 2"
   ]
  },
  {
   "cell_type": "code",
   "execution_count": null,
   "id": "f1197928",
   "metadata": {},
   "outputs": [],
   "source": [
    "# first_number % second_number == no remainder means\n",
    "# the first number is evenly divisible by the second number\n",
    "4 % 2 == 0"
   ]
  },
  {
   "cell_type": "code",
   "execution_count": 53,
   "id": "cf56a4f2",
   "metadata": {},
   "outputs": [
    {
     "data": {
      "text/plain": [
       "1.5"
      ]
     },
     "execution_count": 53,
     "metadata": {},
     "output_type": "execute_result"
    }
   ],
   "source": [
    "3 / 2"
   ]
  },
  {
   "cell_type": "code",
   "execution_count": 54,
   "id": "d6635be3",
   "metadata": {},
   "outputs": [
    {
     "data": {
      "text/plain": [
       "1"
      ]
     },
     "execution_count": 54,
     "metadata": {},
     "output_type": "execute_result"
    }
   ],
   "source": [
    "## // quotient\n",
    "# two goes into 3 one full time\n",
    "3 // 2"
   ]
  },
  {
   "cell_type": "code",
   "execution_count": 56,
   "id": "0ad16105",
   "metadata": {},
   "outputs": [
    {
     "data": {
      "text/plain": [
       "1"
      ]
     },
     "execution_count": 56,
     "metadata": {},
     "output_type": "execute_result"
    }
   ],
   "source": [
    "# 3 divided by two leaves 1 as the remainder\n",
    "3 % 2"
   ]
  },
  {
   "cell_type": "code",
   "execution_count": 57,
   "id": "1c03d4a5",
   "metadata": {},
   "outputs": [
    {
     "data": {
      "text/plain": [
       "1.0"
      ]
     },
     "execution_count": 57,
     "metadata": {},
     "output_type": "execute_result"
    }
   ],
   "source": [
    "3.33 // 2"
   ]
  },
  {
   "cell_type": "code",
   "execution_count": 58,
   "id": "7a24e02b",
   "metadata": {},
   "outputs": [
    {
     "data": {
      "text/plain": [
       "15"
      ]
     },
     "execution_count": 58,
     "metadata": {},
     "output_type": "execute_result"
    }
   ],
   "source": [
    "3 * 5"
   ]
  },
  {
   "cell_type": "code",
   "execution_count": 59,
   "id": "0ce59ccc",
   "metadata": {},
   "outputs": [
    {
     "data": {
      "text/plain": [
       "15.5"
      ]
     },
     "execution_count": 59,
     "metadata": {},
     "output_type": "execute_result"
    }
   ],
   "source": [
    "3.1 * 5"
   ]
  },
  {
   "cell_type": "markdown",
   "id": "72775b59",
   "metadata": {},
   "source": [
    "## Strings\n",
    "- letters or numbers contained in double or single quotes\n",
    "- if we start a string with double quotes, we need to end w/ double\n",
    "- if we start w/ single quotes, we end with single quotes\n",
    "- If we need a string that contains characters including `\"` or `'`, we use 3 quotation marks"
   ]
  },
  {
   "cell_type": "code",
   "execution_count": 60,
   "id": "d5b69c6f",
   "metadata": {},
   "outputs": [
    {
     "data": {
      "text/plain": [
       "\"It's been great to program Python with y'all\""
      ]
     },
     "execution_count": 60,
     "metadata": {},
     "output_type": "execute_result"
    }
   ],
   "source": [
    "message = \"It's been great to program Python with y'all\"\n",
    "message"
   ]
  },
  {
   "cell_type": "code",
   "execution_count": 62,
   "id": "5a0bf9b6",
   "metadata": {
    "scrolled": true
   },
   "outputs": [
    {
     "data": {
      "text/plain": [
       "'\\n\\'\"You miss 100% of the shots you don\\'t take\" - Wayne Gretsky\\' - Michael Scott\\n'"
      ]
     },
     "execution_count": 62,
     "metadata": {},
     "output_type": "execute_result"
    }
   ],
   "source": [
    "quote = \"\"\"\n",
    "'\"You miss 100% of the shots you don't take\" - Wayne Gretsky' - Michael Scott\n",
    "\"\"\"\n",
    "\n",
    "quote"
   ]
  },
  {
   "cell_type": "code",
   "execution_count": 63,
   "id": "055397ba",
   "metadata": {},
   "outputs": [
    {
     "name": "stdout",
     "output_type": "stream",
     "text": [
      "\n",
      "'\"You miss 100% of the shots you don't take\" - Wayne Gretsky' - Michael Scott\n",
      "\n"
     ]
    }
   ],
   "source": [
    "print(quote)"
   ]
  },
  {
   "cell_type": "code",
   "execution_count": null,
   "id": "4bd09cf8",
   "metadata": {},
   "outputs": [],
   "source": [
    "# Backslash is an escape character\n",
    "# What is \"escaping\" mean? Escaping means avoiding the default behavior "
   ]
  },
  {
   "cell_type": "code",
   "execution_count": 64,
   "id": "d8881ad6",
   "metadata": {},
   "outputs": [],
   "source": [
    "# Use case for triple quotes as a docstring \n",
    "def is_even(n):\n",
    "    \"\"\"returns a boolean if the input is an even number\"\"\"\n",
    "    return n % 2 == 0"
   ]
  },
  {
   "cell_type": "code",
   "execution_count": 6,
   "id": "f41097a3",
   "metadata": {},
   "outputs": [
    {
     "name": "stdout",
     "output_type": "stream",
     "text": [
      "Object `is_even` not found.\n"
     ]
    }
   ],
   "source": [
    "is_even?"
   ]
  },
  {
   "cell_type": "code",
   "execution_count": 7,
   "id": "2906bb7e",
   "metadata": {},
   "outputs": [],
   "source": [
    "len?"
   ]
  },
  {
   "cell_type": "code",
   "execution_count": 8,
   "id": "a90ef11a",
   "metadata": {},
   "outputs": [
    {
     "data": {
      "text/plain": [
       "5"
      ]
     },
     "execution_count": 8,
     "metadata": {},
     "output_type": "execute_result"
    }
   ],
   "source": [
    "len(\"hello\")"
   ]
  },
  {
   "cell_type": "code",
   "execution_count": 4,
   "id": "f0dbc855",
   "metadata": {},
   "outputs": [],
   "source": [
    "print?"
   ]
  },
  {
   "cell_type": "markdown",
   "id": "83890c07",
   "metadata": {},
   "source": [
    "## String Operations"
   ]
  },
  {
   "cell_type": "code",
   "execution_count": 9,
   "id": "f1596234",
   "metadata": {},
   "outputs": [
    {
     "data": {
      "text/plain": [
       "False"
      ]
     },
     "execution_count": 9,
     "metadata": {},
     "output_type": "execute_result"
    }
   ],
   "source": [
    "'Adam' == 'Gomez'"
   ]
  },
  {
   "cell_type": "code",
   "execution_count": 10,
   "id": "49947efc",
   "metadata": {},
   "outputs": [
    {
     "data": {
      "text/plain": [
       "True"
      ]
     },
     "execution_count": 10,
     "metadata": {},
     "output_type": "execute_result"
    }
   ],
   "source": [
    "'Adam' == 'Adam'"
   ]
  },
  {
   "cell_type": "code",
   "execution_count": 11,
   "id": "1b47dff3",
   "metadata": {},
   "outputs": [
    {
     "data": {
      "text/plain": [
       "True"
      ]
     },
     "execution_count": 11,
     "metadata": {},
     "output_type": "execute_result"
    }
   ],
   "source": [
    "'Adam' < 'Dave'"
   ]
  },
  {
   "cell_type": "code",
   "execution_count": 12,
   "id": "98e959c0",
   "metadata": {},
   "outputs": [
    {
     "data": {
      "text/plain": [
       "'adam gomez'"
      ]
     },
     "execution_count": 12,
     "metadata": {},
     "output_type": "execute_result"
    }
   ],
   "source": [
    "'adam' + ' ' + 'gomez'"
   ]
  },
  {
   "cell_type": "code",
   "execution_count": 13,
   "id": "df86cbdb",
   "metadata": {},
   "outputs": [
    {
     "data": {
      "text/plain": [
       "'abcabcabc'"
      ]
     },
     "execution_count": 13,
     "metadata": {},
     "output_type": "execute_result"
    }
   ],
   "source": [
    "'abc' * 3"
   ]
  },
  {
   "cell_type": "code",
   "execution_count": 15,
   "id": "44280818",
   "metadata": {},
   "outputs": [
    {
     "data": {
      "text/plain": [
       "'21'"
      ]
     },
     "execution_count": 15,
     "metadata": {},
     "output_type": "execute_result"
    }
   ],
   "source": [
    "'2' + str(1)"
   ]
  },
  {
   "cell_type": "code",
   "execution_count": 16,
   "id": "ce0c6370",
   "metadata": {},
   "outputs": [
    {
     "data": {
      "text/plain": [
       "3"
      ]
     },
     "execution_count": 16,
     "metadata": {},
     "output_type": "execute_result"
    }
   ],
   "source": [
    "int('2') + 1"
   ]
  },
  {
   "cell_type": "code",
   "execution_count": 17,
   "id": "49548257",
   "metadata": {},
   "outputs": [
    {
     "ename": "ValueError",
     "evalue": "invalid literal for int() with base 10: '2.123'",
     "output_type": "error",
     "traceback": [
      "\u001b[0;31m---------------------------------------------------------------------------\u001b[0m",
      "\u001b[0;31mValueError\u001b[0m                                Traceback (most recent call last)",
      "\u001b[0;32m<ipython-input-17-e3d033244f7d>\u001b[0m in \u001b[0;36m<module>\u001b[0;34m\u001b[0m\n\u001b[0;32m----> 1\u001b[0;31m \u001b[0mint\u001b[0m\u001b[0;34m(\u001b[0m\u001b[0;34m'2.123'\u001b[0m\u001b[0;34m)\u001b[0m\u001b[0;34m\u001b[0m\u001b[0;34m\u001b[0m\u001b[0m\n\u001b[0m",
      "\u001b[0;31mValueError\u001b[0m: invalid literal for int() with base 10: '2.123'"
     ]
    }
   ],
   "source": [
    "int('2.123')"
   ]
  },
  {
   "cell_type": "code",
   "execution_count": 18,
   "id": "3c14c972",
   "metadata": {},
   "outputs": [
    {
     "ename": "ValueError",
     "evalue": "invalid literal for int() with base 10: '2.000'",
     "output_type": "error",
     "traceback": [
      "\u001b[0;31m---------------------------------------------------------------------------\u001b[0m",
      "\u001b[0;31mValueError\u001b[0m                                Traceback (most recent call last)",
      "\u001b[0;32m<ipython-input-18-682692dfeb74>\u001b[0m in \u001b[0;36m<module>\u001b[0;34m\u001b[0m\n\u001b[0;32m----> 1\u001b[0;31m \u001b[0mint\u001b[0m\u001b[0;34m(\u001b[0m\u001b[0;34m'2.000'\u001b[0m\u001b[0;34m)\u001b[0m\u001b[0;34m\u001b[0m\u001b[0;34m\u001b[0m\u001b[0m\n\u001b[0m",
      "\u001b[0;31mValueError\u001b[0m: invalid literal for int() with base 10: '2.000'"
     ]
    }
   ],
   "source": [
    "int('2.000')"
   ]
  },
  {
   "cell_type": "markdown",
   "id": "e0a79abc",
   "metadata": {},
   "source": [
    "## String Formatting"
   ]
  },
  {
   "cell_type": "code",
   "execution_count": 19,
   "id": "8c73e9ad",
   "metadata": {},
   "outputs": [],
   "source": [
    "name = \"World\""
   ]
  },
  {
   "cell_type": "code",
   "execution_count": 20,
   "id": "823ff29f",
   "metadata": {},
   "outputs": [
    {
     "data": {
      "text/plain": [
       "'Hello, World!'"
      ]
     },
     "execution_count": 20,
     "metadata": {},
     "output_type": "execute_result"
    }
   ],
   "source": [
    "'Hello, %s!' % name"
   ]
  },
  {
   "cell_type": "code",
   "execution_count": 21,
   "id": "9122b0ec",
   "metadata": {},
   "outputs": [
    {
     "data": {
      "text/plain": [
       "'Hello, World!'"
      ]
     },
     "execution_count": 21,
     "metadata": {},
     "output_type": "execute_result"
    }
   ],
   "source": [
    "'Hello, {}!'.format(name)"
   ]
  },
  {
   "cell_type": "code",
   "execution_count": 22,
   "id": "a2fac854",
   "metadata": {},
   "outputs": [
    {
     "data": {
      "text/plain": [
       "'Hello World!'"
      ]
     },
     "execution_count": 22,
     "metadata": {},
     "output_type": "execute_result"
    }
   ],
   "source": [
    "f'Hello {name}!'"
   ]
  },
  {
   "cell_type": "code",
   "execution_count": 24,
   "id": "79c198e4",
   "metadata": {},
   "outputs": [],
   "source": [
    "number = 10"
   ]
  },
  {
   "cell_type": "code",
   "execution_count": 26,
   "id": "3c899da0",
   "metadata": {},
   "outputs": [
    {
     "data": {
      "text/plain": [
       "'Hello 10'"
      ]
     },
     "execution_count": 26,
     "metadata": {},
     "output_type": "execute_result"
    }
   ],
   "source": [
    "f'Hello {str(number)}'"
   ]
  },
  {
   "cell_type": "markdown",
   "id": "f08fa55e",
   "metadata": {},
   "source": [
    "## String methods and indexing\n"
   ]
  },
  {
   "cell_type": "code",
   "execution_count": 27,
   "id": "9c71f59d",
   "metadata": {},
   "outputs": [],
   "source": [
    "# function is going to be listed first with () following\n",
    "# method is going to be listed last with .method"
   ]
  },
  {
   "cell_type": "code",
   "execution_count": 28,
   "id": "d55d19d9",
   "metadata": {},
   "outputs": [
    {
     "data": {
      "text/plain": [
       "'1'"
      ]
     },
     "execution_count": 28,
     "metadata": {},
     "output_type": "execute_result"
    }
   ],
   "source": [
    "# function\n",
    "str(1)"
   ]
  },
  {
   "cell_type": "code",
   "execution_count": 29,
   "id": "3a8e68a5",
   "metadata": {},
   "outputs": [],
   "source": [
    "s = '   Hello, Codeup!   '"
   ]
  },
  {
   "cell_type": "code",
   "execution_count": 30,
   "id": "0046cbe6",
   "metadata": {},
   "outputs": [
    {
     "data": {
      "text/plain": [
       "'   hello, codeup!   '"
      ]
     },
     "execution_count": 30,
     "metadata": {},
     "output_type": "execute_result"
    }
   ],
   "source": [
    "s.lower()"
   ]
  },
  {
   "cell_type": "code",
   "execution_count": 31,
   "id": "30459e15",
   "metadata": {},
   "outputs": [
    {
     "ename": "NameError",
     "evalue": "name 'lower' is not defined",
     "output_type": "error",
     "traceback": [
      "\u001b[0;31m---------------------------------------------------------------------------\u001b[0m",
      "\u001b[0;31mNameError\u001b[0m                                 Traceback (most recent call last)",
      "\u001b[0;32m<ipython-input-31-2882fb89be22>\u001b[0m in \u001b[0;36m<module>\u001b[0;34m\u001b[0m\n\u001b[0;32m----> 1\u001b[0;31m \u001b[0mlower\u001b[0m\u001b[0;34m(\u001b[0m\u001b[0ms\u001b[0m\u001b[0;34m)\u001b[0m\u001b[0;34m\u001b[0m\u001b[0;34m\u001b[0m\u001b[0m\n\u001b[0m",
      "\u001b[0;31mNameError\u001b[0m: name 'lower' is not defined"
     ]
    }
   ],
   "source": [
    "lower(s)"
   ]
  },
  {
   "cell_type": "code",
   "execution_count": 32,
   "id": "a247e75d",
   "metadata": {},
   "outputs": [
    {
     "data": {
      "text/plain": [
       "'Hello, Codeup!'"
      ]
     },
     "execution_count": 32,
     "metadata": {},
     "output_type": "execute_result"
    }
   ],
   "source": [
    "s.strip()"
   ]
  },
  {
   "cell_type": "code",
   "execution_count": 33,
   "id": "8a222031",
   "metadata": {},
   "outputs": [
    {
     "data": {
      "text/plain": [
       "False"
      ]
     },
     "execution_count": 33,
     "metadata": {},
     "output_type": "execute_result"
    }
   ],
   "source": [
    "s.isdigit()"
   ]
  },
  {
   "cell_type": "code",
   "execution_count": 34,
   "id": "7b36b756",
   "metadata": {},
   "outputs": [
    {
     "data": {
      "text/plain": [
       "True"
      ]
     },
     "execution_count": 34,
     "metadata": {},
     "output_type": "execute_result"
    }
   ],
   "source": [
    "'123'.isdigit()"
   ]
  },
  {
   "cell_type": "code",
   "execution_count": 35,
   "id": "1f524fad",
   "metadata": {},
   "outputs": [
    {
     "data": {
      "text/plain": [
       "['Hello', 'Codeup!']"
      ]
     },
     "execution_count": 35,
     "metadata": {},
     "output_type": "execute_result"
    }
   ],
   "source": [
    "s.strip().split(', ')"
   ]
  },
  {
   "cell_type": "code",
   "execution_count": 36,
   "id": "02222c18",
   "metadata": {},
   "outputs": [
    {
     "data": {
      "text/plain": [
       "'one, two, three'"
      ]
     },
     "execution_count": 36,
     "metadata": {},
     "output_type": "execute_result"
    }
   ],
   "source": [
    "(', ').join(['one', 'two', 'three'])"
   ]
  },
  {
   "cell_type": "markdown",
   "id": "ad1b2647",
   "metadata": {},
   "source": [
    "## Lists and list operations\n"
   ]
  },
  {
   "cell_type": "code",
   "execution_count": 37,
   "id": "f5fef133",
   "metadata": {},
   "outputs": [
    {
     "data": {
      "text/plain": [
       "[1, 2, 3]"
      ]
     },
     "execution_count": 37,
     "metadata": {},
     "output_type": "execute_result"
    }
   ],
   "source": [
    "[1, 2, 3]"
   ]
  },
  {
   "cell_type": "code",
   "execution_count": 38,
   "id": "f3333e7e",
   "metadata": {},
   "outputs": [
    {
     "data": {
      "text/plain": [
       "[1, 'two', 3.125241]"
      ]
     },
     "execution_count": 38,
     "metadata": {},
     "output_type": "execute_result"
    }
   ],
   "source": [
    "[1, 'two', 3.125241]"
   ]
  },
  {
   "cell_type": "code",
   "execution_count": 40,
   "id": "e312bdd0",
   "metadata": {},
   "outputs": [
    {
     "data": {
      "text/plain": [
       "[[[0, 0, 0], 2, 3], [4, 5, 6], [7, 8, 9]]"
      ]
     },
     "execution_count": 40,
     "metadata": {},
     "output_type": "execute_result"
    }
   ],
   "source": [
    "[[[0, 0, 0], 2, 3], [4, 5, 6], [7, 8, 9]]"
   ]
  },
  {
   "cell_type": "code",
   "execution_count": 41,
   "id": "5f7fcf01",
   "metadata": {},
   "outputs": [
    {
     "data": {
      "text/plain": [
       "3"
      ]
     },
     "execution_count": 41,
     "metadata": {},
     "output_type": "execute_result"
    }
   ],
   "source": [
    "len([1, 2, 3])"
   ]
  },
  {
   "cell_type": "code",
   "execution_count": 42,
   "id": "5e7975bd",
   "metadata": {},
   "outputs": [
    {
     "data": {
      "text/plain": [
       "3"
      ]
     },
     "execution_count": 42,
     "metadata": {},
     "output_type": "execute_result"
    }
   ],
   "source": [
    "len([[[0, 0, 0], 2, 3], [4, 5, 6], [7, 8, 9]])"
   ]
  },
  {
   "cell_type": "code",
   "execution_count": 43,
   "id": "e38ac032",
   "metadata": {},
   "outputs": [],
   "source": [
    "storage_box = []\n",
    "for each_number in [1, 2, 3, 4, 5, 6, 7]:\n",
    "    storage_box.append('box')"
   ]
  },
  {
   "cell_type": "code",
   "execution_count": 44,
   "id": "be57b17f",
   "metadata": {},
   "outputs": [
    {
     "data": {
      "text/plain": [
       "['box', 'box', 'box', 'box', 'box', 'box', 'box']"
      ]
     },
     "execution_count": 44,
     "metadata": {},
     "output_type": "execute_result"
    }
   ],
   "source": [
    "storage_box"
   ]
  },
  {
   "cell_type": "markdown",
   "id": "8ffe4c97",
   "metadata": {},
   "source": [
    "## List Comprehensions"
   ]
  },
  {
   "cell_type": "code",
   "execution_count": 47,
   "id": "7cbbc28f",
   "metadata": {},
   "outputs": [],
   "source": [
    "storage_box2 = ['box' for each_number in range(7)]"
   ]
  },
  {
   "cell_type": "code",
   "execution_count": 50,
   "id": "9842a0b2",
   "metadata": {},
   "outputs": [
    {
     "data": {
      "text/plain": [
       "[0, 1, 2, 3, 4, 5, 6]"
      ]
     },
     "execution_count": 50,
     "metadata": {},
     "output_type": "execute_result"
    }
   ],
   "source": [
    "list(range(7))"
   ]
  },
  {
   "cell_type": "code",
   "execution_count": 48,
   "id": "8d77cb8c",
   "metadata": {},
   "outputs": [
    {
     "data": {
      "text/plain": [
       "['box', 'box', 'box', 'box', 'box', 'box', 'box']"
      ]
     },
     "execution_count": 48,
     "metadata": {},
     "output_type": "execute_result"
    }
   ],
   "source": [
    "storage_box2"
   ]
  },
  {
   "cell_type": "code",
   "execution_count": 51,
   "id": "45a015e0",
   "metadata": {},
   "outputs": [],
   "source": [
    "storage_box3 = ['box' for each_element in ['1', '2', 123, 1.245, 'string', ['1', 2], 0]]"
   ]
  },
  {
   "cell_type": "code",
   "execution_count": 52,
   "id": "fad39ead",
   "metadata": {},
   "outputs": [
    {
     "data": {
      "text/plain": [
       "['box', 'box', 'box', 'box', 'box', 'box', 'box']"
      ]
     },
     "execution_count": 52,
     "metadata": {},
     "output_type": "execute_result"
    }
   ],
   "source": [
    "storage_box3"
   ]
  },
  {
   "cell_type": "code",
   "execution_count": 53,
   "id": "cd2d9373",
   "metadata": {},
   "outputs": [],
   "source": [
    "storage_box4 = ['box' for beans in ['1', '2', 123, 1.245, 'string', ['1', 2], 0]]"
   ]
  },
  {
   "cell_type": "code",
   "execution_count": 54,
   "id": "af83cf24",
   "metadata": {},
   "outputs": [
    {
     "data": {
      "text/plain": [
       "['box', 'box', 'box', 'box', 'box', 'box', 'box']"
      ]
     },
     "execution_count": 54,
     "metadata": {},
     "output_type": "execute_result"
    }
   ],
   "source": [
    "storage_box4"
   ]
  },
  {
   "cell_type": "code",
   "execution_count": 55,
   "id": "1b16a8ec",
   "metadata": {},
   "outputs": [],
   "source": [
    "storage_box5 = ['box' for n in range(7)]"
   ]
  },
  {
   "cell_type": "code",
   "execution_count": 56,
   "id": "dc6f50fe",
   "metadata": {},
   "outputs": [
    {
     "data": {
      "text/plain": [
       "['box', 'box', 'box', 'box', 'box', 'box', 'box']"
      ]
     },
     "execution_count": 56,
     "metadata": {},
     "output_type": "execute_result"
    }
   ],
   "source": [
    "storage_box5"
   ]
  },
  {
   "cell_type": "code",
   "execution_count": 58,
   "id": "141f19ad",
   "metadata": {},
   "outputs": [],
   "source": [
    "storage_box5 = [n * 2 for n in range(7)]"
   ]
  },
  {
   "cell_type": "code",
   "execution_count": 59,
   "id": "1bcc4d15",
   "metadata": {},
   "outputs": [
    {
     "data": {
      "text/plain": [
       "[0, 2, 4, 6, 8, 10, 12]"
      ]
     },
     "execution_count": 59,
     "metadata": {},
     "output_type": "execute_result"
    }
   ],
   "source": [
    "storage_box5"
   ]
  },
  {
   "cell_type": "code",
   "execution_count": 60,
   "id": "610222e4",
   "metadata": {},
   "outputs": [],
   "source": [
    "storage_box6 = ['box' * 2 for n in range(7)]"
   ]
  },
  {
   "cell_type": "code",
   "execution_count": 61,
   "id": "8c72a83b",
   "metadata": {},
   "outputs": [
    {
     "data": {
      "text/plain": [
       "['boxbox', 'boxbox', 'boxbox', 'boxbox', 'boxbox', 'boxbox', 'boxbox']"
      ]
     },
     "execution_count": 61,
     "metadata": {},
     "output_type": "execute_result"
    }
   ],
   "source": [
    "storage_box6"
   ]
  },
  {
   "cell_type": "code",
   "execution_count": 62,
   "id": "b4cee97b",
   "metadata": {},
   "outputs": [],
   "source": [
    "storage_box7 = [n * 2 for n in range(7) if n % 2 == 0]"
   ]
  },
  {
   "cell_type": "code",
   "execution_count": 63,
   "id": "b993abc1",
   "metadata": {},
   "outputs": [
    {
     "data": {
      "text/plain": [
       "[0, 4, 8, 12]"
      ]
     },
     "execution_count": 63,
     "metadata": {},
     "output_type": "execute_result"
    }
   ],
   "source": [
    "storage_box7"
   ]
  },
  {
   "cell_type": "code",
   "execution_count": 68,
   "id": "bc2fc381",
   "metadata": {},
   "outputs": [],
   "source": [
    "storage_box7b = [n for n in range(7) if n % 2 == 0]"
   ]
  },
  {
   "cell_type": "code",
   "execution_count": 69,
   "id": "588f9845",
   "metadata": {},
   "outputs": [
    {
     "data": {
      "text/plain": [
       "[0, 2, 4, 6]"
      ]
     },
     "execution_count": 69,
     "metadata": {},
     "output_type": "execute_result"
    }
   ],
   "source": [
    "storage_box7b"
   ]
  },
  {
   "cell_type": "code",
   "execution_count": 64,
   "id": "dd9f6df7",
   "metadata": {},
   "outputs": [],
   "source": [
    "storage_box8 = [n * 2 for n in range(7) if n % 2 == 1]"
   ]
  },
  {
   "cell_type": "code",
   "execution_count": 65,
   "id": "fab57636",
   "metadata": {},
   "outputs": [
    {
     "data": {
      "text/plain": [
       "[2, 6, 10]"
      ]
     },
     "execution_count": 65,
     "metadata": {},
     "output_type": "execute_result"
    }
   ],
   "source": [
    "storage_box8"
   ]
  },
  {
   "cell_type": "code",
   "execution_count": 66,
   "id": "6fa54333",
   "metadata": {},
   "outputs": [],
   "source": [
    "storage_box9 = [n * 2 for n in range(100) if (n % 2 == 0) and (n % 3 == 0)]"
   ]
  },
  {
   "cell_type": "code",
   "execution_count": 67,
   "id": "3ef78395",
   "metadata": {},
   "outputs": [
    {
     "data": {
      "text/plain": [
       "[0, 12, 24, 36, 48, 60, 72, 84, 96, 108, 120, 132, 144, 156, 168, 180, 192]"
      ]
     },
     "execution_count": 67,
     "metadata": {},
     "output_type": "execute_result"
    }
   ],
   "source": [
    "storage_box9"
   ]
  },
  {
   "cell_type": "markdown",
   "id": "8435d1d0",
   "metadata": {},
   "source": [
    "## List Operations"
   ]
  },
  {
   "cell_type": "code",
   "execution_count": 70,
   "id": "fdf3e54b",
   "metadata": {},
   "outputs": [],
   "source": [
    "numbers = [1, 2, 3]"
   ]
  },
  {
   "cell_type": "code",
   "execution_count": 71,
   "id": "ee08f3ee",
   "metadata": {},
   "outputs": [
    {
     "data": {
      "text/plain": [
       "[1, 2, 3, 4]"
      ]
     },
     "execution_count": 71,
     "metadata": {},
     "output_type": "execute_result"
    }
   ],
   "source": [
    "numbers.append(4)\n",
    "numbers"
   ]
  },
  {
   "cell_type": "code",
   "execution_count": 72,
   "id": "272abd98",
   "metadata": {},
   "outputs": [
    {
     "data": {
      "text/plain": [
       "[1, 2, 3]"
      ]
     },
     "execution_count": 72,
     "metadata": {},
     "output_type": "execute_result"
    }
   ],
   "source": [
    "numbers.pop()\n",
    "numbers"
   ]
  },
  {
   "cell_type": "code",
   "execution_count": 73,
   "id": "b0ced1f6",
   "metadata": {},
   "outputs": [
    {
     "data": {
      "text/plain": [
       "3"
      ]
     },
     "execution_count": 73,
     "metadata": {},
     "output_type": "execute_result"
    }
   ],
   "source": [
    "removed_element = numbers.pop()\n",
    "removed_element"
   ]
  },
  {
   "cell_type": "code",
   "execution_count": 74,
   "id": "216186e7",
   "metadata": {},
   "outputs": [
    {
     "data": {
      "text/plain": [
       "[1, 2]"
      ]
     },
     "execution_count": 74,
     "metadata": {},
     "output_type": "execute_result"
    }
   ],
   "source": [
    "numbers"
   ]
  },
  {
   "cell_type": "code",
   "execution_count": 75,
   "id": "927b388d",
   "metadata": {},
   "outputs": [
    {
     "data": {
      "text/plain": [
       "2"
      ]
     },
     "execution_count": 75,
     "metadata": {},
     "output_type": "execute_result"
    }
   ],
   "source": [
    "len(numbers)"
   ]
  },
  {
   "cell_type": "markdown",
   "id": "1cac0845",
   "metadata": {},
   "source": [
    "## List Indexing"
   ]
  },
  {
   "cell_type": "code",
   "execution_count": 79,
   "id": "dfe9681c",
   "metadata": {},
   "outputs": [],
   "source": [
    "list_of_lists = [[['one', 'two', 'three'], 2, 3], [4, 5, 6], [7, 8, 9]]"
   ]
  },
  {
   "cell_type": "code",
   "execution_count": 80,
   "id": "ff793a39",
   "metadata": {},
   "outputs": [
    {
     "name": "stdout",
     "output_type": "stream",
     "text": [
      "[['one', 'two', 'three'], 2, 3]\n",
      "[4, 5, 6]\n",
      "[7, 8, 9]\n"
     ]
    }
   ],
   "source": [
    "print(list_of_lists[0])\n",
    "print(list_of_lists[1])\n",
    "print(list_of_lists[2])"
   ]
  },
  {
   "cell_type": "code",
   "execution_count": 81,
   "id": "7bc5cc2d",
   "metadata": {},
   "outputs": [
    {
     "name": "stdout",
     "output_type": "stream",
     "text": [
      "3\n"
     ]
    }
   ],
   "source": [
    "print(list_of_lists[0][2])"
   ]
  },
  {
   "cell_type": "code",
   "execution_count": 82,
   "id": "223d3625",
   "metadata": {},
   "outputs": [
    {
     "data": {
      "text/plain": [
       "['one', 'two', 'three']"
      ]
     },
     "execution_count": 82,
     "metadata": {},
     "output_type": "execute_result"
    }
   ],
   "source": [
    "list_of_lists[0][0]"
   ]
  },
  {
   "cell_type": "code",
   "execution_count": 83,
   "id": "7e22676f",
   "metadata": {},
   "outputs": [
    {
     "data": {
      "text/plain": [
       "'two'"
      ]
     },
     "execution_count": 83,
     "metadata": {},
     "output_type": "execute_result"
    }
   ],
   "source": [
    "list_of_lists[0][0][1]"
   ]
  },
  {
   "cell_type": "code",
   "execution_count": 85,
   "id": "1af77586",
   "metadata": {},
   "outputs": [
    {
     "data": {
      "text/plain": [
       "[[4, 5, 6], [7, 8, 9]]"
      ]
     },
     "execution_count": 85,
     "metadata": {},
     "output_type": "execute_result"
    }
   ],
   "source": [
    "list_of_lists[1:3]"
   ]
  },
  {
   "cell_type": "code",
   "execution_count": 86,
   "id": "da1a08e2",
   "metadata": {},
   "outputs": [
    {
     "data": {
      "text/plain": [
       "[[4, 5, 6], [7, 8, 9]]"
      ]
     },
     "execution_count": 86,
     "metadata": {},
     "output_type": "execute_result"
    }
   ],
   "source": [
    "list_of_lists[1:]"
   ]
  },
  {
   "cell_type": "code",
   "execution_count": 88,
   "id": "50db352e",
   "metadata": {},
   "outputs": [
    {
     "data": {
      "text/plain": [
       "[[['one', 'two', 'three'], 2, 3], [4, 5, 6]]"
      ]
     },
     "execution_count": 88,
     "metadata": {},
     "output_type": "execute_result"
    }
   ],
   "source": [
    "list_of_lists[:2]"
   ]
  },
  {
   "cell_type": "code",
   "execution_count": 89,
   "id": "6673ef2a",
   "metadata": {},
   "outputs": [
    {
     "data": {
      "text/plain": [
       "[[4, 5, 6]]"
      ]
     },
     "execution_count": 89,
     "metadata": {},
     "output_type": "execute_result"
    }
   ],
   "source": [
    "list_of_lists[1:2]"
   ]
  },
  {
   "cell_type": "code",
   "execution_count": 90,
   "id": "509f2570",
   "metadata": {},
   "outputs": [],
   "source": [
    "string_example = 'abcdefg'"
   ]
  },
  {
   "cell_type": "code",
   "execution_count": 91,
   "id": "e1fe8e3f",
   "metadata": {},
   "outputs": [
    {
     "data": {
      "text/plain": [
       "'a'"
      ]
     },
     "execution_count": 91,
     "metadata": {},
     "output_type": "execute_result"
    }
   ],
   "source": [
    "string_example[0]"
   ]
  },
  {
   "cell_type": "code",
   "execution_count": 92,
   "id": "a7f3e1fe",
   "metadata": {},
   "outputs": [
    {
     "data": {
      "text/plain": [
       "'defg'"
      ]
     },
     "execution_count": 92,
     "metadata": {},
     "output_type": "execute_result"
    }
   ],
   "source": [
    "string_example[3:]"
   ]
  },
  {
   "cell_type": "code",
   "execution_count": 93,
   "id": "08f5555a",
   "metadata": {},
   "outputs": [
    {
     "data": {
      "text/plain": [
       "'g'"
      ]
     },
     "execution_count": 93,
     "metadata": {},
     "output_type": "execute_result"
    }
   ],
   "source": [
    "string_example[-1]"
   ]
  },
  {
   "cell_type": "code",
   "execution_count": 94,
   "id": "881896a4",
   "metadata": {},
   "outputs": [
    {
     "data": {
      "text/plain": [
       "[[['one', 'two', 'three'], 2, 3], [4, 5, 6], [7, 8, 9]]"
      ]
     },
     "execution_count": 94,
     "metadata": {},
     "output_type": "execute_result"
    }
   ],
   "source": [
    "list_of_lists"
   ]
  },
  {
   "cell_type": "code",
   "execution_count": 95,
   "id": "5600f088",
   "metadata": {},
   "outputs": [
    {
     "data": {
      "text/plain": [
       "[['one', 'two', 'three'], 2, 3]"
      ]
     },
     "execution_count": 95,
     "metadata": {},
     "output_type": "execute_result"
    }
   ],
   "source": [
    "list_of_lists[0]"
   ]
  },
  {
   "cell_type": "code",
   "execution_count": 96,
   "id": "54292621",
   "metadata": {},
   "outputs": [
    {
     "data": {
      "text/plain": [
       "[2, 3]"
      ]
     },
     "execution_count": 96,
     "metadata": {},
     "output_type": "execute_result"
    }
   ],
   "source": [
    "list_of_lists[0][1:]"
   ]
  },
  {
   "cell_type": "markdown",
   "id": "6cb05eb8",
   "metadata": {},
   "source": [
    "## Converting To a List"
   ]
  },
  {
   "cell_type": "code",
   "execution_count": 97,
   "id": "2678fb0b",
   "metadata": {},
   "outputs": [
    {
     "data": {
      "text/plain": [
       "range(0, 7)"
      ]
     },
     "execution_count": 97,
     "metadata": {},
     "output_type": "execute_result"
    }
   ],
   "source": [
    "range(7)"
   ]
  },
  {
   "cell_type": "code",
   "execution_count": 98,
   "id": "f400bfc5",
   "metadata": {},
   "outputs": [
    {
     "data": {
      "text/plain": [
       "range"
      ]
     },
     "execution_count": 98,
     "metadata": {},
     "output_type": "execute_result"
    }
   ],
   "source": [
    "type(range(7))"
   ]
  },
  {
   "cell_type": "code",
   "execution_count": 99,
   "id": "16e278cc",
   "metadata": {},
   "outputs": [
    {
     "data": {
      "text/plain": [
       "7"
      ]
     },
     "execution_count": 99,
     "metadata": {},
     "output_type": "execute_result"
    }
   ],
   "source": [
    "len(range(7))"
   ]
  },
  {
   "cell_type": "code",
   "execution_count": 100,
   "id": "fbc87b5b",
   "metadata": {},
   "outputs": [
    {
     "data": {
      "text/plain": [
       "[0, 1, 2, 3, 4, 5, 6]"
      ]
     },
     "execution_count": 100,
     "metadata": {},
     "output_type": "execute_result"
    }
   ],
   "source": [
    "list(range(7))"
   ]
  },
  {
   "cell_type": "code",
   "execution_count": 101,
   "id": "141aae96",
   "metadata": {},
   "outputs": [
    {
     "data": {
      "text/plain": [
       "['a', 'b', 'c', 'd', 'e']"
      ]
     },
     "execution_count": 101,
     "metadata": {},
     "output_type": "execute_result"
    }
   ],
   "source": [
    "list('abcde')"
   ]
  },
  {
   "cell_type": "code",
   "execution_count": 102,
   "id": "b4aa4602",
   "metadata": {},
   "outputs": [
    {
     "data": {
      "text/plain": [
       "list"
      ]
     },
     "execution_count": 102,
     "metadata": {},
     "output_type": "execute_result"
    }
   ],
   "source": [
    "type(list('abcde'))"
   ]
  },
  {
   "cell_type": "code",
   "execution_count": 103,
   "id": "122d1462",
   "metadata": {},
   "outputs": [
    {
     "data": {
      "text/plain": [
       "range(15, -3, -2)"
      ]
     },
     "execution_count": 103,
     "metadata": {},
     "output_type": "execute_result"
    }
   ],
   "source": [
    "range(15, -3, -2)"
   ]
  },
  {
   "cell_type": "code",
   "execution_count": 104,
   "id": "fadeb027",
   "metadata": {},
   "outputs": [
    {
     "data": {
      "text/plain": [
       "[15, 13, 11, 9, 7, 5, 3, 1, -1]"
      ]
     },
     "execution_count": 104,
     "metadata": {},
     "output_type": "execute_result"
    }
   ],
   "source": [
    "list(range(15, -3, -2))"
   ]
  },
  {
   "cell_type": "code",
   "execution_count": 105,
   "id": "2df7903e",
   "metadata": {},
   "outputs": [
    {
     "data": {
      "text/plain": [
       "range(0, 1000000)"
      ]
     },
     "execution_count": 105,
     "metadata": {},
     "output_type": "execute_result"
    }
   ],
   "source": [
    "range(100*100*100)"
   ]
  },
  {
   "cell_type": "code",
   "execution_count": 106,
   "id": "5db2ed6b",
   "metadata": {},
   "outputs": [
    {
     "data": {
      "text/plain": [
       "['1', '2', '3']"
      ]
     },
     "execution_count": 106,
     "metadata": {},
     "output_type": "execute_result"
    }
   ],
   "source": [
    "list(map(str, [1, 2, 3]))"
   ]
  },
  {
   "cell_type": "code",
   "execution_count": 109,
   "id": "08fc898b",
   "metadata": {},
   "outputs": [
    {
     "data": {
      "text/plain": [
       "<map at 0x7fd6493e8820>"
      ]
     },
     "execution_count": 109,
     "metadata": {},
     "output_type": "execute_result"
    }
   ],
   "source": [
    "map(str, [1, 2, 3])"
   ]
  },
  {
   "cell_type": "markdown",
   "id": "caf9e173",
   "metadata": {},
   "source": [
    "## Tuples are lists that don't change"
   ]
  },
  {
   "cell_type": "code",
   "execution_count": 111,
   "id": "7d47a3f9",
   "metadata": {},
   "outputs": [],
   "source": [
    " my_tuple = (1, 2, 3)"
   ]
  },
  {
   "cell_type": "code",
   "execution_count": 112,
   "id": "0fd045e9",
   "metadata": {},
   "outputs": [
    {
     "data": {
      "text/plain": [
       "(1, 2, 3)"
      ]
     },
     "execution_count": 112,
     "metadata": {},
     "output_type": "execute_result"
    }
   ],
   "source": [
    "my_tuple"
   ]
  },
  {
   "cell_type": "code",
   "execution_count": 113,
   "id": "89cfa264",
   "metadata": {},
   "outputs": [
    {
     "data": {
      "text/plain": [
       "(3,)"
      ]
     },
     "execution_count": 113,
     "metadata": {},
     "output_type": "execute_result"
    }
   ],
   "source": [
    "my_tuple[2:]"
   ]
  },
  {
   "cell_type": "code",
   "execution_count": 114,
   "id": "3cf39994",
   "metadata": {},
   "outputs": [
    {
     "ename": "AttributeError",
     "evalue": "'tuple' object has no attribute 'append'",
     "output_type": "error",
     "traceback": [
      "\u001b[0;31m---------------------------------------------------------------------------\u001b[0m",
      "\u001b[0;31mAttributeError\u001b[0m                            Traceback (most recent call last)",
      "\u001b[0;32m<ipython-input-114-5cb3df206248>\u001b[0m in \u001b[0;36m<module>\u001b[0;34m\u001b[0m\n\u001b[0;32m----> 1\u001b[0;31m \u001b[0mmy_tuple\u001b[0m\u001b[0;34m.\u001b[0m\u001b[0mappend\u001b[0m\u001b[0;34m(\u001b[0m\u001b[0;36m4\u001b[0m\u001b[0;34m)\u001b[0m\u001b[0;34m\u001b[0m\u001b[0;34m\u001b[0m\u001b[0m\n\u001b[0m",
      "\u001b[0;31mAttributeError\u001b[0m: 'tuple' object has no attribute 'append'"
     ]
    }
   ],
   "source": [
    "my_tuple.append(4)"
   ]
  },
  {
   "cell_type": "code",
   "execution_count": 115,
   "id": "b3d6f1bb",
   "metadata": {},
   "outputs": [],
   "source": [
    "my_tuple = (2, 3, 4)"
   ]
  },
  {
   "cell_type": "code",
   "execution_count": 116,
   "id": "0d082de6",
   "metadata": {},
   "outputs": [
    {
     "data": {
      "text/plain": [
       "(2, 3, 4)"
      ]
     },
     "execution_count": 116,
     "metadata": {},
     "output_type": "execute_result"
    }
   ],
   "source": [
    "my_tuple"
   ]
  },
  {
   "cell_type": "markdown",
   "id": "13d6d11e",
   "metadata": {},
   "source": [
    "## Dictionaries"
   ]
  },
  {
   "cell_type": "code",
   "execution_count": 117,
   "id": "080f72ed",
   "metadata": {},
   "outputs": [],
   "source": [
    "my_dict = {'users': ['Bob', 'Adam', 'Sally', 'Jen', 'Mike'], 'roles': ['Admin', 'Reviewer', 'Commentator']}"
   ]
  },
  {
   "cell_type": "code",
   "execution_count": 118,
   "id": "57fbae10",
   "metadata": {},
   "outputs": [
    {
     "data": {
      "text/plain": [
       "2"
      ]
     },
     "execution_count": 118,
     "metadata": {},
     "output_type": "execute_result"
    }
   ],
   "source": [
    "len(my_dict)"
   ]
  },
  {
   "cell_type": "code",
   "execution_count": 119,
   "id": "2371cfd8",
   "metadata": {},
   "outputs": [
    {
     "ename": "KeyError",
     "evalue": "0",
     "output_type": "error",
     "traceback": [
      "\u001b[0;31m---------------------------------------------------------------------------\u001b[0m",
      "\u001b[0;31mKeyError\u001b[0m                                  Traceback (most recent call last)",
      "\u001b[0;32m<ipython-input-119-2e042f7087f7>\u001b[0m in \u001b[0;36m<module>\u001b[0;34m\u001b[0m\n\u001b[0;32m----> 1\u001b[0;31m \u001b[0mmy_dict\u001b[0m\u001b[0;34m[\u001b[0m\u001b[0;36m0\u001b[0m\u001b[0;34m]\u001b[0m\u001b[0;34m\u001b[0m\u001b[0;34m\u001b[0m\u001b[0m\n\u001b[0m",
      "\u001b[0;31mKeyError\u001b[0m: 0"
     ]
    }
   ],
   "source": [
    "my_dict[0]"
   ]
  },
  {
   "cell_type": "code",
   "execution_count": 120,
   "id": "cdcd3d29",
   "metadata": {},
   "outputs": [
    {
     "data": {
      "text/plain": [
       "['Bob', 'Adam', 'Sally', 'Jen', 'Mike']"
      ]
     },
     "execution_count": 120,
     "metadata": {},
     "output_type": "execute_result"
    }
   ],
   "source": [
    "my_dict['users']"
   ]
  },
  {
   "cell_type": "code",
   "execution_count": 121,
   "id": "f0dbff26",
   "metadata": {},
   "outputs": [
    {
     "data": {
      "text/plain": [
       "['Admin', 'Reviewer', 'Commentator']"
      ]
     },
     "execution_count": 121,
     "metadata": {},
     "output_type": "execute_result"
    }
   ],
   "source": [
    "my_dict['roles']"
   ]
  },
  {
   "cell_type": "code",
   "execution_count": 122,
   "id": "c9055061",
   "metadata": {},
   "outputs": [],
   "source": [
    "my_dict2 = {'name': 'Codeup', 'age': 4}"
   ]
  },
  {
   "cell_type": "code",
   "execution_count": 124,
   "id": "90f3931e",
   "metadata": {},
   "outputs": [
    {
     "data": {
      "text/plain": [
       "'Codeup'"
      ]
     },
     "execution_count": 124,
     "metadata": {},
     "output_type": "execute_result"
    }
   ],
   "source": [
    "my_dict2['name']"
   ]
  },
  {
   "cell_type": "code",
   "execution_count": 125,
   "id": "76f5fd54",
   "metadata": {},
   "outputs": [
    {
     "data": {
      "text/plain": [
       "'Codeup is cool'"
      ]
     },
     "execution_count": 125,
     "metadata": {},
     "output_type": "execute_result"
    }
   ],
   "source": [
    "my_dict2['name'] + ' is cool'"
   ]
  },
  {
   "cell_type": "code",
   "execution_count": 126,
   "id": "4d755ec6",
   "metadata": {},
   "outputs": [
    {
     "data": {
      "text/plain": [
       "{'name': 'Codeup', 'age': 4}"
      ]
     },
     "execution_count": 126,
     "metadata": {},
     "output_type": "execute_result"
    }
   ],
   "source": [
    "my_dict2"
   ]
  },
  {
   "cell_type": "code",
   "execution_count": 127,
   "id": "11f7d469",
   "metadata": {},
   "outputs": [
    {
     "data": {
      "text/plain": [
       "4"
      ]
     },
     "execution_count": 127,
     "metadata": {},
     "output_type": "execute_result"
    }
   ],
   "source": [
    "my_dict2['age']"
   ]
  },
  {
   "cell_type": "code",
   "execution_count": 128,
   "id": "b527989d",
   "metadata": {},
   "outputs": [],
   "source": [
    "my_dict2['age'] = my_dict2['age'] + 1"
   ]
  },
  {
   "cell_type": "code",
   "execution_count": 129,
   "id": "e3bb21f8",
   "metadata": {},
   "outputs": [
    {
     "data": {
      "text/plain": [
       "{'name': 'Codeup', 'age': 5}"
      ]
     },
     "execution_count": 129,
     "metadata": {},
     "output_type": "execute_result"
    }
   ],
   "source": [
    "my_dict2"
   ]
  },
  {
   "cell_type": "code",
   "execution_count": 130,
   "id": "6a447e07",
   "metadata": {},
   "outputs": [],
   "source": [
    "my_dict2['age'] = 'five'"
   ]
  },
  {
   "cell_type": "code",
   "execution_count": 131,
   "id": "5b1515cd",
   "metadata": {},
   "outputs": [
    {
     "data": {
      "text/plain": [
       "{'name': 'Codeup', 'age': 'five'}"
      ]
     },
     "execution_count": 131,
     "metadata": {},
     "output_type": "execute_result"
    }
   ],
   "source": [
    "my_dict2"
   ]
  },
  {
   "cell_type": "code",
   "execution_count": 132,
   "id": "3923f71e",
   "metadata": {},
   "outputs": [
    {
     "ename": "TypeError",
     "evalue": "can only concatenate str (not \"int\") to str",
     "output_type": "error",
     "traceback": [
      "\u001b[0;31m---------------------------------------------------------------------------\u001b[0m",
      "\u001b[0;31mTypeError\u001b[0m                                 Traceback (most recent call last)",
      "\u001b[0;32m<ipython-input-132-a0c9ee6a87f2>\u001b[0m in \u001b[0;36m<module>\u001b[0;34m\u001b[0m\n\u001b[0;32m----> 1\u001b[0;31m \u001b[0mmy_dict2\u001b[0m\u001b[0;34m[\u001b[0m\u001b[0;34m'age'\u001b[0m\u001b[0;34m]\u001b[0m \u001b[0;34m+=\u001b[0m \u001b[0;36m1\u001b[0m\u001b[0;34m\u001b[0m\u001b[0;34m\u001b[0m\u001b[0m\n\u001b[0m",
      "\u001b[0;31mTypeError\u001b[0m: can only concatenate str (not \"int\") to str"
     ]
    }
   ],
   "source": [
    "my_dict2['age'] += 1"
   ]
  },
  {
   "cell_type": "code",
   "execution_count": 133,
   "id": "a6fb13cc",
   "metadata": {},
   "outputs": [],
   "source": [
    "nested_dict = {'fruit_shops': {'location': ['NW', 'NE', 'SW', 'SE'], 'age': [10, 14, 13, 12], 'manager': ['Bob', 'Sally', 'Steve', 'Jim'], \n",
    "                              'revenue': {'daily': [1230, 1512, 1233, 5235]}}, 'bike_shops': 'None'}"
   ]
  },
  {
   "cell_type": "code",
   "execution_count": 134,
   "id": "71848b1e",
   "metadata": {},
   "outputs": [
    {
     "data": {
      "text/plain": [
       "{'fruit_shops': {'location': ['NW', 'NE', 'SW', 'SE'],\n",
       "  'age': [10, 14, 13, 12],\n",
       "  'manager': ['Bob', 'Sally', 'Steve', 'Jim'],\n",
       "  'revenue': {'daily': [1230, 1512, 1233, 5235]}},\n",
       " 'bike_shops': 'None'}"
      ]
     },
     "execution_count": 134,
     "metadata": {},
     "output_type": "execute_result"
    }
   ],
   "source": [
    "nested_dict"
   ]
  },
  {
   "cell_type": "code",
   "execution_count": 135,
   "id": "e73bf0ed",
   "metadata": {},
   "outputs": [
    {
     "data": {
      "text/plain": [
       "2"
      ]
     },
     "execution_count": 135,
     "metadata": {},
     "output_type": "execute_result"
    }
   ],
   "source": [
    "len(nested_dict)"
   ]
  },
  {
   "cell_type": "code",
   "execution_count": 137,
   "id": "b911b09c",
   "metadata": {},
   "outputs": [
    {
     "data": {
      "text/plain": [
       "dict_keys(['fruit_shops', 'bike_shops'])"
      ]
     },
     "execution_count": 137,
     "metadata": {},
     "output_type": "execute_result"
    }
   ],
   "source": [
    "nested_dict.keys()"
   ]
  },
  {
   "cell_type": "code",
   "execution_count": 138,
   "id": "d1c8f2af",
   "metadata": {},
   "outputs": [
    {
     "data": {
      "text/plain": [
       "{'location': ['NW', 'NE', 'SW', 'SE'],\n",
       " 'age': [10, 14, 13, 12],\n",
       " 'manager': ['Bob', 'Sally', 'Steve', 'Jim'],\n",
       " 'revenue': {'daily': [1230, 1512, 1233, 5235]}}"
      ]
     },
     "execution_count": 138,
     "metadata": {},
     "output_type": "execute_result"
    }
   ],
   "source": [
    "nested_dict['fruit_shops']"
   ]
  },
  {
   "cell_type": "code",
   "execution_count": 139,
   "id": "c26c9d93",
   "metadata": {},
   "outputs": [
    {
     "data": {
      "text/plain": [
       "'None'"
      ]
     },
     "execution_count": 139,
     "metadata": {},
     "output_type": "execute_result"
    }
   ],
   "source": [
    "nested_dict['bike_shops']"
   ]
  },
  {
   "cell_type": "code",
   "execution_count": 140,
   "id": "1711dba6",
   "metadata": {},
   "outputs": [
    {
     "data": {
      "text/plain": [
       "dict_keys(['location', 'age', 'manager', 'revenue'])"
      ]
     },
     "execution_count": 140,
     "metadata": {},
     "output_type": "execute_result"
    }
   ],
   "source": [
    "nested_dict['fruit_shops'].keys()"
   ]
  },
  {
   "cell_type": "code",
   "execution_count": 142,
   "id": "36ac8f0a",
   "metadata": {},
   "outputs": [
    {
     "data": {
      "text/plain": [
       "{'daily': [1230, 1512, 1233, 5235]}"
      ]
     },
     "execution_count": 142,
     "metadata": {},
     "output_type": "execute_result"
    }
   ],
   "source": [
    "nested_dict['fruit_shops']['revenue']"
   ]
  },
  {
   "cell_type": "code",
   "execution_count": 143,
   "id": "d990cf9a",
   "metadata": {},
   "outputs": [
    {
     "data": {
      "text/plain": [
       "dict_keys(['daily'])"
      ]
     },
     "execution_count": 143,
     "metadata": {},
     "output_type": "execute_result"
    }
   ],
   "source": [
    "nested_dict['fruit_shops']['revenue'].keys()"
   ]
  },
  {
   "cell_type": "code",
   "execution_count": 144,
   "id": "0c527f42",
   "metadata": {},
   "outputs": [
    {
     "data": {
      "text/plain": [
       "[1230, 1512, 1233, 5235]"
      ]
     },
     "execution_count": 144,
     "metadata": {},
     "output_type": "execute_result"
    }
   ],
   "source": [
    "nested_dict['fruit_shops']['revenue']['daily']"
   ]
  },
  {
   "cell_type": "code",
   "execution_count": 148,
   "id": "d48ba376",
   "metadata": {},
   "outputs": [],
   "source": [
    "revenue_4 = nested_dict['fruit_shops']['revenue']['daily'][3]"
   ]
  },
  {
   "cell_type": "code",
   "execution_count": 149,
   "id": "e9c91b5c",
   "metadata": {},
   "outputs": [
    {
     "data": {
      "text/plain": [
       "5335"
      ]
     },
     "execution_count": 149,
     "metadata": {},
     "output_type": "execute_result"
    }
   ],
   "source": [
    "revenue_4 + 100"
   ]
  },
  {
   "cell_type": "code",
   "execution_count": null,
   "id": "8883f315",
   "metadata": {},
   "outputs": [],
   "source": []
  }
 ],
 "metadata": {
  "kernelspec": {
   "display_name": "Python 3",
   "language": "python",
   "name": "python3"
  },
  "language_info": {
   "codemirror_mode": {
    "name": "ipython",
    "version": 3
   },
   "file_extension": ".py",
   "mimetype": "text/x-python",
   "name": "python",
   "nbconvert_exporter": "python",
   "pygments_lexer": "ipython3",
   "version": "3.8.8"
  }
 },
 "nbformat": 4,
 "nbformat_minor": 5
}
