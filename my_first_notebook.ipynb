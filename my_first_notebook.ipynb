{
 "cells": [
  {
   "cell_type": "code",
   "execution_count": 1,
   "id": "e1e94583",
   "metadata": {},
   "outputs": [],
   "source": [
    "from pydataset import data"
   ]
  },
  {
   "cell_type": "markdown",
   "id": "77ec8868",
   "metadata": {},
   "source": [
    "# Hello Jemison\n",
    "\n",
    "## This is markdown\n",
    "\n",
    "## Why is Markdown useful?\n",
    "- shorthand for HTML\n",
    "- write markdown cells above our python code\n",
    "\n"
   ]
  },
  {
   "cell_type": "code",
   "execution_count": 2,
   "id": "ae400771",
   "metadata": {},
   "outputs": [
    {
     "name": "stdout",
     "output_type": "stream",
     "text": [
      "Hi, Everybody!\n"
     ]
    }
   ],
   "source": [
    "greeting = \"Hi, Everybody!\"\n",
    "print(greeting)"
   ]
  },
  {
   "cell_type": "code",
   "execution_count": 3,
   "id": "b9029548",
   "metadata": {},
   "outputs": [
    {
     "data": {
      "text/plain": [
       "15"
      ]
     },
     "execution_count": 3,
     "metadata": {},
     "output_type": "execute_result"
    }
   ],
   "source": [
    "3 * 5"
   ]
  },
  {
   "cell_type": "code",
   "execution_count": 4,
   "id": "2eec06fe",
   "metadata": {},
   "outputs": [
    {
     "data": {
      "text/plain": [
       "True"
      ]
     },
     "execution_count": 4,
     "metadata": {},
     "output_type": "execute_result"
    }
   ],
   "source": [
    "True"
   ]
  },
  {
   "cell_type": "code",
   "execution_count": 5,
   "id": "8b0f07ca",
   "metadata": {},
   "outputs": [
    {
     "data": {
      "text/plain": [
       "False"
      ]
     },
     "execution_count": 5,
     "metadata": {},
     "output_type": "execute_result"
    }
   ],
   "source": [
    "False"
   ]
  },
  {
   "cell_type": "code",
   "execution_count": 6,
   "id": "d21164c4",
   "metadata": {},
   "outputs": [
    {
     "data": {
      "text/plain": [
       "bool"
      ]
     },
     "execution_count": 6,
     "metadata": {},
     "output_type": "execute_result"
    }
   ],
   "source": [
    "type(True)"
   ]
  },
  {
   "cell_type": "code",
   "execution_count": 7,
   "id": "f158f12c",
   "metadata": {},
   "outputs": [
    {
     "data": {
      "text/plain": [
       "str"
      ]
     },
     "execution_count": 7,
     "metadata": {},
     "output_type": "execute_result"
    }
   ],
   "source": [
    "type(\"True\")"
   ]
  },
  {
   "cell_type": "code",
   "execution_count": 8,
   "id": "411f7a3a",
   "metadata": {},
   "outputs": [],
   "source": [
    "None"
   ]
  },
  {
   "cell_type": "code",
   "execution_count": 9,
   "id": "748df48c",
   "metadata": {},
   "outputs": [
    {
     "name": "stdout",
     "output_type": "stream",
     "text": [
      "$10000000000\n"
     ]
    },
    {
     "data": {
      "text/plain": [
       "NoneType"
      ]
     },
     "execution_count": 9,
     "metadata": {},
     "output_type": "execute_result"
    }
   ],
   "source": [
    "# the return value of print is always none\n",
    "x = print(\"$10000000000\")\n",
    "type(x)"
   ]
  },
  {
   "cell_type": "code",
   "execution_count": 10,
   "id": "4f797d54",
   "metadata": {},
   "outputs": [
    {
     "data": {
      "text/plain": [
       "4"
      ]
     },
     "execution_count": 10,
     "metadata": {},
     "output_type": "execute_result"
    }
   ],
   "source": [
    "x = 2 + 2\n",
    "x"
   ]
  },
  {
   "cell_type": "code",
   "execution_count": 11,
   "id": "b1ac9c9c",
   "metadata": {},
   "outputs": [
    {
     "data": {
      "text/plain": [
       "type"
      ]
     },
     "execution_count": 11,
     "metadata": {},
     "output_type": "execute_result"
    }
   ],
   "source": [
    "type(type)"
   ]
  },
  {
   "cell_type": "code",
   "execution_count": 12,
   "id": "cdd84e5c",
   "metadata": {},
   "outputs": [
    {
     "data": {
      "text/plain": [
       "str"
      ]
     },
     "execution_count": 12,
     "metadata": {},
     "output_type": "execute_result"
    }
   ],
   "source": [
    "# Parentheses run a function\n",
    "type(\"stuff\")"
   ]
  },
  {
   "cell_type": "code",
   "execution_count": 13,
   "id": "f1fce9bd",
   "metadata": {},
   "outputs": [
    {
     "data": {
      "text/plain": [
       "type"
      ]
     },
     "execution_count": 13,
     "metadata": {},
     "output_type": "execute_result"
    }
   ],
   "source": [
    "type"
   ]
  },
  {
   "cell_type": "code",
   "execution_count": 14,
   "id": "e3ba11cb",
   "metadata": {},
   "outputs": [
    {
     "data": {
      "text/plain": [
       "<function print>"
      ]
     },
     "execution_count": 14,
     "metadata": {},
     "output_type": "execute_result"
    }
   ],
   "source": [
    "# Parentheses mean we're running a function\n",
    "print"
   ]
  },
  {
   "cell_type": "code",
   "execution_count": 15,
   "id": "dc6d2427",
   "metadata": {},
   "outputs": [
    {
     "data": {
      "text/plain": [
       "4"
      ]
     },
     "execution_count": 15,
     "metadata": {},
     "output_type": "execute_result"
    }
   ],
   "source": [
    "# integer Literal \n",
    "4"
   ]
  },
  {
   "cell_type": "code",
   "execution_count": 16,
   "id": "7ae3f4fb",
   "metadata": {},
   "outputs": [
    {
     "data": {
      "text/plain": [
       "'some string'"
      ]
     },
     "execution_count": 16,
     "metadata": {},
     "output_type": "execute_result"
    }
   ],
   "source": [
    "# String literal\n",
    "\"some string\""
   ]
  },
  {
   "cell_type": "code",
   "execution_count": 17,
   "id": "45ca37e3",
   "metadata": {},
   "outputs": [
    {
     "data": {
      "text/plain": [
       "'another string'"
      ]
     },
     "execution_count": 17,
     "metadata": {},
     "output_type": "execute_result"
    }
   ],
   "source": [
    "x = \"another string\"\n",
    "x"
   ]
  },
  {
   "cell_type": "code",
   "execution_count": 18,
   "id": "9206307e",
   "metadata": {},
   "outputs": [
    {
     "data": {
      "text/plain": [
       "['John', 'Paul', 'George', 'Ringo']"
      ]
     },
     "execution_count": 18,
     "metadata": {},
     "output_type": "execute_result"
    }
   ],
   "source": [
    "# List listeral\n",
    "beatles = [\"John\", \"Paul\", \"George\", \"Ringo\"]\n",
    "beatles"
   ]
  },
  {
   "cell_type": "markdown",
   "id": "5f0f2c7e",
   "metadata": {},
   "source": [
    "## Variables\n",
    "- What's the big idea?\n",
    "- Naming things is powerful\n",
    "- Variables point to values and can be re-pointed to other values (reassigned)"
   ]
  },
  {
   "cell_type": "code",
   "execution_count": 19,
   "id": "1300e977",
   "metadata": {},
   "outputs": [
    {
     "data": {
      "text/plain": [
       "5"
      ]
     },
     "execution_count": 19,
     "metadata": {},
     "output_type": "execute_result"
    }
   ],
   "source": [
    "# What kind of \"spells\" can you do with variables?\n",
    "# \"Assignment\" \n",
    "# Assigning the variable x to point to the value 5\n",
    "favorite_number = 5\n",
    "favorite_number"
   ]
  },
  {
   "cell_type": "code",
   "execution_count": 20,
   "id": "1182f68b",
   "metadata": {},
   "outputs": [
    {
     "data": {
      "text/plain": [
       "'Bob'"
      ]
     },
     "execution_count": 20,
     "metadata": {},
     "output_type": "execute_result"
    }
   ],
   "source": [
    "# Assignment\n",
    "name = \"Bob\"\n",
    "name"
   ]
  },
  {
   "cell_type": "code",
   "execution_count": 21,
   "id": "3a626a04",
   "metadata": {},
   "outputs": [
    {
     "data": {
      "text/plain": [
       "'Batman'"
      ]
     },
     "execution_count": 21,
     "metadata": {},
     "output_type": "execute_result"
    }
   ],
   "source": [
    "# Re-assign a variable\n",
    "# Point the variable to a new value of some kind\n",
    "name = \"Batman\"\n",
    "name"
   ]
  },
  {
   "cell_type": "code",
   "execution_count": 22,
   "id": "2a7eb357",
   "metadata": {},
   "outputs": [
    {
     "data": {
      "text/plain": [
       "7.98"
      ]
     },
     "execution_count": 22,
     "metadata": {},
     "output_type": "execute_result"
    }
   ],
   "source": [
    "# A real world example of reassigning a variable\n",
    "\n",
    "# scenario: you go to lunch\n",
    "# when you walk in the door, what's your total bill?\n",
    "total = 0\n",
    "\n",
    "# when you order iced tea, our total will now include iced tea\n",
    "# new_value = old_value + something\n",
    "total = total + 1.99\n",
    "\n",
    "# order an appetizer\n",
    "total = total + 5.99\n",
    "total"
   ]
  },
  {
   "cell_type": "code",
   "execution_count": 23,
   "id": "23073ecb",
   "metadata": {},
   "outputs": [
    {
     "data": {
      "text/plain": [
       "9.97"
      ]
     },
     "execution_count": 23,
     "metadata": {},
     "output_type": "execute_result"
    }
   ],
   "source": [
    "# shorthand for reassigning a variable to its old value\n",
    "# your friend joins you at lunch and they order iced tea\n",
    "total += 1.99 # += is short for total = total + 1.99\n",
    "total"
   ]
  },
  {
   "cell_type": "code",
   "execution_count": 24,
   "id": "481616e4",
   "metadata": {},
   "outputs": [
    {
     "data": {
      "text/plain": [
       "True"
      ]
     },
     "execution_count": 24,
     "metadata": {},
     "output_type": "execute_result"
    }
   ],
   "source": [
    "## Booleans (True/False)\n",
    "total < 20\n"
   ]
  },
  {
   "cell_type": "code",
   "execution_count": 25,
   "id": "0618be0d",
   "metadata": {},
   "outputs": [
    {
     "data": {
      "text/plain": [
       "False"
      ]
     },
     "execution_count": 25,
     "metadata": {},
     "output_type": "execute_result"
    }
   ],
   "source": [
    "# Comparison operators:\n",
    "# compare values on the left and right and return a bool\n",
    "2 == 3"
   ]
  },
  {
   "cell_type": "code",
   "execution_count": 26,
   "id": "b02835ea",
   "metadata": {},
   "outputs": [
    {
     "data": {
      "text/plain": [
       "True"
      ]
     },
     "execution_count": 26,
     "metadata": {},
     "output_type": "execute_result"
    }
   ],
   "source": [
    "3 == 3"
   ]
  },
  {
   "cell_type": "code",
   "execution_count": 27,
   "id": "0184ebd5",
   "metadata": {},
   "outputs": [
    {
     "data": {
      "text/plain": [
       "True"
      ]
     },
     "execution_count": 27,
     "metadata": {},
     "output_type": "execute_result"
    }
   ],
   "source": [
    "2 < favorite_number"
   ]
  },
  {
   "cell_type": "code",
   "execution_count": 28,
   "id": "54abced3",
   "metadata": {},
   "outputs": [
    {
     "data": {
      "text/plain": [
       "False"
      ]
     },
     "execution_count": 28,
     "metadata": {},
     "output_type": "execute_result"
    }
   ],
   "source": [
    "2 > favorite_number"
   ]
  },
  {
   "cell_type": "code",
   "execution_count": 29,
   "id": "8dc39696",
   "metadata": {},
   "outputs": [
    {
     "data": {
      "text/plain": [
       "False"
      ]
     },
     "execution_count": 29,
     "metadata": {},
     "output_type": "execute_result"
    }
   ],
   "source": [
    "2 >= favorite_number"
   ]
  },
  {
   "cell_type": "code",
   "execution_count": 30,
   "id": "bf09458c",
   "metadata": {},
   "outputs": [
    {
     "data": {
      "text/plain": [
       "True"
      ]
     },
     "execution_count": 30,
     "metadata": {},
     "output_type": "execute_result"
    }
   ],
   "source": [
    "# != is not equal to\n",
    "# ain't\n",
    "2 != 3"
   ]
  },
  {
   "cell_type": "code",
   "execution_count": 31,
   "id": "6afc5dd4",
   "metadata": {},
   "outputs": [
    {
     "data": {
      "text/plain": [
       "False"
      ]
     },
     "execution_count": 31,
     "metadata": {},
     "output_type": "execute_result"
    }
   ],
   "source": [
    "not True"
   ]
  },
  {
   "cell_type": "code",
   "execution_count": 32,
   "id": "8b51f46e",
   "metadata": {},
   "outputs": [
    {
     "data": {
      "text/plain": [
       "True"
      ]
     },
     "execution_count": 32,
     "metadata": {},
     "output_type": "execute_result"
    }
   ],
   "source": [
    "not not not False"
   ]
  },
  {
   "cell_type": "code",
   "execution_count": 33,
   "id": "93733a6c",
   "metadata": {},
   "outputs": [
    {
     "data": {
      "text/plain": [
       "True"
      ]
     },
     "execution_count": 33,
     "metadata": {},
     "output_type": "execute_result"
    }
   ],
   "source": [
    "# in operator checks membership of the value on the left\n",
    "# in the collection on the right\n",
    "# collection could be a string, list, tuple, ...\n",
    "2 in [1, 2, 3, 4]"
   ]
  },
  {
   "cell_type": "code",
   "execution_count": 34,
   "id": "40cafa29",
   "metadata": {},
   "outputs": [
    {
     "data": {
      "text/plain": [
       "True"
      ]
     },
     "execution_count": 34,
     "metadata": {},
     "output_type": "execute_result"
    }
   ],
   "source": [
    "3 not in [5, 6, 7]"
   ]
  },
  {
   "cell_type": "code",
   "execution_count": null,
   "id": "2cab0ef9",
   "metadata": {},
   "outputs": [],
   "source": []
  },
  {
   "cell_type": "code",
   "execution_count": 35,
   "id": "61a45d38",
   "metadata": {},
   "outputs": [
    {
     "data": {
      "text/plain": [
       "True"
      ]
     },
     "execution_count": 35,
     "metadata": {},
     "output_type": "execute_result"
    }
   ],
   "source": [
    "\"a\" in \"banana\"\n"
   ]
  },
  {
   "cell_type": "code",
   "execution_count": 38,
   "id": "b9e84392",
   "metadata": {},
   "outputs": [
    {
     "name": "stdout",
     "output_type": "stream",
     "text": [
      "Bob\n"
     ]
    },
    {
     "data": {
      "text/plain": [
       "NoneType"
      ]
     },
     "execution_count": 38,
     "metadata": {},
     "output_type": "execute_result"
    }
   ],
   "source": [
    "x = print(\"Bob\")\n",
    "type(x)"
   ]
  },
  {
   "cell_type": "markdown",
   "id": "36d5edbb",
   "metadata": {},
   "source": [
    "## Logical Operators\n",
    "- not: switches the boolean value of a value\n",
    "- and: making sure both pieces are true\n",
    "- or: making sure at least one pieces is true"
   ]
  },
  {
   "cell_type": "code",
   "execution_count": 39,
   "id": "3f568633",
   "metadata": {},
   "outputs": [],
   "source": [
    "doing_python_right_now = True\n",
    "currently_on_mars = False"
   ]
  },
  {
   "cell_type": "code",
   "execution_count": 40,
   "id": "dc9d13d8",
   "metadata": {},
   "outputs": [
    {
     "data": {
      "text/plain": [
       "False"
      ]
     },
     "execution_count": 40,
     "metadata": {},
     "output_type": "execute_result"
    }
   ],
   "source": [
    "# ANDs are limiting\n",
    "doing_python_right_now and currently_on_mars"
   ]
  },
  {
   "cell_type": "code",
   "execution_count": 42,
   "id": "7c93bbbe",
   "metadata": {},
   "outputs": [
    {
     "data": {
      "text/plain": [
       "True"
      ]
     },
     "execution_count": 42,
     "metadata": {},
     "output_type": "execute_result"
    }
   ],
   "source": [
    "# ORs expland our possibilities\n",
    "doing_python_right_now or currently_on_mars"
   ]
  },
  {
   "cell_type": "code",
   "execution_count": null,
   "id": "724fa9ad",
   "metadata": {},
   "outputs": [],
   "source": [
    "# When we combine and, or, not,  (but == and not)\n",
    "# We want to use parentheses to enforce execution order\n"
   ]
  },
  {
   "cell_type": "code",
   "execution_count": 46,
   "id": "8d12c85e",
   "metadata": {},
   "outputs": [
    {
     "data": {
      "text/plain": [
       "False"
      ]
     },
     "execution_count": 46,
     "metadata": {},
     "output_type": "execute_result"
    }
   ],
   "source": [
    "# A user can edit a post if they are logged in and either the admin or the author of that post\n",
    "is_logged_in = False\n",
    "is_admin = True\n",
    "is_author = True\n",
    "\n",
    "can_edit_post = is_logged_in and (is_admin or is_author)\n",
    "can_edit_post"
   ]
  },
  {
   "cell_type": "code",
   "execution_count": null,
   "id": "ee80722d",
   "metadata": {},
   "outputs": [],
   "source": [
    "# Mathematical operators\n",
    "# +, -, *, /, **"
   ]
  },
  {
   "cell_type": "code",
   "execution_count": 47,
   "id": "8c628dfa",
   "metadata": {},
   "outputs": [
    {
     "data": {
      "text/plain": [
       "8"
      ]
     },
     "execution_count": 47,
     "metadata": {},
     "output_type": "execute_result"
    }
   ],
   "source": [
    "2**3 # two raised to the 3rd power"
   ]
  },
  {
   "cell_type": "code",
   "execution_count": 48,
   "id": "20ca2551",
   "metadata": {},
   "outputs": [
    {
     "data": {
      "text/plain": [
       "4.0"
      ]
     },
     "execution_count": 48,
     "metadata": {},
     "output_type": "execute_result"
    }
   ],
   "source": [
    "12 / 3"
   ]
  },
  {
   "cell_type": "code",
   "execution_count": 49,
   "id": "885bffc6",
   "metadata": {},
   "outputs": [
    {
     "data": {
      "text/plain": [
       "True"
      ]
     },
     "execution_count": 49,
     "metadata": {},
     "output_type": "execute_result"
    }
   ],
   "source": [
    "4 == 4.0"
   ]
  },
  {
   "cell_type": "code",
   "execution_count": 50,
   "id": "368f3b76",
   "metadata": {},
   "outputs": [
    {
     "data": {
      "text/plain": [
       "True"
      ]
     },
     "execution_count": 50,
     "metadata": {},
     "output_type": "execute_result"
    }
   ],
   "source": [
    "4 == 4.00000000000000000000000000000000000000000000000001"
   ]
  },
  {
   "cell_type": "code",
   "execution_count": 51,
   "id": "489ece2a",
   "metadata": {},
   "outputs": [
    {
     "data": {
      "text/plain": [
       "False"
      ]
     },
     "execution_count": 51,
     "metadata": {},
     "output_type": "execute_result"
    }
   ],
   "source": [
    "4 == 4.0000001"
   ]
  },
  {
   "cell_type": "code",
   "execution_count": 52,
   "id": "f816e401",
   "metadata": {},
   "outputs": [
    {
     "data": {
      "text/plain": [
       "1"
      ]
     },
     "execution_count": 52,
     "metadata": {},
     "output_type": "execute_result"
    }
   ],
   "source": [
    "# MODULO OPERATOR == remainder operator\n",
    "# 5 % 2 should read as \"five divided by two leaves what value?\"\n",
    "5 % 2"
   ]
  },
  {
   "cell_type": "code",
   "execution_count": null,
   "id": "f1197928",
   "metadata": {},
   "outputs": [],
   "source": [
    "# first_number % second_number == no remainder means\n",
    "# the first number is evenly divisible by the second number\n",
    "4 % 2 == 0"
   ]
  },
  {
   "cell_type": "code",
   "execution_count": 53,
   "id": "cf56a4f2",
   "metadata": {},
   "outputs": [
    {
     "data": {
      "text/plain": [
       "1.5"
      ]
     },
     "execution_count": 53,
     "metadata": {},
     "output_type": "execute_result"
    }
   ],
   "source": [
    "3 / 2"
   ]
  },
  {
   "cell_type": "code",
   "execution_count": 54,
   "id": "d6635be3",
   "metadata": {},
   "outputs": [
    {
     "data": {
      "text/plain": [
       "1"
      ]
     },
     "execution_count": 54,
     "metadata": {},
     "output_type": "execute_result"
    }
   ],
   "source": [
    "## // quotient\n",
    "# two goes into 3 one full time\n",
    "3 // 2"
   ]
  },
  {
   "cell_type": "code",
   "execution_count": 56,
   "id": "0ad16105",
   "metadata": {},
   "outputs": [
    {
     "data": {
      "text/plain": [
       "1"
      ]
     },
     "execution_count": 56,
     "metadata": {},
     "output_type": "execute_result"
    }
   ],
   "source": [
    "# 3 divided by two leaves 1 as the remainder\n",
    "3 % 2"
   ]
  },
  {
   "cell_type": "code",
   "execution_count": 57,
   "id": "1c03d4a5",
   "metadata": {},
   "outputs": [
    {
     "data": {
      "text/plain": [
       "1.0"
      ]
     },
     "execution_count": 57,
     "metadata": {},
     "output_type": "execute_result"
    }
   ],
   "source": [
    "3.33 // 2"
   ]
  },
  {
   "cell_type": "code",
   "execution_count": 58,
   "id": "7a24e02b",
   "metadata": {},
   "outputs": [
    {
     "data": {
      "text/plain": [
       "15"
      ]
     },
     "execution_count": 58,
     "metadata": {},
     "output_type": "execute_result"
    }
   ],
   "source": [
    "3 * 5"
   ]
  },
  {
   "cell_type": "code",
   "execution_count": 59,
   "id": "0ce59ccc",
   "metadata": {},
   "outputs": [
    {
     "data": {
      "text/plain": [
       "15.5"
      ]
     },
     "execution_count": 59,
     "metadata": {},
     "output_type": "execute_result"
    }
   ],
   "source": [
    "3.1 * 5"
   ]
  },
  {
   "cell_type": "markdown",
   "id": "72775b59",
   "metadata": {},
   "source": [
    "## Strings\n",
    "- letters or numbers contained in double or single quotes\n",
    "- if we start a string with double quotes, we need to end w/ double\n",
    "- if we start w/ single quotes, we end with single quotes\n",
    "- If we need a string that contains characters including `\"` or `'`, we use 3 quotation marks"
   ]
  },
  {
   "cell_type": "code",
   "execution_count": 60,
   "id": "d5b69c6f",
   "metadata": {},
   "outputs": [
    {
     "data": {
      "text/plain": [
       "\"It's been great to program Python with y'all\""
      ]
     },
     "execution_count": 60,
     "metadata": {},
     "output_type": "execute_result"
    }
   ],
   "source": [
    "message = \"It's been great to program Python with y'all\"\n",
    "message"
   ]
  },
  {
   "cell_type": "code",
   "execution_count": 62,
   "id": "5a0bf9b6",
   "metadata": {
    "scrolled": true
   },
   "outputs": [
    {
     "data": {
      "text/plain": [
       "'\\n\\'\"You miss 100% of the shots you don\\'t take\" - Wayne Gretsky\\' - Michael Scott\\n'"
      ]
     },
     "execution_count": 62,
     "metadata": {},
     "output_type": "execute_result"
    }
   ],
   "source": [
    "quote = \"\"\"\n",
    "'\"You miss 100% of the shots you don't take\" - Wayne Gretsky' - Michael Scott\n",
    "\"\"\"\n",
    "\n",
    "quote"
   ]
  },
  {
   "cell_type": "code",
   "execution_count": 63,
   "id": "055397ba",
   "metadata": {},
   "outputs": [
    {
     "name": "stdout",
     "output_type": "stream",
     "text": [
      "\n",
      "'\"You miss 100% of the shots you don't take\" - Wayne Gretsky' - Michael Scott\n",
      "\n"
     ]
    }
   ],
   "source": [
    "print(quote)"
   ]
  },
  {
   "cell_type": "code",
   "execution_count": null,
   "id": "4bd09cf8",
   "metadata": {},
   "outputs": [],
   "source": [
    "# Backslash is an escape character\n",
    "# What is \"escaping\" mean? Escaping means avoiding the default behavior "
   ]
  },
  {
   "cell_type": "code",
   "execution_count": 64,
   "id": "d8881ad6",
   "metadata": {},
   "outputs": [],
   "source": [
    "# Use case for triple quotes as a docstring \n",
    "def is_even(n):\n",
    "    \"\"\"returns a boolean if the input is an even number\"\"\"\n",
    "    return n % 2 == 0"
   ]
  },
  {
   "cell_type": "code",
   "execution_count": 65,
   "id": "f41097a3",
   "metadata": {},
   "outputs": [],
   "source": [
    "is_even?"
   ]
  },
  {
   "cell_type": "code",
   "execution_count": 66,
   "id": "2906bb7e",
   "metadata": {},
   "outputs": [],
   "source": [
    "len?"
   ]
  },
  {
   "cell_type": "code",
   "execution_count": 67,
   "id": "a90ef11a",
   "metadata": {},
   "outputs": [
    {
     "data": {
      "text/plain": [
       "5"
      ]
     },
     "execution_count": 67,
     "metadata": {},
     "output_type": "execute_result"
    }
   ],
   "source": [
    "len(\"hello\")"
   ]
  },
  {
   "cell_type": "code",
   "execution_count": 68,
   "id": "f0dbc855",
   "metadata": {},
   "outputs": [],
   "source": [
    "print?"
   ]
  },
  {
   "cell_type": "markdown",
   "id": "f08fa55e",
   "metadata": {},
   "source": [
    "## String methods and indexing\n"
   ]
  },
  {
   "cell_type": "markdown",
   "id": "ad1b2647",
   "metadata": {},
   "source": [
    "## Lists and list operations\n"
   ]
  },
  {
   "cell_type": "markdown",
   "id": "caf9e173",
   "metadata": {},
   "source": [
    "## Tuples are lists that don't change"
   ]
  },
  {
   "cell_type": "code",
   "execution_count": null,
   "id": "7d47a3f9",
   "metadata": {},
   "outputs": [],
   "source": []
  }
 ],
 "metadata": {
  "kernelspec": {
   "display_name": "Python 3 (ipykernel)",
   "language": "python",
   "name": "python3"
  },
  "language_info": {
   "codemirror_mode": {
    "name": "ipython",
    "version": 3
   },
   "file_extension": ".py",
   "mimetype": "text/x-python",
   "name": "python",
   "nbconvert_exporter": "python",
   "pygments_lexer": "ipython3",
   "version": "3.8.12"
  }
 },
 "nbformat": 4,
 "nbformat_minor": 5
}
