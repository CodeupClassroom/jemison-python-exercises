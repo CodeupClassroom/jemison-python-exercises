{
 "cells": [
  {
   "cell_type": "markdown",
   "id": "03897ef9",
   "metadata": {},
   "source": [
    "## Super Basic Import of the entire module\n",
    "`import module_name` at the top of your code\n",
    "\n",
    "`module_name.method_name()` to call a method from that module "
   ]
  },
  {
   "cell_type": "code",
   "execution_count": 1,
   "id": "2b9d9442",
   "metadata": {},
   "outputs": [],
   "source": [
    "# How to import\n",
    "import math"
   ]
  },
  {
   "cell_type": "code",
   "execution_count": 2,
   "id": "a5cdde3a",
   "metadata": {},
   "outputs": [
    {
     "data": {
      "text/plain": [
       "3.141592653589793"
      ]
     },
     "execution_count": 2,
     "metadata": {},
     "output_type": "execute_result"
    }
   ],
   "source": [
    "# Mo\n",
    "math.pi"
   ]
  },
  {
   "cell_type": "code",
   "execution_count": 3,
   "id": "20001c61",
   "metadata": {},
   "outputs": [
    {
     "data": {
      "text/plain": [
       "2.0"
      ]
     },
     "execution_count": 3,
     "metadata": {},
     "output_type": "execute_result"
    }
   ],
   "source": [
    "math.sqrt(4)"
   ]
  },
  {
   "cell_type": "markdown",
   "id": "220f1aaf",
   "metadata": {},
   "source": [
    "## Importing and aliasing a module\n",
    "- This imports the whole module\n",
    "- We access functionality off of the alias name"
   ]
  },
  {
   "cell_type": "code",
   "execution_count": 4,
   "id": "68a5c1aa",
   "metadata": {},
   "outputs": [],
   "source": [
    "import math as m"
   ]
  },
  {
   "cell_type": "code",
   "execution_count": 5,
   "id": "4d4dfb23",
   "metadata": {},
   "outputs": [
    {
     "data": {
      "text/plain": [
       "0.8939966636005579"
      ]
     },
     "execution_count": 5,
     "metadata": {},
     "output_type": "execute_result"
    }
   ],
   "source": [
    "m.sin(90)"
   ]
  },
  {
   "cell_type": "code",
   "execution_count": 6,
   "id": "6803fd79",
   "metadata": {},
   "outputs": [],
   "source": [
    "# This is an industry accepted/encouraged alias, for example\n",
    "import pandas as pd"
   ]
  },
  {
   "cell_type": "markdown",
   "id": "fb392633",
   "metadata": {},
   "source": [
    "## Import only a specific method/function from a module\n",
    "`from math import cos`"
   ]
  },
  {
   "cell_type": "code",
   "execution_count": 7,
   "id": "92e31f72",
   "metadata": {},
   "outputs": [],
   "source": [
    "from math import cos"
   ]
  },
  {
   "cell_type": "code",
   "execution_count": 8,
   "id": "3bfc543b",
   "metadata": {},
   "outputs": [
    {
     "data": {
      "text/plain": [
       "0.15425144988758405"
      ]
     },
     "execution_count": 8,
     "metadata": {},
     "output_type": "execute_result"
    }
   ],
   "source": [
    "cos(30)"
   ]
  },
  {
   "cell_type": "code",
   "execution_count": 9,
   "id": "9a448415",
   "metadata": {},
   "outputs": [],
   "source": [
    "# What about multiple specific method/function imports from a module\n",
    "from math import sin, tan"
   ]
  },
  {
   "cell_type": "code",
   "execution_count": 10,
   "id": "a5758a53",
   "metadata": {},
   "outputs": [
    {
     "data": {
      "text/plain": [
       "-1.995200412208242"
      ]
     },
     "execution_count": 10,
     "metadata": {},
     "output_type": "execute_result"
    }
   ],
   "source": [
    "tan(90)"
   ]
  },
  {
   "cell_type": "code",
   "execution_count": 11,
   "id": "e5cbb8a2",
   "metadata": {},
   "outputs": [
    {
     "data": {
      "text/plain": [
       "0.0"
      ]
     },
     "execution_count": 11,
     "metadata": {},
     "output_type": "execute_result"
    }
   ],
   "source": [
    "sin(0)"
   ]
  },
  {
   "cell_type": "code",
   "execution_count": 12,
   "id": "6ed54680",
   "metadata": {},
   "outputs": [],
   "source": [
    "from math import factorial as fact"
   ]
  },
  {
   "cell_type": "code",
   "execution_count": 13,
   "id": "774c4f10",
   "metadata": {},
   "outputs": [
    {
     "data": {
      "text/plain": [
       "120"
      ]
     },
     "execution_count": 13,
     "metadata": {},
     "output_type": "execute_result"
    }
   ],
   "source": [
    "fact(5)"
   ]
  },
  {
   "cell_type": "code",
   "execution_count": 14,
   "id": "00515611",
   "metadata": {},
   "outputs": [],
   "source": [
    "# You'll also see importing specific modules from a package/library\n",
    "# import package.module\n",
    "import matplotlib.pyplot as plt"
   ]
  },
  {
   "cell_type": "code",
   "execution_count": 15,
   "id": "299cc7f7",
   "metadata": {},
   "outputs": [
    {
     "name": "stdout",
     "output_type": "stream",
     "text": [
      "range(1, 20)\n",
      "[1, 4, 9, 16, 25, 36, 49, 64, 81, 100, 121, 144, 169, 196, 225, 256, 289, 324, 361]\n"
     ]
    }
   ],
   "source": [
    "x = range(1, 20)\n",
    "y = [n**2 for n in x]\n",
    "print(x)\n",
    "print(y)"
   ]
  },
  {
   "cell_type": "code",
   "execution_count": 16,
   "id": "73c8d784",
   "metadata": {},
   "outputs": [
    {
     "data": {
      "text/plain": [
       "<matplotlib.collections.PathCollection at 0x7f8ae1003910>"
      ]
     },
     "execution_count": 16,
     "metadata": {},
     "output_type": "execute_result"
    },
    {
     "data": {
      "image/png": "[encoded data removed]",
      "text/plain": [
       "<Figure size 432x288 with 1 Axes>"
      ]
     },
     "metadata": {
      "needs_background": "light"
     },
     "output_type": "display_data"
    }
   ],
   "source": [
    "plt.scatter(x, y)"
   ]
  },
  {
   "cell_type": "markdown",
   "id": "5b61ab4f",
   "metadata": {},
   "source": [
    "## How to import our own code modules\n",
    "\n",
    "Why should you care: \n",
    "- You'll do this all the time. \n",
    "- Avoid showing all of your code when you want to show visuals + charts\n",
    "\n",
    "- Step 1: Write a .py script and save it in a folder. Name it `module_name.py`\n",
    "- Step 2: Create another .py or .ipynb in the same folder\n",
    "- Step 3: In our new file, `import module_name`, no .py"
   ]
  },
  {
   "cell_type": "code",
   "execution_count": 17,
   "id": "93ea700d",
   "metadata": {},
   "outputs": [],
   "source": [
    "import import_example"
   ]
  },
  {
   "cell_type": "code",
   "execution_count": 18,
   "id": "1a8c88e5",
   "metadata": {},
   "outputs": [
    {
     "data": {
      "text/plain": [
       "5"
      ]
     },
     "execution_count": 18,
     "metadata": {},
     "output_type": "execute_result"
    }
   ],
   "source": [
    "import_example.add(2, 3)"
   ]
  },
  {
   "cell_type": "code",
   "execution_count": 19,
   "id": "bd11a8b5",
   "metadata": {},
   "outputs": [],
   "source": [
    "from import_example import multiply"
   ]
  },
  {
   "cell_type": "code",
   "execution_count": 20,
   "id": "569c9969",
   "metadata": {},
   "outputs": [
    {
     "data": {
      "text/plain": [
       "6"
      ]
     },
     "execution_count": 20,
     "metadata": {},
     "output_type": "execute_result"
    }
   ],
   "source": [
    "multiply(3, 2)"
   ]
  }
 ],
 "metadata": {
  "kernelspec": {
   "display_name": "Python 3 (ipykernel)",
   "language": "python",
   "name": "python3"
  },
  "language_info": {
   "codemirror_mode": {
    "name": "ipython",
    "version": 3
   },
   "file_extension": ".py",
   "mimetype": "text/x-python",
   "name": "python",
   "nbconvert_exporter": "python",
   "pygments_lexer": "ipython3",
   "version": "3.8.12"
  }
 },
 "nbformat": 4,
 "nbformat_minor": 5
}
