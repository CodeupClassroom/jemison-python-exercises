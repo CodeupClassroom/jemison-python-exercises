{
 "cells": [
  {
   "cell_type": "markdown",
   "id": "884a257d",
   "metadata": {},
   "source": [
    "## Functions Exercise Solutions"
   ]
  },
  {
   "cell_type": "code",
   "execution_count": 1,
   "id": "e3c02bfd",
   "metadata": {},
   "outputs": [],
   "source": [
    "# Exercise 1\n",
    "# Define a function named is_two. \n",
    "# It should accept one input and return True if \n",
    "# the passed input is either the number or the string 2, \n",
    "# False otherwise.\n",
    "\n",
    "def is_two(n):\n",
    "    return n == 2 or n == '2'"
   ]
  },
  {
   "cell_type": "code",
   "execution_count": 2,
   "id": "f82635c3",
   "metadata": {},
   "outputs": [
    {
     "data": {
      "text/plain": [
       "True"
      ]
     },
     "execution_count": 2,
     "metadata": {},
     "output_type": "execute_result"
    }
   ],
   "source": [
    "is_two(2)"
   ]
  },
  {
   "cell_type": "code",
   "execution_count": 3,
   "id": "29e6af3f",
   "metadata": {},
   "outputs": [
    {
     "data": {
      "text/plain": [
       "True"
      ]
     },
     "execution_count": 3,
     "metadata": {},
     "output_type": "execute_result"
    }
   ],
   "source": [
    "is_two('2')"
   ]
  },
  {
   "cell_type": "code",
   "execution_count": 4,
   "id": "45e105bf",
   "metadata": {},
   "outputs": [
    {
     "data": {
      "text/plain": [
       "True"
      ]
     },
     "execution_count": 4,
     "metadata": {},
     "output_type": "execute_result"
    }
   ],
   "source": [
    "is_two(2.0)"
   ]
  },
  {
   "cell_type": "code",
   "execution_count": 5,
   "id": "dbcb66b2",
   "metadata": {},
   "outputs": [
    {
     "data": {
      "text/plain": [
       "False"
      ]
     },
     "execution_count": 5,
     "metadata": {},
     "output_type": "execute_result"
    }
   ],
   "source": [
    "is_two('banana')"
   ]
  },
  {
   "cell_type": "code",
   "execution_count": 9,
   "id": "6dd5f9b8",
   "metadata": {},
   "outputs": [],
   "source": [
    "# Exercise 2\n",
    "# Define a function named is_vowel. \n",
    "# It should return True if the passed string is a vowel, \n",
    "# False otherwise.\n",
    "\n",
    "def is_vowel(somestring):\n",
    "    if type(somestring) == str:\n",
    "        result = somestring.lower() in ['a', 'e', 'i', 'o', 'u']\n",
    "        return result\n",
    "    else:\n",
    "        return False"
   ]
  },
  {
   "cell_type": "code",
   "execution_count": 10,
   "id": "0877f14d",
   "metadata": {},
   "outputs": [
    {
     "data": {
      "text/plain": [
       "True"
      ]
     },
     "execution_count": 10,
     "metadata": {},
     "output_type": "execute_result"
    }
   ],
   "source": [
    "is_vowel('aeiou')"
   ]
  },
  {
   "cell_type": "code",
   "execution_count": 13,
   "id": "1795bd2b",
   "metadata": {},
   "outputs": [
    {
     "data": {
      "text/plain": [
       "True"
      ]
     },
     "execution_count": 13,
     "metadata": {},
     "output_type": "execute_result"
    }
   ],
   "source": [
    "is_vowel('iou')"
   ]
  },
  {
   "cell_type": "code",
   "execution_count": 14,
   "id": "371f62ff",
   "metadata": {},
   "outputs": [
    {
     "data": {
      "text/plain": [
       "False"
      ]
     },
     "execution_count": 14,
     "metadata": {},
     "output_type": "execute_result"
    }
   ],
   "source": [
    "is_vowel('ii')"
   ]
  },
  {
   "cell_type": "code",
   "execution_count": 15,
   "id": "846b815d",
   "metadata": {},
   "outputs": [
    {
     "data": {
      "text/plain": [
       "False"
      ]
     },
     "execution_count": 15,
     "metadata": {},
     "output_type": "execute_result"
    }
   ],
   "source": [
    "is_vowel('cat')"
   ]
  },
  {
   "cell_type": "code",
   "execution_count": 11,
   "id": "530a6105",
   "metadata": {},
   "outputs": [
    {
     "data": {
      "text/plain": [
       "False"
      ]
     },
     "execution_count": 11,
     "metadata": {},
     "output_type": "execute_result"
    }
   ],
   "source": [
    "is_vowel('aa')"
   ]
  },
  {
   "cell_type": "code",
   "execution_count": 12,
   "id": "a1ac5a25",
   "metadata": {},
   "outputs": [
    {
     "data": {
      "text/plain": [
       "True"
      ]
     },
     "execution_count": 12,
     "metadata": {},
     "output_type": "execute_result"
    }
   ],
   "source": [
    "is_vowel('a')"
   ]
  },
  {
   "cell_type": "code",
   "execution_count": 16,
   "id": "54928ce5",
   "metadata": {},
   "outputs": [
    {
     "data": {
      "text/plain": [
       "False"
      ]
     },
     "execution_count": 16,
     "metadata": {},
     "output_type": "execute_result"
    }
   ],
   "source": [
    "is_vowel('m')"
   ]
  },
  {
   "cell_type": "code",
   "execution_count": 17,
   "id": "c03ff559",
   "metadata": {},
   "outputs": [],
   "source": [
    "# Exercise 3\n",
    "# Define a function named is_consonant.\n",
    "# It should return True if the passed string is a consonant, \n",
    "# False otherwise. Use your is_vowel function to accomplish this.\n",
    "\n",
    "def is_consonant(somestring):\n",
    "    if type(somestring) == str:\n",
    "        only_letters = somestring.isalpha()\n",
    "        return only_letters and not is_vowel(somestring)\n",
    "    return False"
   ]
  },
  {
   "cell_type": "code",
   "execution_count": 18,
   "id": "d7ddba33",
   "metadata": {},
   "outputs": [
    {
     "data": {
      "text/plain": [
       "True"
      ]
     },
     "execution_count": 18,
     "metadata": {},
     "output_type": "execute_result"
    }
   ],
   "source": [
    "is_consonant('m')"
   ]
  },
  {
   "cell_type": "code",
   "execution_count": 19,
   "id": "3b1265fc",
   "metadata": {},
   "outputs": [
    {
     "data": {
      "text/plain": [
       "False"
      ]
     },
     "execution_count": 19,
     "metadata": {},
     "output_type": "execute_result"
    }
   ],
   "source": [
    "is_consonant('3')"
   ]
  },
  {
   "cell_type": "code",
   "execution_count": 20,
   "id": "a7efcafd",
   "metadata": {},
   "outputs": [
    {
     "data": {
      "text/plain": [
       "False"
      ]
     },
     "execution_count": 20,
     "metadata": {},
     "output_type": "execute_result"
    }
   ],
   "source": [
    "is_consonant('a')"
   ]
  },
  {
   "cell_type": "code",
   "execution_count": 21,
   "id": "df860762",
   "metadata": {},
   "outputs": [
    {
     "data": {
      "text/plain": [
       "True"
      ]
     },
     "execution_count": 21,
     "metadata": {},
     "output_type": "execute_result"
    }
   ],
   "source": [
    "is_consonant('mm')"
   ]
  },
  {
   "cell_type": "code",
   "execution_count": 22,
   "id": "8a2093a8",
   "metadata": {},
   "outputs": [],
   "source": [
    "# Exercise 4\n",
    "# Define a function that accepts a string that is a word. \n",
    "# The function should capitalize the \n",
    "# first letter of the word if the word starts with a consonant.\n",
    "\n",
    "def capitalize_starting_consonant(string):\n",
    "    if type(string) != str:\n",
    "        return False\n",
    "    first_letter = string[0]\n",
    "    if is_consonant(first_letter):\n",
    "        string = string.capitalize()\n",
    "    return string"
   ]
  },
  {
   "cell_type": "code",
   "execution_count": 23,
   "id": "158affdf",
   "metadata": {},
   "outputs": [
    {
     "data": {
      "text/plain": [
       "'Banana'"
      ]
     },
     "execution_count": 23,
     "metadata": {},
     "output_type": "execute_result"
    }
   ],
   "source": [
    "capitalize_starting_consonant('banana')"
   ]
  },
  {
   "cell_type": "code",
   "execution_count": 24,
   "id": "db3b6cc0",
   "metadata": {},
   "outputs": [
    {
     "data": {
      "text/plain": [
       "'apple'"
      ]
     },
     "execution_count": 24,
     "metadata": {},
     "output_type": "execute_result"
    }
   ],
   "source": [
    "capitalize_starting_consonant('apple')"
   ]
  },
  {
   "cell_type": "code",
   "execution_count": 25,
   "id": "fa08a9c6",
   "metadata": {},
   "outputs": [],
   "source": [
    "# Exercise 5\n",
    "# Define a function named calculate_tip. \n",
    "# It should accept a tip percentage \n",
    "# (a number between 0 and 1) and the bill total, \n",
    "# and return the amount to tip.\n",
    "\n",
    "def calculate_tip(bill, tip_percentage=0.2):\n",
    "    if type(tip_percentage) != float:\n",
    "        return False\n",
    "    if tip_percentage < 0 or tip_percentage > 1:\n",
    "        return 'the tip percentage must be between 0 and 1'\n",
    "    return tip_percentage * bill"
   ]
  },
  {
   "cell_type": "code",
   "execution_count": 26,
   "id": "e00ad75a",
   "metadata": {},
   "outputs": [],
   "source": [
    "# Exercise 6\n",
    "# Define a function named apply_discount. \n",
    "# It should accept a original price, and a discount percentage, \n",
    "# and return the price after the discount is applied.\n",
    "\n",
    "def apply_discount(price, discount_percentage):\n",
    "    discount = price * discount_percentage\n",
    "    return price - discount"
   ]
  },
  {
   "cell_type": "code",
   "execution_count": 27,
   "id": "9d171634",
   "metadata": {},
   "outputs": [],
   "source": [
    "# Exercise 7\n",
    "# Define a function named handle_commas. \n",
    "# It should accept a string that is a number that contains \n",
    "# commas in it as input, \n",
    "# and return a number as output.\n",
    "\n",
    "def handle_commas(somestring):\n",
    "    if type(somestring) != str:\n",
    "        return 'input must be a string'\n",
    "    somestring = somestring.replace(',', '')\n",
    "    if somestring.isdigit():\n",
    "        return float(somestring)\n",
    "    else:\n",
    "        return 'input must be a string that is a number'"
   ]
  },
  {
   "cell_type": "code",
   "execution_count": 28,
   "id": "60b6fc7b",
   "metadata": {},
   "outputs": [],
   "source": [
    "# Exercise 8\n",
    "# Define a function named get_letter_grade. \n",
    "# It should accept a number and return the letter grade \n",
    "# associated with that number (A-F).\n",
    "\n",
    "def get_letter_grade(grade):\n",
    "    if type(grade) == int or type(grade) == float:\n",
    "        if grade >= 90:\n",
    "            return \"A\"\n",
    "        elif grade >= 80:\n",
    "            return \"B\"\n",
    "        elif grade >= 70:\n",
    "            return \"C\"\n",
    "        elif grade >= 60:\n",
    "            return \"D\"\n",
    "        else:\n",
    "            return \"F\"\n",
    "    else:\n",
    "        return \"Input must be a number\""
   ]
  },
  {
   "cell_type": "code",
   "execution_count": 29,
   "id": "af485daa",
   "metadata": {},
   "outputs": [],
   "source": [
    "# Exercise 9\n",
    "# Define a function named remove_vowels that accepts a \n",
    "# string and returns a string with all the vowels removed.\n",
    "\n",
    "def remove_vowels(somestring):\n",
    "    if type(somestring) != str:\n",
    "        return False\n",
    "    output = ''\n",
    "    for letter in somestring:\n",
    "        if is_consonant(letter):\n",
    "            output += letter\n",
    "    return output"
   ]
  },
  {
   "cell_type": "code",
   "execution_count": 30,
   "id": "54971c0f",
   "metadata": {},
   "outputs": [],
   "source": [
    "# Exercise 10\n",
    "# Define a function named normalize_name. \n",
    "# It should accept a string and return a valid python identifier\n",
    "# steps I want to take\n",
    "# make lowercase, remove whitespace, establish valid identifier\n",
    "\n",
    "def normalize_name(string):\n",
    "    output = ''\n",
    "    string = string.lower()\n",
    "    for character in string:\n",
    "        if character.isidentifier() or character == ' ':\n",
    "            output += character\n",
    "    output = output.strip()\n",
    "    output = output.replace(' ', '_')\n",
    "    return output"
   ]
  },
  {
   "cell_type": "code",
   "execution_count": 31,
   "id": "cdf1285d",
   "metadata": {},
   "outputs": [],
   "source": [
    "# Exercise 11\n",
    "# Write a function named cumulative_sum that accepts a list of numbers and returns a list that is the cumulative sum of the numbers in the list.\n",
    "# cumulative_sum([1, 1, 1]) returns [1, 2, 3]\n",
    "# cumulative_sum([1, 2, 3, 4]) returns [1, 3, 6, 10]\n",
    "\n",
    "def cumulative_sum(somenums):\n",
    "    output = []\n",
    "    for i, num in enumerate(somenums):\n",
    "        sum_so_far = sum(somenums[:i + 1])\n",
    "        output.append(sum_so_far)\n",
    "    return output"
   ]
  },
  {
   "cell_type": "code",
   "execution_count": null,
   "id": "26a1d899",
   "metadata": {},
   "outputs": [],
   "source": [
    "# ### Bonus Question 1\n",
    "# Create a function named twelveto24. \n",
    "# It should accept a string in the format 10:45am or 4:30pm and \n",
    "# return a string that is the representation of the time in a 24-hour format.\n",
    "\n",
    "def twelveto24(time):\n",
    "    try:\n",
    "        hour = ''\n",
    "        minute = ''\n",
    "        colon_position = time.rindex(':')\n",
    "        formatted_time = ''\n",
    "        if time[-2:] == 'am':\n",
    "            hour = int(time[:colon_position])\n",
    "            if int(hour) <= 11:\n",
    "                formatted_time = time[:-2]\n",
    "                return formatted_time\n",
    "            else:\n",
    "                hour = '00'\n",
    "                minute = time[colon_position + 1:-2]\n",
    "                formatted_time = hour + ':' + minute\n",
    "                return formatted_time\n",
    "        elif time[-2:] == 'pm':\n",
    "            hour = int(time[:colon_position]) + 12\n",
    "            minute = time[colon_position + 1:-2]\n",
    "            formatted_time = str(hour) + ':' + minute\n",
    "            return formatted_time\n",
    "        else:\n",
    "            return \"Please input the time in the correct format.\"\n",
    "    except ValueError:\n",
    "        return 'Please input the time in the correct format.'"
   ]
  },
  {
   "cell_type": "code",
   "execution_count": null,
   "id": "6604565b",
   "metadata": {},
   "outputs": [],
   "source": [
    "# Bonus write a function that does the opposite.\n",
    "\n",
    "def twelvefrom24(time24):\n",
    "    \n",
    "    colon_position = time24.rindex(':')\n",
    "    hour = time24[:colon_position]\n",
    "    minute = time24[colon_position + 1:]\n",
    "    formatted_time = ''\n",
    "    if int(hour) == 0:\n",
    "        hour = '12'\n",
    "        formatted_time = hour + ':' + minute + 'am'\n",
    "        return formatted_time\n",
    "    elif int(hour) < 12:\n",
    "        formatted_time = time24 + 'am'\n",
    "        return formatted_time\n",
    "    elif int(hour) == 12:\n",
    "        formatted_time = time24 + 'pm'\n",
    "        return formatted_time\n",
    "    else:\n",
    "        hour = int(hour) - 12\n",
    "        formatted_time = str(hour) + ':' + minute + 'pm'\n",
    "        return formatted_time"
   ]
  },
  {
   "cell_type": "code",
   "execution_count": null,
   "id": "d1a1787b",
   "metadata": {},
   "outputs": [],
   "source": [
    "# #### Bonus Question 2\n",
    "# Create a function named col_index. It should accept a spreadsheet column name, and return the index number of the column.\n",
    "# - col_index('A') returns 1\n",
    "# - col_index('B') returns 2\n",
    "# - col_index('AA') returns 27\n",
    "\n",
    "def col_index(col_name):\n",
    "    letter_to_num = {\n",
    "                    'A': 1, 'B': 2, 'C': 3, 'D': 4, 'E': 5, 'F': 6, 'G': 7,\n",
    "                    'H': 8, 'I': 9, 'J':10, 'K': 11, 'L': 12, 'M': 13, 'N': 14,\n",
    "                    'O': 15, 'P': 16, 'Q': 17, 'R': 18, 'S': 19, 'T': 20, 'U': 21,\n",
    "                    'V': 22, 'W': 23, 'X': 24, 'Y': 25, 'Z': 26\n",
    "                     }\n",
    "    col_value = 0\n",
    "    for index in range(-1, -(len(col_name)+1), -1):\n",
    "        col_value += letter_to_num[(col_name[index])] * (26 ** -(index + 1))\n",
    "    return col_value"
   ]
  },
  {
   "cell_type": "code",
   "execution_count": null,
   "id": "a45b048d",
   "metadata": {},
   "outputs": [],
   "source": []
  }
 ],
 "metadata": {
  "kernelspec": {
   "display_name": "Python 3",
   "language": "python",
   "name": "python3"
  },
  "language_info": {
   "codemirror_mode": {
    "name": "ipython",
    "version": 3
   },
   "file_extension": ".py",
   "mimetype": "text/x-python",
   "name": "python",
   "nbconvert_exporter": "python",
   "pygments_lexer": "ipython3",
   "version": "3.8.8"
  }
 },
 "nbformat": 4,
 "nbformat_minor": 5
}
