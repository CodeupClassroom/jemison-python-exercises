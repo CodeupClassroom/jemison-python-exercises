{
 "cells": [
  {
   "cell_type": "markdown",
   "id": "b3c3fee0",
   "metadata": {},
   "source": [
    "## Functions Exercise Solutions"
   ]
  },
  {
   "cell_type": "code",
   "execution_count": 1,
   "id": "f4f64eb1",
   "metadata": {},
   "outputs": [],
   "source": [
    "# Exercise 1\n",
    "# Define a function named is_two. \n",
    "# It should accept one input and return True if \n",
    "# the passed input is either the number or the string 2, \n",
    "# False otherwise.\n",
    "\n",
    "def is_two(n):\n",
    "    return n == 2 or n == '2'"
   ]
  },
  {
   "cell_type": "code",
   "execution_count": 2,
   "id": "8c78a03a",
   "metadata": {},
   "outputs": [
    {
     "data": {
      "text/plain": [
       "True"
      ]
     },
     "execution_count": 2,
     "metadata": {},
     "output_type": "execute_result"
    }
   ],
   "source": [
    "is_two(2)"
   ]
  },
  {
   "cell_type": "code",
   "execution_count": 3,
   "id": "96a15a32",
   "metadata": {},
   "outputs": [
    {
     "data": {
      "text/plain": [
       "True"
      ]
     },
     "execution_count": 3,
     "metadata": {},
     "output_type": "execute_result"
    }
   ],
   "source": [
    "is_two('2')"
   ]
  },
  {
   "cell_type": "code",
   "execution_count": 4,
   "id": "17a487e5",
   "metadata": {},
   "outputs": [
    {
     "data": {
      "text/plain": [
       "True"
      ]
     },
     "execution_count": 4,
     "metadata": {},
     "output_type": "execute_result"
    }
   ],
   "source": [
    "is_two(2.0)"
   ]
  },
  {
   "cell_type": "code",
   "execution_count": 5,
   "id": "9076b6a5",
   "metadata": {},
   "outputs": [
    {
     "data": {
      "text/plain": [
       "False"
      ]
     },
     "execution_count": 5,
     "metadata": {},
     "output_type": "execute_result"
    }
   ],
   "source": [
    "is_two('banana')"
   ]
  },
  {
   "cell_type": "code",
   "execution_count": 9,
   "id": "70284c09",
   "metadata": {},
   "outputs": [],
   "source": [
    "# Exercise 2\n",
    "# Define a function named is_vowel. \n",
    "# It should return True if the passed string is a vowel, \n",
    "# False otherwise.\n",
    "\n",
    "def is_vowel(somestring):\n",
    "    if type(somestring) == str:\n",
    "        result = somestring.lower() in ['a', 'e', 'i', 'o', 'u']\n",
    "        return result\n",
    "    else:\n",
    "        return False"
   ]
  },
  {
   "cell_type": "code",
   "execution_count": 10,
   "id": "7da9fab4",
   "metadata": {},
   "outputs": [
    {
     "data": {
      "text/plain": [
       "True"
      ]
     },
     "execution_count": 10,
     "metadata": {},
     "output_type": "execute_result"
    }
   ],
   "source": [
    "is_vowel('aeiou')"
   ]
  },
  {
   "cell_type": "code",
   "execution_count": 13,
   "id": "5c44c25e",
   "metadata": {},
   "outputs": [
    {
     "data": {
      "text/plain": [
       "True"
      ]
     },
     "execution_count": 13,
     "metadata": {},
     "output_type": "execute_result"
    }
   ],
   "source": [
    "is_vowel('iou')"
   ]
  },
  {
   "cell_type": "code",
   "execution_count": 14,
   "id": "2633efa3",
   "metadata": {},
   "outputs": [
    {
     "data": {
      "text/plain": [
       "False"
      ]
     },
     "execution_count": 14,
     "metadata": {},
     "output_type": "execute_result"
    }
   ],
   "source": [
    "is_vowel('ii')"
   ]
  },
  {
   "cell_type": "code",
   "execution_count": 15,
   "id": "3e2f2ebb",
   "metadata": {},
   "outputs": [
    {
     "data": {
      "text/plain": [
       "False"
      ]
     },
     "execution_count": 15,
     "metadata": {},
     "output_type": "execute_result"
    }
   ],
   "source": [
    "is_vowel('cat')"
   ]
  },
  {
   "cell_type": "code",
   "execution_count": 11,
   "id": "b1db2331",
   "metadata": {},
   "outputs": [
    {
     "data": {
      "text/plain": [
       "False"
      ]
     },
     "execution_count": 11,
     "metadata": {},
     "output_type": "execute_result"
    }
   ],
   "source": [
    "is_vowel('aa')"
   ]
  },
  {
   "cell_type": "code",
   "execution_count": 12,
   "id": "c6ce4203",
   "metadata": {},
   "outputs": [
    {
     "data": {
      "text/plain": [
       "True"
      ]
     },
     "execution_count": 12,
     "metadata": {},
     "output_type": "execute_result"
    }
   ],
   "source": [
    "is_vowel('a')"
   ]
  },
  {
   "cell_type": "code",
   "execution_count": 16,
   "id": "6d0188de",
   "metadata": {},
   "outputs": [
    {
     "data": {
      "text/plain": [
       "False"
      ]
     },
     "execution_count": 16,
     "metadata": {},
     "output_type": "execute_result"
    }
   ],
   "source": [
    "is_vowel('m')"
   ]
  },
  {
   "cell_type": "code",
   "execution_count": 17,
   "id": "6c4ea2c8",
   "metadata": {},
   "outputs": [],
   "source": [
    "# Exercise 3\n",
    "# Define a function named is_consonant.\n",
    "# It should return True if the passed string is a consonant, \n",
    "# False otherwise. Use your is_vowel function to accomplish this.\n",
    "\n",
    "def is_consonant(somestring):\n",
    "    if type(somestring) == str:\n",
    "        only_letters = somestring.isalpha()\n",
    "        return only_letters and not is_vowel(somestring)\n",
    "    return False"
   ]
  },
  {
   "cell_type": "code",
   "execution_count": 18,
   "id": "5c5ee0f6",
   "metadata": {},
   "outputs": [
    {
     "data": {
      "text/plain": [
       "True"
      ]
     },
     "execution_count": 18,
     "metadata": {},
     "output_type": "execute_result"
    }
   ],
   "source": [
    "is_consonant('m')"
   ]
  },
  {
   "cell_type": "code",
   "execution_count": 19,
   "id": "a0259936",
   "metadata": {},
   "outputs": [
    {
     "data": {
      "text/plain": [
       "False"
      ]
     },
     "execution_count": 19,
     "metadata": {},
     "output_type": "execute_result"
    }
   ],
   "source": [
    "is_consonant('3')"
   ]
  },
  {
   "cell_type": "code",
   "execution_count": 20,
   "id": "d8f74f92",
   "metadata": {},
   "outputs": [
    {
     "data": {
      "text/plain": [
       "False"
      ]
     },
     "execution_count": 20,
     "metadata": {},
     "output_type": "execute_result"
    }
   ],
   "source": [
    "is_consonant('a')"
   ]
  },
  {
   "cell_type": "code",
   "execution_count": 21,
   "id": "dd3bf3f0",
   "metadata": {},
   "outputs": [
    {
     "data": {
      "text/plain": [
       "True"
      ]
     },
     "execution_count": 21,
     "metadata": {},
     "output_type": "execute_result"
    }
   ],
   "source": [
    "is_consonant('mm')"
   ]
  },
  {
   "cell_type": "code",
   "execution_count": 22,
   "id": "072bb296",
   "metadata": {},
   "outputs": [],
   "source": [
    "# Exercise 4\n",
    "# Define a function that accepts a string that is a word. \n",
    "# The function should capitalize the \n",
    "# first letter of the word if the word starts with a consonant.\n",
    "\n",
    "def capitalize_starting_consonant(string):\n",
    "    if type(string) != str:\n",
    "        return False\n",
    "    first_letter = string[0]\n",
    "    if is_consonant(first_letter):\n",
    "        string = string.capitalize()\n",
    "    return string"
   ]
  },
  {
   "cell_type": "code",
   "execution_count": 23,
   "id": "6d975853",
   "metadata": {},
   "outputs": [
    {
     "data": {
      "text/plain": [
       "'Banana'"
      ]
     },
     "execution_count": 23,
     "metadata": {},
     "output_type": "execute_result"
    }
   ],
   "source": [
    "capitalize_starting_consonant('banana')"
   ]
  },
  {
   "cell_type": "code",
   "execution_count": 24,
   "id": "ea26453e",
   "metadata": {},
   "outputs": [
    {
     "data": {
      "text/plain": [
       "'apple'"
      ]
     },
     "execution_count": 24,
     "metadata": {},
     "output_type": "execute_result"
    }
   ],
   "source": [
    "capitalize_starting_consonant('apple')"
   ]
  },
  {
   "cell_type": "code",
   "execution_count": 25,
   "id": "53cb5e9a",
   "metadata": {},
   "outputs": [],
   "source": [
    "# Exercise 5\n",
    "# Define a function named calculate_tip. \n",
    "# It should accept a tip percentage \n",
    "# (a number between 0 and 1) and the bill total, \n",
    "# and return the amount to tip.\n",
    "\n",
    "def calculate_tip(bill, tip_percentage=0.2):\n",
    "    if type(tip_percentage) != float:\n",
    "        return False\n",
    "    if tip_percentage < 0 or tip_percentage > 1:\n",
    "        return 'the tip percentage must be between 0 and 1'\n",
    "    return tip_percentage * bill"
   ]
  },
  {
   "cell_type": "code",
   "execution_count": 26,
   "id": "e59d9912",
   "metadata": {},
   "outputs": [],
   "source": [
    "# Exercise 6\n",
    "# Define a function named apply_discount. \n",
    "# It should accept a original price, and a discount percentage, \n",
    "# and return the price after the discount is applied.\n",
    "\n",
    "def apply_discount(price, discount_percentage):\n",
    "    discount = price * discount_percentage\n",
    "    return price - discount"
   ]
  },
  {
   "cell_type": "code",
   "execution_count": 27,
   "id": "07a3eb16",
   "metadata": {},
   "outputs": [],
   "source": [
    "# Exercise 7\n",
    "# Define a function named handle_commas. \n",
    "# It should accept a string that is a number that contains \n",
    "# commas in it as input, \n",
    "# and return a number as output.\n",
    "\n",
    "def handle_commas(somestring):\n",
    "    if type(somestring) != str:\n",
    "        return 'input must be a string'\n",
    "    somestring = somestring.replace(',', '')\n",
    "    if somestring.isdigit():\n",
    "        return float(somestring)\n",
    "    else:\n",
    "        return 'input must be a string that is a number'"
   ]
  },
  {
   "cell_type": "code",
   "execution_count": 28,
   "id": "a8367d1b",
   "metadata": {},
   "outputs": [],
   "source": [
    "# Exercise 8\n",
    "# Define a function named get_letter_grade. \n",
    "# It should accept a number and return the letter grade \n",
    "# associated with that number (A-F).\n",
    "\n",
    "def get_letter_grade(grade):\n",
    "    if type(grade) == int or type(grade) == float:\n",
    "        if grade >= 90:\n",
    "            return \"A\"\n",
    "        elif grade >= 80:\n",
    "            return \"B\"\n",
    "        elif grade >= 70:\n",
    "            return \"C\"\n",
    "        elif grade >= 60:\n",
    "            return \"D\"\n",
    "        else:\n",
    "            return \"F\"\n",
    "    else:\n",
    "        return \"Input must be a number\""
   ]
  },
  {
   "cell_type": "code",
   "execution_count": 29,
   "id": "f133450e",
   "metadata": {},
   "outputs": [],
   "source": [
    "# Exercise 9\n",
    "# Define a function named remove_vowels that accepts a \n",
    "# string and returns a string with all the vowels removed.\n",
    "\n",
    "def remove_vowels(somestring):\n",
    "    if type(somestring) != str:\n",
    "        return False\n",
    "    output = ''\n",
    "    for letter in somestring:\n",
    "        if is_consonant(letter):\n",
    "            output += letter\n",
    "    return output"
   ]
  },
  {
   "cell_type": "code",
   "execution_count": 30,
   "id": "241cac61",
   "metadata": {},
   "outputs": [],
   "source": [
    "# Exercise 10\n",
    "# Define a function named normalize_name. \n",
    "# It should accept a string and return a valid python identifier\n",
    "# steps I want to take\n",
    "# make lowercase, remove whitespace, establish valid identifier\n",
    "\n",
    "def normalize_name(string):\n",
    "    output = ''\n",
    "    string = string.lower()\n",
    "    for character in string:\n",
    "        if character.isidentifier() or character == ' ':\n",
    "            output += character\n",
    "    output = output.strip()\n",
    "    output = output.replace(' ', '_')\n",
    "    return output"
   ]
  },
  {
   "cell_type": "code",
   "execution_count": 32,
   "id": "825801ec",
   "metadata": {},
   "outputs": [],
   "source": [
    "# Exercise 11\n",
    "# Write a function named cumulative_sum that accepts a list of numbers and returns a list that is the cumulative sum of the numbers in the list.\n",
    "# cumulative_sum([1, 1, 1]) returns [1, 2, 3]\n",
    "# cumulative_sum([1, 2, 3, 4]) returns [1, 3, 6, 10]\n",
    "\n",
    "def cumulative_sum(somenums):\n",
    "    output = []\n",
    "    for i, num in enumerate(somenums):\n",
    "        sum_so_far = sum(somenums[:i + 1])\n",
    "        output.append(sum_so_far)\n",
    "    return output"
   ]
  },
  {
   "cell_type": "markdown",
   "id": "56f14910",
   "metadata": {},
   "source": [
    "We have used this mysterious function named `enumerate`. But what does it do and why are we creating a for loop that somehow references two things (`i` and `num`)?\n",
    "\n",
    "To begin, lets try printing out the output of `enumerate` on a simple string:"
   ]
  },
  {
   "cell_type": "code",
   "execution_count": 37,
   "id": "20b3a6f2",
   "metadata": {},
   "outputs": [
    {
     "name": "stdout",
     "output_type": "stream",
     "text": [
      "<enumerate object at 0x7f8b7f414400>\n"
     ]
    }
   ],
   "source": [
    "print(enumerate('apple'))"
   ]
  },
  {
   "cell_type": "markdown",
   "id": "f13a9add",
   "metadata": {},
   "source": [
    "Here we see that the output of the enumerate function is a reference to an object. Enumerate produces a pattern, or recipe, that can be used in conjunction with other functions to create human readable output. Let's try it with `list`:"
   ]
  },
  {
   "cell_type": "code",
   "execution_count": 36,
   "id": "a838bbb8",
   "metadata": {},
   "outputs": [
    {
     "name": "stdout",
     "output_type": "stream",
     "text": [
      "[(0, 'a'), (1, 'p'), (2, 'p'), (3, 'l'), (4, 'e')]\n"
     ]
    }
   ],
   "source": [
    "print(list(enumerate('apple')))"
   ]
  },
  {
   "cell_type": "markdown",
   "id": "069eee47",
   "metadata": {},
   "source": [
    "Now the pattern is becoming apparent. Here, `list` plus `enumerate` created a list of tuples. How many elements are in this list?"
   ]
  },
  {
   "cell_type": "code",
   "execution_count": 39,
   "id": "f87f100c",
   "metadata": {},
   "outputs": [
    {
     "data": {
      "text/plain": [
       "5"
      ]
     },
     "execution_count": 39,
     "metadata": {},
     "output_type": "execute_result"
    }
   ],
   "source": [
    "len(list(enumerate('apple')))"
   ]
  },
  {
   "cell_type": "markdown",
   "id": "7ecabfb1",
   "metadata": {},
   "source": [
    "And what does the first element look like?"
   ]
  },
  {
   "cell_type": "code",
   "execution_count": 40,
   "id": "85bd19f1",
   "metadata": {},
   "outputs": [
    {
     "data": {
      "text/plain": [
       "(0, 'a')"
      ]
     },
     "execution_count": 40,
     "metadata": {},
     "output_type": "execute_result"
    }
   ],
   "source": [
    "list(enumerate('apple'))[0]"
   ]
  },
  {
   "cell_type": "markdown",
   "id": "cd13b585",
   "metadata": {},
   "source": [
    "Each element of this list is a tuple, that is itself made up of two elements. But what is the pattern that we can identify?"
   ]
  },
  {
   "cell_type": "code",
   "execution_count": 41,
   "id": "5267b63a",
   "metadata": {},
   "outputs": [
    {
     "data": {
      "text/plain": [
       "[(0, 'a'), (1, 'p'), (2, 'p'), (3, 'l'), (4, 'e')]"
      ]
     },
     "execution_count": 41,
     "metadata": {},
     "output_type": "execute_result"
    }
   ],
   "source": [
    "list(enumerate('apple'))"
   ]
  },
  {
   "cell_type": "code",
   "execution_count": 42,
   "id": "e9589048",
   "metadata": {},
   "outputs": [
    {
     "data": {
      "text/plain": [
       "[(0, 'b'), (1, 'e'), (2, 'a'), (3, 'r')]"
      ]
     },
     "execution_count": 42,
     "metadata": {},
     "output_type": "execute_result"
    }
   ],
   "source": [
    "list(enumerate('bear'))"
   ]
  },
  {
   "cell_type": "code",
   "execution_count": 43,
   "id": "2182dd02",
   "metadata": {},
   "outputs": [
    {
     "data": {
      "text/plain": [
       "[(0, 'p'), (1, 'e'), (2, 'a'), (3, 'c'), (4, 'e')]"
      ]
     },
     "execution_count": 43,
     "metadata": {},
     "output_type": "execute_result"
    }
   ],
   "source": [
    "list(enumerate('peace'))"
   ]
  },
  {
   "cell_type": "markdown",
   "id": "e5432a52",
   "metadata": {},
   "source": [
    "Enumerate is essentially breaking up our string into individual parts, and then attaching a number to those parts.\n",
    "\n",
    "So when we ask `for i, num in enumerate(somenums)`\n",
    "\n",
    "We are essentially asking for both parts of each element. The first part, which is the number, we call `i`. The second part, which is the piece of our original argument, we call `num`.\n",
    "\n",
    "`enumerate` isn't limited to strings, we can also use it with any kind of iterable:"
   ]
  },
  {
   "cell_type": "code",
   "execution_count": 44,
   "id": "37f02d7f",
   "metadata": {},
   "outputs": [
    {
     "data": {
      "text/plain": [
       "[(0, 12), (1, 15), (2, 3.5)]"
      ]
     },
     "execution_count": 44,
     "metadata": {},
     "output_type": "execute_result"
    }
   ],
   "source": [
    "list(enumerate([12, 15, 3.5]))"
   ]
  },
  {
   "cell_type": "markdown",
   "id": "7d147319",
   "metadata": {},
   "source": [
    "So lets go back to our original code.\n",
    "\n",
    "We say:\n",
    "\n",
    "`for i, num in enumerate(somenums):`\n",
    "\n",
    "This will iterate through our `somenums` object, creating tuples that store `i` the position and `num` the piece of the original object.\n",
    "\n",
    "When we then use `i` later in our code, we do so in combination with `sum` to have python `sum` all the values in our list up to a certain position. \n",
    "\n",
    "Now, we also could have solved this a different way, using `range`:"
   ]
  },
  {
   "cell_type": "code",
   "execution_count": 47,
   "id": "14e494cd",
   "metadata": {},
   "outputs": [],
   "source": [
    "def cumulative_sum(somenums):\n",
    "    output = []\n",
    "    for i in range(len(somenums)):\n",
    "        sum_so_far = sum(somenums[:i + 1])\n",
    "        output.append(sum_so_far)\n",
    "    return output"
   ]
  },
  {
   "cell_type": "code",
   "execution_count": 48,
   "id": "95a31b15",
   "metadata": {},
   "outputs": [
    {
     "data": {
      "text/plain": [
       "[1, 2, 3]"
      ]
     },
     "execution_count": 48,
     "metadata": {},
     "output_type": "execute_result"
    }
   ],
   "source": [
    "cumulative_sum([1, 1, 1])"
   ]
  },
  {
   "cell_type": "code",
   "execution_count": 49,
   "id": "45f68fc1",
   "metadata": {},
   "outputs": [
    {
     "data": {
      "text/plain": [
       "[2, 6, 12]"
      ]
     },
     "execution_count": 49,
     "metadata": {},
     "output_type": "execute_result"
    }
   ],
   "source": [
    "cumulative_sum([2, 4, 6])"
   ]
  },
  {
   "cell_type": "markdown",
   "id": "6a74ec20",
   "metadata": {},
   "source": [
    "Although `range` is a simpler way to approach the problem, we will see `enumerate` used several times later in the course. If its still confusing to you, don't worry. There will be more time to go over it in the future. But feel free to experiment and tinker with `enumerate`. Understanding it will give you one more tool to use later."
   ]
  },
  {
   "cell_type": "code",
   "execution_count": 45,
   "id": "0fb8dd15",
   "metadata": {},
   "outputs": [],
   "source": [
    "# ### Bonus Question 1\n",
    "# Create a function named twelveto24. \n",
    "# It should accept a string in the format 10:45am or 4:30pm and \n",
    "# return a string that is the representation of the time in a 24-hour format.\n",
    "\n",
    "def twelveto24(time):\n",
    "    try:\n",
    "        hour = ''\n",
    "        minute = ''\n",
    "        colon_position = time.rindex(':')\n",
    "        formatted_time = ''\n",
    "        if time[-2:] == 'am':\n",
    "            hour = int(time[:colon_position])\n",
    "            if int(hour) <= 11:\n",
    "                formatted_time = time[:-2]\n",
    "                return formatted_time\n",
    "            else:\n",
    "                hour = '00'\n",
    "                minute = time[colon_position + 1:-2]\n",
    "                formatted_time = hour + ':' + minute\n",
    "                return formatted_time\n",
    "        elif time[-2:] == 'pm':\n",
    "            hour = int(time[:colon_position]) + 12\n",
    "            minute = time[colon_position + 1:-2]\n",
    "            formatted_time = str(hour) + ':' + minute\n",
    "            return formatted_time\n",
    "        else:\n",
    "            return \"Please input the time in the correct format.\"\n",
    "    except ValueError:\n",
    "        return 'Please input the time in the correct format.'"
   ]
  },
  {
   "cell_type": "code",
   "execution_count": null,
   "id": "e1c68e50",
   "metadata": {},
   "outputs": [],
   "source": [
    "# Bonus write a function that does the opposite.\n",
    "\n",
    "def twelvefrom24(time24):\n",
    "    \n",
    "    colon_position = time24.rindex(':')\n",
    "    hour = time24[:colon_position]\n",
    "    minute = time24[colon_position + 1:]\n",
    "    formatted_time = ''\n",
    "    if int(hour) == 0:\n",
    "        hour = '12'\n",
    "        formatted_time = hour + ':' + minute + 'am'\n",
    "        return formatted_time\n",
    "    elif int(hour) < 12:\n",
    "        formatted_time = time24 + 'am'\n",
    "        return formatted_time\n",
    "    elif int(hour) == 12:\n",
    "        formatted_time = time24 + 'pm'\n",
    "        return formatted_time\n",
    "    else:\n",
    "        hour = int(hour) - 12\n",
    "        formatted_time = str(hour) + ':' + minute + 'pm'\n",
    "        return formatted_time"
   ]
  },
  {
   "cell_type": "code",
   "execution_count": null,
   "id": "4a9fb910",
   "metadata": {},
   "outputs": [],
   "source": [
    "# #### Bonus Question 2\n",
    "# Create a function named col_index. It should accept a spreadsheet column name, and return the index number of the column.\n",
    "# - col_index('A') returns 1\n",
    "# - col_index('B') returns 2\n",
    "# - col_index('AA') returns 27\n",
    "\n",
    "def col_index(col_name):\n",
    "    letter_to_num = {\n",
    "                    'A': 1, 'B': 2, 'C': 3, 'D': 4, 'E': 5, 'F': 6, 'G': 7,\n",
    "                    'H': 8, 'I': 9, 'J':10, 'K': 11, 'L': 12, 'M': 13, 'N': 14,\n",
    "                    'O': 15, 'P': 16, 'Q': 17, 'R': 18, 'S': 19, 'T': 20, 'U': 21,\n",
    "                    'V': 22, 'W': 23, 'X': 24, 'Y': 25, 'Z': 26\n",
    "                     }\n",
    "    col_value = 0\n",
    "    for index in range(-1, -(len(col_name)+1), -1):\n",
    "        col_value += letter_to_num[(col_name[index])] * (26 ** -(index + 1))\n",
    "    return col_value"
   ]
  },
  {
   "cell_type": "code",
   "execution_count": null,
   "id": "30c49f3b",
   "metadata": {},
   "outputs": [],
   "source": []
  }
 ],
 "metadata": {
  "kernelspec": {
   "display_name": "Python 3 (ipykernel)",
   "language": "python",
   "name": "python3"
  },
  "language_info": {
   "codemirror_mode": {
    "name": "ipython",
    "version": 3
   },
   "file_extension": ".py",
   "mimetype": "text/x-python",
   "name": "python",
   "nbconvert_exporter": "python",
   "pygments_lexer": "ipython3",
   "version": "3.8.12"
  }
 },
 "nbformat": 4,
 "nbformat_minor": 5
}
